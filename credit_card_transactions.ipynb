{
  "cells": [
    {
      "cell_type": "markdown",
      "metadata": {
        "id": "4GeTos_zbuG6"
      },
      "source": [
        "# Clases y funciones"
      ]
    },
    {
      "cell_type": "markdown",
      "metadata": {
        "id": "KS1CFaTKbuG7"
      },
      "source": [
        "## Clases"
      ]
    },
    {
      "cell_type": "markdown",
      "metadata": {
        "id": "cJjgV5XPbuG7"
      },
      "source": [
        "## Funciones"
      ]
    },
    {
      "cell_type": "markdown",
      "metadata": {
        "id": "t64t-Di7buG7"
      },
      "source": [
        "### Cálculo de distancia cliente y comercio"
      ]
    },
    {
      "cell_type": "code",
      "execution_count": 1,
      "metadata": {
        "id": "rebZdj2vbuG7"
      },
      "outputs": [],
      "source": [
        "def haversine(lat1, lon1, lat2, lon2):\n",
        "    R = 6371\n",
        "    dlat = np.radians(lat2 - lat1)\n",
        "    dlon = np.radians(lon2 - lon1)\n",
        "    a = (np.sin(dlat / 2) ** 2 +\n",
        "         np.cos(np.radians(lat1)) * np.cos(np.radians(lat2)) * np.sin(dlon / 2) ** 2)\n",
        "    c = 2 * np.arctan2(np.sqrt(a), np.sqrt(1 - a))\n",
        "    distance = R * c\n",
        "    return distance"
      ]
    },
    {
      "cell_type": "markdown",
      "metadata": {
        "id": "Jw4RifYwbuG9"
      },
      "source": [
        "# Cargar librerias y dataset"
      ]
    },
    {
      "cell_type": "markdown",
      "metadata": {
        "id": "jRB9b1LKbuG9"
      },
      "source": [
        "## Cargar librerias"
      ]
    },
    {
      "cell_type": "code",
      "execution_count": 2,
      "metadata": {
        "id": "E3vSPdIzbuG9"
      },
      "outputs": [],
      "source": [
        "import time\n",
        "import folium\n",
        "import requests\n",
        "import numpy as np\n",
        "import pandas as pd\n",
        "import seaborn as sns\n",
        "from scipy import stats\n",
        "import concurrent.futures\n",
        "import plotly.express as px\n",
        "import statsmodels.api as sm\n",
        "import matplotlib.pyplot as plt\n",
        "import plotly.graph_objects as go\n",
        "from folium.plugins import HeatMap\n",
        "from geopy.geocoders import Nominatim\n",
        "from geopy.exc import GeocoderTimedOut\n"
      ]
    },
    {
      "cell_type": "markdown",
      "metadata": {
        "id": "ujlxjRpVbuG9"
      },
      "source": [
        "## Cargar dataset"
      ]
    },
    {
      "cell_type": "code",
      "execution_count": 3,
      "metadata": {
        "id": "ZeJ4uv8wbuG-"
      },
      "outputs": [],
      "source": [
        "url= \"./../data/credit_card_transactions.csv\"\n",
        "data = pd.read_csv(url)\n",
        "data_copy = data.copy()"
      ]
    },
    {
      "cell_type": "markdown",
      "metadata": {
        "id": "3eC3gQWubxl2"
      },
      "source": [
        "# Preprocesamiento"
      ]
    },
    {
      "cell_type": "markdown",
      "metadata": {
        "id": "1FGFvW0VbuG-"
      },
      "source": [
        "## Análisis exploratorio"
      ]
    },
    {
      "cell_type": "markdown",
      "metadata": {
        "id": "fcy4W9aCbuG-"
      },
      "source": [
        "### Información general"
      ]
    },
    {
      "cell_type": "code",
      "execution_count": null,
      "metadata": {
        "colab": {
          "base_uri": "https://localhost:8080/"
        },
        "id": "4fzpIkLUbuG-",
        "outputId": "0f132e9e-047b-4503-854d-90f792a75930"
      },
      "outputs": [],
      "source": [
        "data_copy.info()"
      ]
    },
    {
      "cell_type": "markdown",
      "metadata": {
        "id": "vWDKZ0H1buG_"
      },
      "source": [
        "A partir del metodo .info se puedo encontrar esta información relevante:\n",
        "\n",
        "* Tiene un total de registro 1.296.675 entradas y 24 columnas en el data\n",
        "* Tipos datos:int64, float64 y object.\n",
        "* Valores nulos: Solamente la columna merch_zipcode tiene valores nulos NaN"
      ]
    },
    {
      "cell_type": "markdown",
      "metadata": {
        "id": "5s1ZTTvtbuG_"
      },
      "source": [
        "### Muestra aleatoria"
      ]
    },
    {
      "cell_type": "code",
      "execution_count": null,
      "metadata": {
        "colab": {
          "base_uri": "https://localhost:8080/",
          "height": 1000
        },
        "id": "3P7WUyZJbuG_",
        "outputId": "5f4c06a6-d9fd-4374-9673-5e843e60f31f"
      },
      "outputs": [],
      "source": [
        "data_copy.sample(30)"
      ]
    },
    {
      "cell_type": "markdown",
      "metadata": {
        "id": "S1cpY8IxbuG_"
      },
      "source": [
        "### Cantidad de valores nulos"
      ]
    },
    {
      "cell_type": "code",
      "execution_count": null,
      "metadata": {
        "colab": {
          "base_uri": "https://localhost:8080/",
          "height": 836
        },
        "id": "P_UjeE5CbuG_",
        "outputId": "f10da0a9-3de5-4db1-c8a9-7400c29e7fec"
      },
      "outputs": [],
      "source": [
        "data_copy.isnull().sum()"
      ]
    },
    {
      "cell_type": "markdown",
      "metadata": {
        "id": "gZl6gA2ibuHA"
      },
      "source": [
        "Se confirma la información obtenida con el método .info respecto a la columna merch_zipcode, la cual presenta un total de 195,973 valores nulos. Se recomienda realizar un análisis exhaustivo de la distribución de estos nulos para determinar si están concentrados en ciertas categorías o tipos de transacciones.\n",
        "\n",
        "Es fundamental evaluar cómo la falta de información en esta columna podría afectar el análisis, especialmente en el contexto de la detección de fraudes. Esta evaluación permitirá comprender el impacto que puede tener la ausencia de datos en la precisión y la efectividad de los modelos de detección.\n",
        "\n",
        "A partir de este análisis, será necesario decidir el método a utilizar para la imputación de datos o considerar la eliminación de la columna si su relevancia resulta limitada."
      ]
    },
    {
      "cell_type": "markdown",
      "metadata": {
        "id": "sW-UQNq6buHA"
      },
      "source": [
        "### Cantidad de valores unicos"
      ]
    },
    {
      "cell_type": "code",
      "execution_count": null,
      "metadata": {
        "colab": {
          "base_uri": "https://localhost:8080/",
          "height": 836
        },
        "id": "Io3_DN6hbuHA",
        "outputId": "2e4f0089-2d96-4d58-de2b-da90fba45321"
      },
      "outputs": [],
      "source": [
        "data_copy.nunique()"
      ]
    },
    {
      "cell_type": "markdown",
      "metadata": {
        "id": "sdXj3IXWbuHA"
      },
      "source": [
        "La información obtenida de los valores únicos del conjunto de datos es la siguiente:\n",
        "\n",
        "* **Transacciones y Clientes:** Se registraron un total de 1,296,675 transacciones, con solo 983 clientes únicos. Esto indica que muchos de estos clientes están realizando múltiples transacciones.\n",
        "\n",
        "* **Diversidad de Comercios:** La columna merchant contiene 693 valores únicos, lo que sugiere una diversidad de comercios o tiendas donde se realizan las transacciones.\n",
        "\n",
        "* **Clasificación de Categorías:** La columna category tiene solo 14 valores únicos, lo que indica que las transacciones se pueden clasificar en un número limitado de categorías.\n",
        "\n",
        "* **Inconsistencias Geográficas:** Las columnas city, state, zip, lat, long, y city_pop muestran valores únicos que no coinciden entre sí. Esto podría deberse a:\n",
        "\n",
        "        * Un cliente puede residir en una ciudad con múltiples códigos postales, o un código postal puede abarcar varias ciudades.\n",
        "\n",
        "        * Pueden existir errores de entrada que resulten en códigos postales incorrectos o datos de ubicación duplicados.\n",
        "\n",
        "        * Clientes que utilizan diferentes direcciones o que realizan transacciones en diferentes lugares.\n",
        "\n",
        "* **Diversidad Demográfica:** Las columnas gender, job, y dob indican una diversidad en la base de clientes.\n",
        "\n",
        "* **Posibles Duplicados:** Las columnas first y last tienen valores diferentes, lo que podría ser indicativo de clientes que comparten el mismo nombre o apellido, o podría señalar la existencia de valores duplicados.\n",
        "\n",
        "En base a la información obtenida, se pueden implementar las siguientes estrategias de análisis:\n",
        "\n",
        "* **Frecuencia de Compras por Cliente:** Explorar la frecuencia de compras por cliente para identificar patrones de comportamiento que puedan indicar riesgo de fraude.\n",
        "\n",
        "* **Detección de compras varias del mismo cliente:**  Utilizar las columnas trans_num y cc_num para detectar posibles duplicados y errores en los datos.\n",
        "\n",
        "* **Análisis Geográfico:** Examinar la distribución de las transacciones en función de las ubicaciones (ciudad, estado, etc.) para encontrar patrones que puedan ayudar a identificar fraudes.\n",
        "\n",
        "* **Análisis Demográfico:** Investigar cómo las características demográficas pueden relacionarse con la probabilidad de fraude."
      ]
    },
    {
      "cell_type": "markdown",
      "metadata": {},
      "source": [
        "### Detección de duplicados"
      ]
    },
    {
      "cell_type": "markdown",
      "metadata": {},
      "source": [
        "#### Duplicados generales"
      ]
    },
    {
      "cell_type": "code",
      "execution_count": null,
      "metadata": {},
      "outputs": [],
      "source": [
        "print(\"Esta es la cantidad de duplicados: \",data_copy[data_copy.duplicated()][\"cc_num\"].count())"
      ]
    },
    {
      "cell_type": "markdown",
      "metadata": {},
      "source": [
        "#### Transacciones múltiples"
      ]
    },
    {
      "cell_type": "markdown",
      "metadata": {},
      "source": [
        "##### Transacciones múltiples por tarjeta de crédito"
      ]
    },
    {
      "cell_type": "code",
      "execution_count": null,
      "metadata": {},
      "outputs": [],
      "source": [
        "dupli_ccnum = data_copy[data_copy[\"cc_num\"].duplicated()]\n",
        "print(f\"Esta es la cantidad total de transacciones múltiples por tarjeta de crédito: {dupli_ccnum['cc_num'].count()}\")"
      ]
    },
    {
      "cell_type": "markdown",
      "metadata": {},
      "source": [
        "##### Análisis de frecuencia de uso de tarjetas de crédito"
      ]
    },
    {
      "cell_type": "code",
      "execution_count": null,
      "metadata": {},
      "outputs": [],
      "source": [
        "pivot_dupli = dupli_ccnum.pivot_table(values=['trans_num', 'amt'], index='cc_num', aggfunc={'trans_num': 'count', 'amt': 'sum'}).sort_values(by='trans_num')\n",
        "pivot_dupli.rename(columns={\n",
        "    'trans_num': 'Cantidad de Usos',\n",
        "    'amt': 'Suma Total de Transacciones'\n",
        "}, inplace=True)\n",
        "\n",
        "pivot_dupli.sort_values(by='Suma Total de Transacciones', ascending=False, inplace=True)\n",
        "\n",
        "pivot_dupli"
      ]
    },
    {
      "cell_type": "code",
      "execution_count": null,
      "metadata": {},
      "outputs": [],
      "source": [
        "pivot_dupli.describe()"
      ]
    },
    {
      "cell_type": "markdown",
      "metadata": {},
      "source": [
        "A continuación, se presenta la información relevante extraída del método .describe() en el DataFrame pivot_dupli:\n",
        "\n",
        "* **Columna cantidad de usos**:\n",
        "    * El promedio de transacciones por tarjeta es aproximadamente 1,318.01, lo que sugiere un uso frecuente de las tarjetas.\n",
        "    * La desviación estándar es notablemente alta (62% de la media), lo que indica que algunas tarjetas tienen un número de transacciones significativamente mayor que otras.\n",
        "    * La tarjeta con el menor número de transacciones fue utilizada 6 veces, mientras que la de mayor uso lo fue 3,122 veces. Esto sugiere que existen usuarios muy activos con sus tarjetas.\n",
        "\n",
        "* **Columna suma total de transacciones**:\n",
        "    * El monto promedio de las transacciones es de 92,707.06, lo que indica un uso relativamente alto de las tarjetas en comparación con las transacciones diarias típicas.\n",
        "    * La desviación estándar también es alta (64% de la media), lo que sugiere una gran variabilidad en los montos, con algunas transacciones significativamente más altas que otras.\n",
        "    * El monto mínimo de una transacción es de 1,038.43, lo que indica la existencia de transacciones de menor valor, mientras que el monto máximo es de 296,353.63, lo que puede ser indicativo de transacciones inusualmente grandes y potencialmente fraudulentas.\n",
        "\n",
        "    **La amplia diferencia entre el número mínimo y máximo de transacciones, así como entre los montos mínimos y máximos, resalta la necesidad de realizar un análisis exhaustivo para detectar posibles fraudes. La alta desviación estándar en ambas columnas sugiere la presencia de comportamientos atípicos en el uso de tarjetas de crédito, lo que facilitará el proceso de análisis de fraudes..**"
      ]
    },
    {
      "cell_type": "markdown",
      "metadata": {},
      "source": [
        "##### Cantidad de transacciones duplicadas"
      ]
    },
    {
      "cell_type": "code",
      "execution_count": null,
      "metadata": {},
      "outputs": [],
      "source": [
        "print(\"Esta es la cantidad de transacciones cantidad de transacciones duplicadas:\",data_copy[data_copy[\"trans_num\"].duplicated()][\"trans_num\"].count())"
      ]
    },
    {
      "cell_type": "markdown",
      "metadata": {
        "id": "s-wr2JYNbuHA"
      },
      "source": [
        "### Muestra estadística descriptiva"
      ]
    },
    {
      "cell_type": "code",
      "execution_count": null,
      "metadata": {
        "colab": {
          "base_uri": "https://localhost:8080/",
          "height": 320
        },
        "id": "IOqjYWJtbuHA",
        "outputId": "af411431-28ec-4e62-ab46-c6d4e658f456"
      },
      "outputs": [],
      "source": [
        "data_copy.describe()"
      ]
    },
    {
      "cell_type": "markdown",
      "metadata": {
        "id": "OO6bpQqvbuHB"
      },
      "source": [
        "La información que se puede extraer del método .describe() es la siguiente:\n",
        "\n",
        "* La columna cc_num no proporciona información relevante, ya que solo contiene números de tarjeta de crédito. Sin embargo, podemos observar que los números de tarjeta van desde 60412621000 hasta 4992346000000000000.\n",
        "\n",
        "* El promedio de amt (monto de la transacción) es aproximadamente 70,35. El rango de transacciones está entre 1 y 28.948,90, con una desviación estándar de aproximadamente 160,31. Esto indica una gran variabilidad en los montos de transacción.\n",
        "\n",
        "* La columna zip varía entre 1257 y 99780, lo que indica que cubre una amplia variedad de áreas geográficas.\n",
        "\n",
        "* Las columnas lat (latitud) varían entre 20,03° y 66,69°, y long (longitud) entre -165,67° y -67,95°, cubriendo áreas desde Alaska hasta el este de los Estados Unidos.\n",
        "\n",
        "* En la columna city_pop (población de la ciudad), encontramos ciudades con poblaciones muy pequeñas (23 habitantes) y grandes metrópolis con hasta 2.906.700 habitantes.\n",
        "\n",
        "* Las columnas merch_lat y merch_long (latitud y longitud del comercio) tienen valores muy similares a las columnas lat y long, lo que indica que los comercios están distribuidos de manera similar a las ubicaciones de los compradores.\n",
        "\n",
        "* La columna merch_zipcode muestra variaciones significativas, lo que indica que los comercios están geográficamente distribuidos en una amplia variedad de áreas.\n",
        "\n",
        "**En general, se concluye que existe una gran variabilidad en los montos de las transacciones, aunque la mayoría son relativamente pequeñas (media = 70,35). Además, la latitud, longitud y los códigos postales muestran que el dataset abarca una gran cantidad de regiones geográficas. Las ciudades donde ocurren las transacciones varían enormemente en población, desde ciudades pequeñas (23 habitantes) hasta grandes metrópolis (2.906.700 habitantes).**"
      ]
    },
    {
      "cell_type": "markdown",
      "metadata": {
        "id": "5UBDFqVYbuHB"
      },
      "source": [
        "### Matriz de correlación"
      ]
    },
    {
      "cell_type": "code",
      "execution_count": null,
      "metadata": {
        "colab": {
          "base_uri": "https://localhost:8080/",
          "height": 919
        },
        "id": "z4NKmT2cbuHB",
        "outputId": "37d7e40f-2885-4e00-fca5-df427abfedac"
      },
      "outputs": [],
      "source": [
        "numeric_columns = data_copy.select_dtypes(include=['number']).columns\n",
        "\n",
        "correlation_matrix = data_copy[numeric_columns].corr()\n",
        "\n",
        "plt.figure(figsize=(12, 10))\n",
        "\n",
        "sns.heatmap(correlation_matrix, annot=True, fmt=\".2f\", cmap='coolwarm',\n",
        "            square=True, linewidths=.5, cbar_kws={\"shrink\": .8})\n",
        "\n",
        "plt.title('Matriz de Correlación', fontsize=16)\n",
        "plt.show()"
      ]
    },
    {
      "cell_type": "markdown",
      "metadata": {
        "id": "9fSPUpd-buHB"
      },
      "source": [
        "* **Relación entre is_fraud y las variables geográficas (zip, lat, long, merch_lat, merch_zipcode):** Las correlaciones extremadamente bajas (cercanas a 0) indican que la ubicación geográfica (tanto del comprador como del comerciante) no parece tener un impacto significativo en si una transacción es fraudulenta. Este hallazgo sugiere que los fraudes no están concentrados en zonas geográficas específicas.\n",
        "\n",
        "* **Relación entre amt y is_fraud:** Hay una correlación relativamente alta entre el monto de la transacción (amt) y is_fraud, lo que indica que las transacciones de mayor monto tienen más probabilidad de ser fraudulentas. Esto sugiere que el monto es un factor relevante para detectar fraude.\n",
        "\n",
        "* **Relación entre Unnamed: 0 y unix_time:** Existe una correlación casi perfecta entre Unnamed: 0 y unix_time. Esto sugiere que Unnamed: 0 es simplemente un índice basado en el tiempo o el orden de las transacciones, lo que lo hace redundante. Podría eliminarse en el análisis.\n",
        "\n",
        "* **Relación entre zip y merch_zipcode:** La alta correlación entre zip y merch_zipcode indica que muchas transacciones ocurren entre compradores y comerciantes que están geográficamente cercanos. Dado que esta información es redundante, puedes eliminar una de las dos columnas. Preferiblemente, eliminar merch_zipcode, ya que tienes la columna merchant que contiene el nombre del comercio y es más relevante.\n",
        "\n",
        "\n",
        "**En conclusión:**\n",
        "* **La variable is_fraud está más correlacionada con el monto de la transacción (amt) que con cualquier otra variable, lo que sugiere que las transacciones de mayor monto tienen mayor probabilidad de ser fraudulentas.**\n",
        "\n",
        "* **Las variables geográficas no muestran correlaciones significativas con el fraude, lo que implica que el fraude no está ligado a ubicaciones geográficas específicas.**\n",
        "\n",
        "* **Existen relaciones fuertes entre las ubicaciones de los compradores y comerciantes, lo que indica que las transacciones tienden a ocurrir en áreas geográficamente cercanas.**\n",
        "\n",
        "* **Es recomendable eliminar columnas con alta correlación (como Unnamed: 0 y merch_zipcode) por su naturaleza redundante, lo que permitirá enfocarse en las variables más relevantes para la predicción de fraude. Además, eliminando las columnas first y last probablamente no son útiles para identificar si una transacción es fraudulenta o no, esta no suele tener un impacto significativo en los patrones de fraude, porque el fraude no está relacionado con el nomnbre del cliente, sino con comportamiento anómalos, montos, numero de transacciones y ubicaciones**"
      ]
    },
    {
      "cell_type": "markdown",
      "metadata": {
        "id": "cNujp5T4ca0E"
      },
      "source": [
        "# Procesamiento"
      ]
    },
    {
      "cell_type": "markdown",
      "metadata": {
        "id": "Kv9oYjIJcyiN"
      },
      "source": [
        "## Enriquecimiento de datos"
      ]
    },
    {
      "cell_type": "markdown",
      "metadata": {
        "id": "rwN8fTbr-Xcw"
      },
      "source": [
        "### Creación de nuevas caracteristicas"
      ]
    },
    {
      "cell_type": "code",
      "execution_count": 15,
      "metadata": {
        "id": "XBaxIRUOBFoU"
      },
      "outputs": [],
      "source": [
        "# Se crea columna edad.\n",
        "data_copy['dob'] = pd.to_datetime(data_copy['dob'])\n",
        "data_copy['age'] = np.floor((pd.Timestamp.now() - data_copy['dob']).dt.days / 365.25).astype(\"int64\")\n",
        "\n",
        "# Se crea columna distancia entre el cliente y comercio\n",
        "data_copy['distance'] = data_copy.apply(lambda row: haversine(row['lat'], row['long'], row['merch_lat'], row['merch_long']), axis=1)\n",
        "\n",
        "# Se crea columna monto promedio por transacción\n",
        "data_copy['amount_per_transaction'] = data_copy.groupby('cc_num')['amt'].transform('mean')\n",
        "\n",
        "# Se crea columna relación entre el monto y la edad del titular\n",
        "data_copy['amount_per_age'] = data_copy['amt'] / data_copy['age']\n",
        "\n",
        "# Se crea columna días desde la última transacción\n",
        "data_copy['trans_date_trans_time'] = pd.to_datetime(data_copy['trans_date_trans_time'])\n",
        "data_copy['days_since_last_transaction'] = data_copy.groupby('cc_num')['trans_date_trans_time'].diff().dt.days.fillna(0)\n",
        "\n",
        "# Se crea columna monto total gastado por tarjeta\n",
        "data_copy['total_spent'] = data_copy.groupby('cc_num')['amt'].transform('sum')\n",
        "\n",
        "# Se crea columna diferencia de monto respecto al promedio\n",
        "data_copy['amount_diff'] = data_copy['amt'] - data_copy.groupby('cc_num')['amt'].transform('mean')\n",
        "\n",
        "# Se crea columna frecuencia de uso\n",
        "data_copy['transaction_count'] = data_copy.groupby('cc_num')['cc_num'].transform('count')\n",
        "\n",
        "# Se crea columna relacion entre el monto y la frecuencia de uso\n",
        "data_copy['amount_frequency_ratio'] = data_copy['amount_per_transaction'] / data_copy['transaction_count']\n",
        "\n",
        "# Se crea columna diferencia de tiempo entre transacciones\n",
        "data_copy['time_diff'] = data_copy.groupby('cc_num')['trans_date_trans_time'].diff().dt.total_seconds().fillna(0)\n",
        "\n",
        "# Se crea columna interacción entre la edad y el monto\n",
        "data_copy['age_amount_interaction'] = data_copy['age'] * data_copy['amt']\n",
        "\n",
        "# Se crea columna categorías de edad\n",
        "bins = [0, 25, 35, 45, 55, 65, 100]\n",
        "labels = ['<25', '25-34', '35-44', '45-54', '55-64', '65+']\n",
        "data_copy['age_group'] = pd.cut(data_copy['age'], bins=bins, labels=labels, right=False)\n",
        "\n",
        "# Se crea columna frecuencia de transacciones por cliente\n",
        "transaction_counts = data_copy['cc_num'].value_counts()\n",
        "data_copy['transaction_count'] = data_copy['cc_num'].map(transaction_counts)\n",
        "\n",
        "# Se crea columna frecuencia de transacciones por comercio\n",
        "merchant_counts = data_copy['merchant'].value_counts()\n",
        "data_copy['transaction_count_by_merchant'] = data_copy['merchant'].map(merchant_counts)\n",
        "\n",
        "# Se crea columna para saber cuantas categorias tiene el comercio\n",
        "unique_category_counts = data_copy.groupby('merchant')['category'].nunique()\n",
        "data_copy['nunique_category'] = data_copy['merchant'].map(unique_category_counts)\n"
      ]
    },
    {
      "cell_type": "markdown",
      "metadata": {
        "id": "nFG8CuR1buHB"
      },
      "source": [
        "### Eliminar columnas de dataset"
      ]
    },
    {
      "cell_type": "code",
      "execution_count": 16,
      "metadata": {
        "id": "W9xah7bJbuHC"
      },
      "outputs": [],
      "source": [
        "data_copy = data_copy.drop(columns=[\"dob\"])\n",
        "data_copy = data_copy.drop(columns=[\"Unnamed: 0\", \"unix_time\",\"merch_zipcode\"])"
      ]
    },
    {
      "cell_type": "markdown",
      "metadata": {
        "id": "kkoz0UXXdtbC"
      },
      "source": [
        "# Análisis"
      ]
    },
    {
      "cell_type": "markdown",
      "metadata": {},
      "source": [
        "## Análisis de todas las transacciones"
      ]
    },
    {
      "cell_type": "markdown",
      "metadata": {},
      "source": [
        "### Distribución General de las Categorías de Comercios"
      ]
    },
    {
      "cell_type": "code",
      "execution_count": null,
      "metadata": {},
      "outputs": [],
      "source": [
        "# Agrupar comercios por categoría\n",
        "category_counts = data_copy.groupby('category')['merchant'].count().reset_index()\n",
        "\n",
        "\n",
        "# Ordenar los resultados\n",
        "category_counts = category_counts.sort_values(by='merchant', ascending=False)\n",
        "\n",
        "# Graficar la distribución por categorías\n",
        "fig = px.bar(category_counts, \n",
        "              x='category', \n",
        "              y='merchant', \n",
        "              title='Número de Transacciones por Categoría de Comercio',\n",
        "              labels={'category': 'Categoría de Comercio', 'merchant': 'Número de Transacciones'})\n",
        "\n",
        "# Mejorar la visualización\n",
        "fig.update_layout(xaxis_tickangle=-90)\n",
        "\n",
        "# Mostrar el gráfico interactivo\n",
        "fig.show()"
      ]
    },
    {
      "cell_type": "markdown",
      "metadata": {},
      "source": [
        "### Número de transacciones por comercio en cada categoría"
      ]
    },
    {
      "cell_type": "code",
      "execution_count": null,
      "metadata": {},
      "outputs": [],
      "source": [
        "categories = data_copy['category'].unique()\n",
        "\n",
        "all_merchant_counts = []\n",
        "\n",
        "for category in categories:\n",
        "    category_data = data_copy[data_copy['category'] == category]\n",
        "    \n",
        "    merchant_counts = category_data['merchant'].value_counts().reset_index()\n",
        "    merchant_counts.columns = ['merchant', 'transaction_count']\n",
        "    \n",
        "    total_transactions = merchant_counts['transaction_count'].sum()\n",
        "    \n",
        "    merchant_counts['percentage'] = (merchant_counts['transaction_count'] / total_transactions) * 100\n",
        "    \n",
        "    merchant_counts['category'] = category\n",
        "    \n",
        "    all_merchant_counts.append(merchant_counts)\n",
        "\n",
        "all_merchant_counts_df = pd.concat(all_merchant_counts, ignore_index=True)\n",
        "\n",
        "fig = px.bar(all_merchant_counts_df, \n",
        "              x='merchant', \n",
        "              y='transaction_count', \n",
        "              color='category',\n",
        "              title='Número de Transacciones por Comerciante en Cada Categoría',\n",
        "              labels={'merchant': 'Comerciante', 'transaction_count': 'Número de Transacciones'},\n",
        "              barmode='stack')\n",
        "\n",
        "fig.update_layout(xaxis_tickangle=-90)\n",
        "\n",
        "fig.show()\n"
      ]
    },
    {
      "cell_type": "code",
      "execution_count": null,
      "metadata": {},
      "outputs": [],
      "source": [
        "result = all_merchant_counts_df.groupby('merchant').agg(\n",
        "    transaction_count=('transaction_count', 'sum'),\n",
        "    percentage=('percentage', 'sum'),\n",
        "    category=('category', lambda x: ', '.join(set(x)))\n",
        ").reset_index()\n",
        "\n",
        "result = result.sort_values(by='transaction_count', ascending=False).head(10)\n",
        "\n",
        "result"
      ]
    },
    {
      "cell_type": "markdown",
      "metadata": {},
      "source": [
        "### Comercios con múltiples categorías"
      ]
    },
    {
      "cell_type": "code",
      "execution_count": null,
      "metadata": {},
      "outputs": [],
      "source": [
        "merchant_categories = data_copy.groupby('merchant')['category'].agg(lambda x: list(set(x))).reset_index()\n",
        "\n",
        "merchant_categories.columns = ['merchant', 'categories']\n",
        "\n",
        "multiple_categories_merchants = merchant_categories[merchant_categories['categories'].apply(lambda x: len(x) > 1)]\n",
        "\n",
        "multiple_categories_merchants = multiple_categories_merchants.set_index('merchant')\n",
        "\n",
        "multiple_categories_merchants"
      ]
    },
    {
      "cell_type": "markdown",
      "metadata": {},
      "source": [
        "### Transacciones con montos más frecuentes"
      ]
    },
    {
      "cell_type": "code",
      "execution_count": null,
      "metadata": {},
      "outputs": [],
      "source": [
        "frequent_amounts = data_copy['amt'].value_counts().reset_index()\n",
        "frequent_amounts.columns = ['amount', 'frequency']\n",
        "\n",
        "frequent_amounts = frequent_amounts.sort_values(by='frequency', ascending=False)\n",
        "\n",
        "bins = [0, 100, 500, 1000, 5000, 10000, 30000] \n",
        "labels = ['0-100', '101-500', '501-1000', '1001-5000', '5001-10000', '10001-30000']\n",
        "\n",
        "frequent_amounts['amount_range'] = pd.cut(frequent_amounts['amount'], bins=bins, labels=labels, right=False)\n",
        "\n",
        "grouped_data = frequent_amounts.groupby('amount_range')['frequency'].sum().reset_index()\n",
        "\n",
        "fig = px.bar(\n",
        "    grouped_data,\n",
        "    x='amount_range',\n",
        "    y='frequency',\n",
        "    title='Frecuencia de los Montos por Rangos',\n",
        "    labels={'amount_range': 'Rango de Montos', 'frequency': 'Frecuencia'},\n",
        "    text='frequency' \n",
        ")\n",
        "\n",
        "fig.update_layout(xaxis_title='Rango de Montos', yaxis_title='Frecuencia', bargap=0.2)\n",
        "\n",
        "fig.show()\n"
      ]
    },
    {
      "cell_type": "code",
      "execution_count": null,
      "metadata": {},
      "outputs": [],
      "source": [
        "fig = px.bar(\n",
        "    frequent_amounts.head(100),\n",
        "    x='amount',\n",
        "    y='frequency',\n",
        "    title='Top 100 Montos Más Frecuentes en Transacciones',\n",
        "    labels={'amount': 'Montos', 'frequency': 'Frecuencia'},\n",
        "    color='frequency',\n",
        "    color_continuous_scale='Blues'\n",
        ")\n",
        "\n",
        "fig.show()"
      ]
    },
    {
      "cell_type": "markdown",
      "metadata": {},
      "source": [
        "### Monto total por comerciante"
      ]
    },
    {
      "cell_type": "code",
      "execution_count": null,
      "metadata": {},
      "outputs": [],
      "source": [
        "merchant_volumes = data_copy.groupby('merchant')['amt'].sum().reset_index()\n",
        "merchant_volumes.columns = ['merchant', 'total_volume']\n",
        "\n",
        "total_volume = merchant_volumes['total_volume'].sum()\n",
        "\n",
        "merchant_volumes['percentage_of_total'] = (merchant_volumes['total_volume'] / total_volume) * 100\n",
        "\n",
        "merchant_volumes = merchant_volumes.sort_values(by='total_volume', ascending=False)\n",
        "\n",
        "merchant_volumes.head(10) \n"
      ]
    },
    {
      "cell_type": "markdown",
      "metadata": {},
      "source": [
        "### Análisis descriptivo"
      ]
    },
    {
      "cell_type": "markdown",
      "metadata": {},
      "source": [
        "#### Visualizacion"
      ]
    },
    {
      "cell_type": "code",
      "execution_count": null,
      "metadata": {},
      "outputs": [],
      "source": [
        "fig1 = px.box(data_copy, y='amt', title='Boxplot de Monto (amt) para Todas las Transacciones')\n",
        "fig1.update_yaxes(title_text='Monto (amt)')\n",
        "fig1.show()\n",
        "\n",
        "# Crear un boxplot para la edad\n",
        "fig2 = px.box(data_copy, y='age', title='Boxplot de Edad para Todas las Transacciones')\n",
        "fig2.update_yaxes(title_text='Edad')\n",
        "fig2.show()\n",
        "\n",
        "# Crear un boxplot para la distancia\n",
        "fig3 = px.box(data_copy, y='distance', title='Boxplot de Distancia para Todas las Transacciones')\n",
        "fig3.update_yaxes(title_text='Distancia')\n",
        "fig3.show()"
      ]
    },
    {
      "cell_type": "code",
      "execution_count": null,
      "metadata": {},
      "outputs": [],
      "source": [
        "# Crea un objeto de figura y una cuadrícula de subgráficas\n",
        "fig, axs = plt.subplots(3, 1, figsize=(12, 18))\n",
        "\n",
        "# Histograma para 'amt'\n",
        "sns.histplot(data_copy['amt'], bins=30, kde=True, ax=axs[0])\n",
        "axs[0].set_title('Distribución del Monto (amt) para Transacciones')\n",
        "axs[0].set_xlabel('Monto (amt)')\n",
        "axs[0].set_ylabel('Frecuencia')\n",
        "\n",
        "# Histograma para 'age'\n",
        "sns.histplot(data_copy['age'], bins=30, kde=True, ax=axs[1])\n",
        "axs[1].set_title('Distribución de Edad para Transacciones')\n",
        "axs[1].set_xlabel('Edad')\n",
        "axs[1].set_ylabel('Frecuencia')\n",
        "\n",
        "# Histograma para 'distance'\n",
        "sns.histplot(data_copy['distance'], bins=30, kde=True, ax=axs[2])\n",
        "axs[2].set_title('Distribución de Distancia para Transacciones')\n",
        "axs[2].set_xlabel('Distancia')\n",
        "axs[2].set_ylabel('Frecuencia')\n",
        "\n",
        "# Ajustar el espacio entre subgráficas\n",
        "plt.tight_layout()\n",
        "plt.show()"
      ]
    },
    {
      "cell_type": "markdown",
      "metadata": {},
      "source": [
        "#### Correlaciones"
      ]
    },
    {
      "cell_type": "code",
      "execution_count": null,
      "metadata": {},
      "outputs": [],
      "source": [
        "numeric_columns = data_copy.select_dtypes(include='number')\n",
        "\n",
        "correlation_matrix = numeric_columns.corr()\n",
        "\n",
        "plt.figure(figsize=(20, 12))\n",
        "sns.heatmap(correlation_matrix, annot=True, cmap='coolwarm', fmt=\".2f\", linewidths=.5)\n",
        "plt.title('Matriz de Correlación para Transacciones')\n",
        "plt.show()"
      ]
    },
    {
      "cell_type": "markdown",
      "metadata": {},
      "source": []
    },
    {
      "cell_type": "markdown",
      "metadata": {},
      "source": [
        "#### Segmentación de tiempo"
      ]
    },
    {
      "cell_type": "markdown",
      "metadata": {},
      "source": [
        "##### Segmentación de tiempo día de la semana"
      ]
    },
    {
      "cell_type": "code",
      "execution_count": null,
      "metadata": {},
      "outputs": [],
      "source": [
        "data_copy['day_of_week'] = data_copy['trans_date_trans_time'].dt.day_name()\n",
        "\n",
        "weekly_count = data_copy.groupby('day_of_week').size()\n",
        "\n",
        "days_order = ['Monday', 'Tuesday', 'Wednesday', 'Thursday', 'Friday', 'Saturday', 'Sunday']\n",
        "weekly_count = weekly_count.reindex(days_order, fill_value=0)\n",
        "\n",
        "fig = go.Figure(data=[\n",
        "    go.Bar(\n",
        "        x=weekly_count.index,  \n",
        "        y=weekly_count.values,  \n",
        "        marker_color='orange'  \n",
        "    )\n",
        "])\n",
        "\n",
        "fig.update_layout(\n",
        "    title=\"Conteo de Transacciones por Día de la Semana\",\n",
        "    xaxis_title=\"Día de la Semana\",\n",
        "    yaxis_title=\"Número de Transacciones\",\n",
        "    xaxis_tickangle=-45,  \n",
        "    width=800,\n",
        "    height=500\n",
        ")\n",
        "\n",
        "fig.show()"
      ]
    },
    {
      "cell_type": "markdown",
      "metadata": {},
      "source": [
        "##### Segmentación tiempo por semana"
      ]
    },
    {
      "cell_type": "code",
      "execution_count": null,
      "metadata": {},
      "outputs": [],
      "source": [
        "weekly_count = data_copy.groupby(data_copy['trans_date_trans_time'].dt.isocalendar().week).size().reset_index(name='count')\n",
        "\n",
        "weekly_count.columns = ['Semana del Año', 'Número de Transacciones']\n",
        "\n",
        "fig = px.bar(weekly_count, \n",
        "             x='Semana del Año', \n",
        "             y='Número de Transacciones', \n",
        "             title='Conteo de Transacciones por Semana',\n",
        "             labels={'Semana del Año': 'Semana del Año', 'Número de Transacciones': 'Número de Transacciones'},\n",
        "             text='Número de Transacciones',  \n",
        "             color='Número de Transacciones',  \n",
        "             color_continuous_scale=px.colors.sequential.Viridis)  \n",
        "\n",
        "fig.update_traces(texttemplate='%{text:.2s}', textposition='outside')  \n",
        "fig.update_layout(xaxis=dict(tickmode='linear'),  \n",
        "                  height=500)  \n",
        "\n",
        "fig.show()"
      ]
    },
    {
      "cell_type": "markdown",
      "metadata": {},
      "source": [
        "##### Segmentación tiempo mensual"
      ]
    },
    {
      "cell_type": "code",
      "execution_count": null,
      "metadata": {},
      "outputs": [],
      "source": [
        "monthly_count = data_copy.groupby(data_copy['trans_date_trans_time'].dt.month).size().reset_index(name='count')\n",
        "\n",
        "monthly_count.columns = ['Mes', 'Número de Transacciones']\n",
        "\n",
        "fig = px.bar(monthly_count, \n",
        "             x='Mes', \n",
        "             y='Número de Transacciones', \n",
        "             title='Conteo de Transacciones por Mes',\n",
        "             labels={'Mes': 'Mes', 'Número de Transacciones': 'Número de Transacciones'},\n",
        "             text='Número de Transacciones',  \n",
        "             color='Número de Transacciones',  \n",
        "             color_continuous_scale=px.colors.sequential.Viridis)  \n",
        "\n",
        "\n",
        "fig.update_traces(texttemplate='%{text:.2s}', textposition='outside') \n",
        "fig.update_layout(xaxis=dict(tickmode='linear'), \n",
        "                  height=500, \n",
        "                  xaxis_title='Mes',  \n",
        "                  yaxis_title='Número de Transacciones')  \n",
        "\n",
        "\n",
        "fig.show()\n"
      ]
    },
    {
      "cell_type": "markdown",
      "metadata": {},
      "source": [
        "##### Segmentación de tiempo trimestral"
      ]
    },
    {
      "cell_type": "code",
      "execution_count": null,
      "metadata": {},
      "outputs": [],
      "source": [
        "quarterly_count = data_copy.groupby(data_copy['trans_date_trans_time'].dt.to_period('Q')).size().reset_index(name='count')\n",
        "\n",
        "quarterly_count['Trimestre'] = quarterly_count['trans_date_trans_time'].dt.strftime('%Y-Q%q')\n",
        "\n",
        "quarterly_count = quarterly_count[['Trimestre', 'count']]\n",
        "\n",
        "quarterly_count.columns = ['Trimestre', 'Número de Transacciones']\n",
        "\n",
        "fig = px.bar(quarterly_count, \n",
        "             x='Trimestre', \n",
        "             y='Número de Transacciones',  \n",
        "             title='Conteo de Transacciones por Trimestre',  \n",
        "             labels={'Trimestre': 'Trimestre', 'Número de Transacciones': 'Número de Transacciones'},  \n",
        "             text='Número de Transacciones',  \n",
        "             color='Número de Transacciones',  \n",
        "             color_continuous_scale=px.colors.sequential.Viridis)  \n",
        "\n",
        "fig.update_traces(texttemplate='%{text:.2s}', textposition='outside')  \n",
        "fig.update_layout(xaxis=dict(tickmode='linear'),  \n",
        "                  height=500,  \n",
        "                  xaxis_title='Trimestre',  \n",
        "                  yaxis_title='Número de Transacciones')  \n",
        "\n",
        "\n",
        "fig.show()\n"
      ]
    },
    {
      "cell_type": "markdown",
      "metadata": {},
      "source": [
        "##### Segmentación de tiempo semestral"
      ]
    },
    {
      "cell_type": "code",
      "execution_count": null,
      "metadata": {},
      "outputs": [],
      "source": [
        "data_copy['semester'] = (data_copy['trans_date_trans_time'].dt.month - 1) // 6 + 1\n",
        "\n",
        "semiannual_count = data_copy.groupby('semester').size().reset_index(name='count')\n",
        "\n",
        "fig = px.bar(semiannual_count, \n",
        "             x='semester', \n",
        "             y='count', \n",
        "             title='Conteo de Transacciones por Semestre', \n",
        "             labels={'semester': 'Semestre', 'count': 'Número de Transacciones'}, \n",
        "             text='count',  \n",
        "             color='count',  \n",
        "             color_continuous_scale=px.colors.sequential.Viridis)  \n",
        "\n",
        "fig.update_traces(texttemplate='%{text:.2s}', textposition='outside')  \n",
        "fig.update_layout(xaxis=dict(tickmode='linear'),  \n",
        "                  height=500,  \n",
        "                  xaxis_title='Semestre', \n",
        "                  yaxis_title='Número de Transacciones') \n",
        "\n",
        "fig.show()"
      ]
    },
    {
      "cell_type": "markdown",
      "metadata": {},
      "source": [
        "##### Segmentación de tiempo anual"
      ]
    },
    {
      "cell_type": "code",
      "execution_count": null,
      "metadata": {},
      "outputs": [],
      "source": [
        "yearly_count = data_copy.groupby(data_copy['trans_date_trans_time'].dt.year).size().reset_index(name='count')\n",
        "\n",
        "# Crear la gráfica de barras interactiva\n",
        "fig = px.bar(yearly_count, \n",
        "             x='trans_date_trans_time',  # Eje x como el año\n",
        "             y='count', \n",
        "             title='Conteo de Transacciones por Año', \n",
        "             labels={'trans_date_trans_time': 'Año', 'count': 'Número de Transacciones'}, \n",
        "             text='count',  # Mostrar el conteo en las barras\n",
        "             color='count',  # Color según el número de transacciones\n",
        "             color_continuous_scale=px.colors.sequential.Viridis)  # Escala de color\n",
        "\n",
        "# Actualizar el diseño\n",
        "fig.update_traces(texttemplate='%{text:.2s}', textposition='outside')  # Formato de texto\n",
        "fig.update_layout(xaxis=dict(tickmode='linear'),  # Modo de ticks del eje x\n",
        "                  height=500,  # Altura de la figura\n",
        "                  xaxis_title='Año',  # Título del eje x\n",
        "                  yaxis_title='Número de Transacciones')  # Título del eje y\n",
        "\n",
        "# Mostrar el gráfico interactivo\n",
        "fig.show()"
      ]
    },
    {
      "cell_type": "markdown",
      "metadata": {},
      "source": [
        "#### Análisis de variables cuantitativas"
      ]
    },
    {
      "cell_type": "markdown",
      "metadata": {},
      "source": [
        "##### Análisis de distancia"
      ]
    },
    {
      "cell_type": "code",
      "execution_count": null,
      "metadata": {},
      "outputs": [],
      "source": [
        "plt.figure(figsize=(10, 5))\n",
        "# Crear el gráfico de dispersión y la línea de regresión\n",
        "sns.regplot(x='distance', y='amt', data=data_copy, scatter_kws={'alpha':0.5}, line_kws={\"color\":\"red\"})\n",
        "plt.title('Relación entre Distancia y Monto de Transacciones Fraudulentas')\n",
        "plt.xlabel('Distancia')\n",
        "plt.ylabel('Monto')\n",
        "plt.show()"
      ]
    },
    {
      "cell_type": "code",
      "execution_count": null,
      "metadata": {},
      "outputs": [],
      "source": [
        "# Crear el pairplot con hue para distinguir entre fraude y no fraude\n",
        "sns.pairplot(data_copy[['amount_per_transaction', 'amount_per_age', \n",
        "                        'amount_frequency_ratio', 'age_amount_interaction', 'amount_diff', 'is_fraud']], \n",
        "             diag_kind='kde', corner=True, hue='is_fraud', palette='coolwarm')\n",
        "\n",
        "# Añadir título\n",
        "plt.suptitle('Relaciones entre las Variables Segmentadas por Fraude', y=1.02)\n",
        "\n",
        "# Mostrar el gráfico\n",
        "plt.show()"
      ]
    },
    {
      "cell_type": "code",
      "execution_count": null,
      "metadata": {},
      "outputs": [],
      "source": [
        "fig, axes = plt.subplots(2, 3, figsize=(20, 12))\n",
        "\n",
        "# Distribuciones por target usando hue para `is_fraud`\n",
        "sns.boxplot(data=data_copy, x='is_fraud', y='amount_per_transaction', ax=axes[0, 0])\n",
        "axes[0, 0].set_title('amount_per_transaction vs is_fraud')\n",
        "\n",
        "sns.boxplot(data=data_copy, x='is_fraud', y='amount_per_age', ax=axes[0, 1])\n",
        "axes[0, 1].set_title('amount_per_age vs is_fraud')\n",
        "\n",
        "sns.boxplot(data=data_copy, x='is_fraud', y='amount_frequency_ratio', ax=axes[0, 2])\n",
        "axes[0, 2].set_title('amount_frequency_ratio vs is_fraud')\n",
        "\n",
        "sns.boxplot(data=data_copy, x='is_fraud', y='age_amount_interaction', ax=axes[1, 0])\n",
        "axes[1, 0].set_title('age_amount_interaction vs is_fraud')\n",
        "\n",
        "sns.boxplot(data=data_copy, x='is_fraud', y='amount_diff', ax=axes[1, 1])\n",
        "axes[1, 1].set_title('amount_diff vs is_fraud')\n",
        "\n",
        "axes[1, 2].axis('off')  # Ocultar último eje\n",
        "\n",
        "plt.tight_layout()\n",
        "plt.show()\n"
      ]
    },
    {
      "cell_type": "code",
      "execution_count": null,
      "metadata": {},
      "outputs": [],
      "source": [
        "fig, axes = plt.subplots(2, 3, figsize=(20, 12))\n",
        "\n",
        "# KDE plots para comparar distribuciones\n",
        "sns.kdeplot(data=data_copy, x='amount_per_transaction', hue='is_fraud', fill=True, ax=axes[0, 0])\n",
        "axes[0, 0].set_title('Distribución de amount_per_transaction')\n",
        "\n",
        "sns.kdeplot(data=data_copy, x='amount_per_age', hue='is_fraud', fill=True, ax=axes[0, 1])\n",
        "axes[0, 1].set_title('Distribución de amount_per_age')\n",
        "\n",
        "sns.kdeplot(data=data_copy, x='amount_frequency_ratio', hue='is_fraud', fill=True, ax=axes[0, 2])\n",
        "axes[0, 2].set_title('Distribución de amount_frequency_ratio')\n",
        "\n",
        "sns.kdeplot(data=data_copy, x='age_amount_interaction', hue='is_fraud', fill=True, ax=axes[1, 0])\n",
        "axes[1, 0].set_title('Distribución de age_amount_interaction')\n",
        "\n",
        "sns.kdeplot(data=data_copy, x='amount_diff', hue='is_fraud', fill=True, ax=axes[1, 1])\n",
        "axes[1, 1].set_title('Distribución de amount_diff')\n",
        "\n",
        "axes[1, 2].axis('off')  # Ocultar último eje\n",
        "\n",
        "plt.tight_layout()\n",
        "plt.show()\n",
        "\n",
        "\n"
      ]
    },
    {
      "cell_type": "code",
      "execution_count": null,
      "metadata": {},
      "outputs": [],
      "source": [
        "from scipy.stats import ttest_ind\n",
        "\n",
        "# Realizar t-tests para cada variable\n",
        "variables = ['amount_per_transaction', 'amount_per_age', \n",
        "             'amount_frequency_ratio', 'age_amount_interaction', 'amount_diff']\n",
        "\n",
        "for var in variables:\n",
        "    fraud = data_copy[data_copy['is_fraud'] == 1][var]\n",
        "    non_fraud = data_copy[data_copy['is_fraud'] == 0][var]\n",
        "    \n",
        "    stat, p = ttest_ind(fraud, non_fraud, equal_var=False)\n",
        "    print(f\"T-test para {var}: estadístico={stat:.4f}, p-valor={p:.4f}\")\n"
      ]
    },
    {
      "cell_type": "code",
      "execution_count": null,
      "metadata": {},
      "outputs": [],
      "source": [
        "from sklearn.model_selection import train_test_split\n",
        "from sklearn.linear_model import LogisticRegression\n",
        "from sklearn.metrics import classification_report\n",
        "\n",
        "# Definir variables predictoras y target\n",
        "X = data_copy[['amount_per_transaction', 'amount_per_age', \n",
        "               'amount_frequency_ratio', 'age_amount_interaction', 'amount_diff']]\n",
        "y = data_copy['is_fraud']\n",
        "\n",
        "# Separar en conjunto de entrenamiento y prueba\n",
        "X_train, X_test, y_train, y_test = train_test_split(X, y, test_size=0.3, random_state=42)\n",
        "\n",
        "# Entrenar modelo de regresión logística\n",
        "model = LogisticRegression(max_iter=1000)\n",
        "model.fit(X_train, y_train)\n",
        "\n",
        "# Evaluar el modelo\n",
        "y_pred = model.predict(X_test)\n",
        "print(classification_report(y_test, y_pred))\n",
        "\n",
        "# Mostrar los coeficientes del modelo\n",
        "coef_df = pd.DataFrame(model.coef_[0], index=X.columns, columns=['Coeficiente'])\n",
        "print(coef_df.sort_values(by='Coeficiente', ascending=False))\n"
      ]
    },
    {
      "cell_type": "markdown",
      "metadata": {},
      "source": [
        "#### Análsis de variable categóricas"
      ]
    },
    {
      "cell_type": "code",
      "execution_count": null,
      "metadata": {},
      "outputs": [],
      "source": [
        "categorical_vars = ['category', 'gender', 'state','age_group']\n",
        "\n",
        "plt.figure(figsize=(15, len(categorical_vars) * 5))\n",
        "for i, var in enumerate(categorical_vars):\n",
        "    plt.subplot(len(categorical_vars), 1, i + 1)\n",
        "    sns.countplot(x=var, hue='is_fraud', data=data_copy)\n",
        "    plt.title(f'Distribución de {var} para Fraude')\n",
        "    plt.xticks(rotation=45)\n",
        "\n",
        "plt.tight_layout()\n",
        "plt.show()"
      ]
    },
    {
      "cell_type": "code",
      "execution_count": null,
      "metadata": {},
      "outputs": [],
      "source": []
    },
    {
      "cell_type": "code",
      "execution_count": null,
      "metadata": {},
      "outputs": [],
      "source": []
    },
    {
      "cell_type": "code",
      "execution_count": null,
      "metadata": {},
      "outputs": [],
      "source": [
        "amount_per_transaction, amount_per_age, amount_frequency_ratio, age_amount_interaction,amount_diff"
      ]
    },
    {
      "cell_type": "code",
      "execution_count": null,
      "metadata": {},
      "outputs": [],
      "source": []
    },
    {
      "cell_type": "markdown",
      "metadata": {
        "id": "OZ3tuiHScv5O"
      },
      "source": [
        "## Análisis Transacciones Fraudulentas"
      ]
    },
    {
      "cell_type": "code",
      "execution_count": 34,
      "metadata": {
        "id": "OR-jIUT2yPEl"
      },
      "outputs": [],
      "source": [
        "fraudulent_transactions = data_copy[data_copy[\"is_fraud\"]==1]"
      ]
    },
    {
      "cell_type": "markdown",
      "metadata": {
        "id": "F-OY1zEnd2ns"
      },
      "source": [
        "### Análisis descriptivo"
      ]
    },
    {
      "cell_type": "markdown",
      "metadata": {
        "id": "jpdrCTwBeFtU"
      },
      "source": [
        "#### Visualización"
      ]
    },
    {
      "cell_type": "code",
      "execution_count": null,
      "metadata": {
        "colab": {
          "base_uri": "https://localhost:8080/",
          "height": 410
        },
        "id": "AO8rUMs7uFmL",
        "outputId": "e50208e1-6dfc-4c3a-e50c-dddf3feeb722"
      },
      "outputs": [],
      "source": [
        "fig, axes = plt.subplots(1, 3, figsize=(18, 6))\n",
        "\n",
        "sns.boxplot(y='amt', data=fraudulent_transactions, ax=axes[0])\n",
        "axes[0].set_title('Boxplot de Monto (amt) para Transacciones Fraudulentas')\n",
        "axes[0].set_ylabel('Monto (amt)')\n",
        "\n",
        "sns.boxplot(y='age', data=fraudulent_transactions, ax=axes[1])\n",
        "axes[1].set_title('Boxplot de Edad para Transacciones Fraudulentas')\n",
        "axes[1].set_ylabel('Edad')\n",
        "\n",
        "sns.boxplot(y='distance', data=fraudulent_transactions, ax=axes[2])\n",
        "axes[2].set_title('Boxplot de Distancia para Transacciones Fraudulentas')\n",
        "axes[2].set_ylabel('Distancia')\n",
        "\n",
        "plt.tight_layout()\n",
        "plt.show()"
      ]
    },
    {
      "cell_type": "markdown",
      "metadata": {
        "id": "wW7efTUt55bh"
      },
      "source": [
        "**Boxplot amt:**\n",
        "\n",
        "Las transacciones fraudulentas tienden a involucrar montos relativamente pequeños, con una mediana que sugiere que la mayoría de los fraudes ocurren en cantidades más manejables. Sin embargo, existen algunas transacciones significativamente grandes que distorsionan la distribución, lo que indica que los fraudes de alto valor, aunque menos comunes, representan un riesgo considerable.\n",
        "\n",
        "**Boxplot edad:**\n",
        "\n",
        "La mayoría de las transacciones fraudulentas involucran a personas de edad media (entre 38 y 65 años), lo que sugiere que este grupo podría estar más expuesto o involucrado en fraudes. Sin embargo, los valores atípicos en edades muy jóvenes o mayores pueden indicar excepciones notables, lo que sugiere la necesidad de prestar atención a fraudes en estos extremos de edad.\n",
        "\n",
        "**Boxplot distancia:**\n",
        "\n",
        "Las transacciones fraudulentas tienden a ocurrir a distancias moderadas del usuario (entre 58 y 100 unidades), lo que sugiere que los fraudes a menudo se realizan en ubicaciones cercanas. Sin embargo, los valores atípicos en los extremos, tanto en distancias muy cortas como muy largas, podrían indicar fraudes inusuales, con posibles implicaciones de acceso cercano o actividades fraudulentas a gran distancia."
      ]
    },
    {
      "cell_type": "code",
      "execution_count": null,
      "metadata": {
        "colab": {
          "base_uri": "https://localhost:8080/",
          "height": 1000
        },
        "id": "-eGN1Koyvgf0",
        "outputId": "124284d0-6834-466a-e469-43e00fcbbddf"
      },
      "outputs": [],
      "source": [
        "# Crea un objeto de figura y una cuadrícula de subgráficas\n",
        "fig, axs = plt.subplots(3, 1, figsize=(12, 18))\n",
        "\n",
        "# Histograma para 'amt'\n",
        "sns.histplot(fraudulent_transactions['amt'], bins=30, kde=True, ax=axs[0])\n",
        "axs[0].set_title('Distribución del Monto (amt) para Transacciones Fraudulentas')\n",
        "axs[0].set_xlabel('Monto (amt)')\n",
        "axs[0].set_ylabel('Frecuencia')\n",
        "\n",
        "# Histograma para 'age'\n",
        "sns.histplot(fraudulent_transactions['age'], bins=30, kde=True, ax=axs[1])\n",
        "axs[1].set_title('Distribución de Edad para Transacciones Fraudulentas')\n",
        "axs[1].set_xlabel('Edad')\n",
        "axs[1].set_ylabel('Frecuencia')\n",
        "\n",
        "# Histograma para 'distance'\n",
        "sns.histplot(fraudulent_transactions['distance'], bins=30, kde=True, ax=axs[2])\n",
        "axs[2].set_title('Distribución de Distancia para Transacciones Fraudulentas')\n",
        "axs[2].set_xlabel('Distancia')\n",
        "axs[2].set_ylabel('Frecuencia')\n",
        "\n",
        "# Ajustar el espacio entre subgráficas\n",
        "plt.tight_layout()\n",
        "plt.show()"
      ]
    },
    {
      "cell_type": "markdown",
      "metadata": {
        "id": "tBc5fHnDCH1X"
      },
      "source": [
        "**Histograma amt:**\n",
        "\n",
        "La mayoría de los fraudes involucran montos relativamente pequeños, pero los montos altos, aunque poco frecuentes, podrían representar operaciones fraudulentas más dañinas. Este comportamiento es típico en fraudes donde los delincuentes intentan evadir sospechas con transacciones pequeñas para no ser detectados los cuales son los oportunistas, pero ocasionalmente prueban realizar fraudes con montos más altos, los cuales suelen ser más planeados y dañinos debido a su monton elevado.\n",
        "\n",
        "**Histograma edades:**\n",
        "\n",
        "Las transacciones fraudulentas parecen afectar principalmente a personas de mediana edad, lo cual puede estar relacionado con su mayor actividad económica o su vulnerabilidad a ciertos tipos de fraude por el uso de tecnologías. Sin embargo, no se deben ignorar los fraudes en personas jóvenes o mayores, ya que, aunque menos frecuentes, también ocurren\n",
        "\n",
        "**Histograma distancia:**\n",
        "\n",
        "Las transacciones fraudulentas tienden a ocurrir cerca de la ubicación del usuario, lo que sugiere que los delincuentes pueden tener acceso cercano al usuario o estar usando métodos para disfrazar su ubicación. Los fraudes lejanos, aunque menos comunes,  podrían involucrar estafadores que operan desde ubicaciones remotas."
      ]
    },
    {
      "cell_type": "markdown",
      "metadata": {
        "id": "tyVSnMqvfzk2"
      },
      "source": [
        "#### Correlaciones"
      ]
    },
    {
      "cell_type": "code",
      "execution_count": null,
      "metadata": {
        "colab": {
          "base_uri": "https://localhost:8080/",
          "height": 867
        },
        "id": "L0LGKoI1vz2b",
        "outputId": "e076cc02-fdac-4556-f24c-69061980e8af"
      },
      "outputs": [],
      "source": [
        "numeric_columns = fraudulent_transactions.select_dtypes(include='number')\n",
        "\n",
        "correlation_matrix = numeric_columns.corr()\n",
        "\n",
        "plt.figure(figsize=(20, 12))\n",
        "sns.heatmap(correlation_matrix, annot=True, cmap='coolwarm', fmt=\".2f\", linewidths=.5)\n",
        "plt.title('Matriz de Correlación para Transacciones Fraudulentas')\n",
        "plt.show()"
      ]
    },
    {
      "cell_type": "markdown",
      "metadata": {
        "id": "-_QjzPGEiMEr"
      },
      "source": [
        "Las correlaciones observadas en el mapa de calor son en general débiles, lo que indica que dentro del subconjunto de transacciones fraudulentas no existen relaciones claras entre las variables principales como el monto de la transacción, la edad del titular y la distancia. Esto sugiere que estos factores, en este análisis específico, no son indicadores determinantes de fraude. Sin embargo, sería valioso explorar otras variables del dataset, como la categoría del comercio o los patrones temporales, que podrían ofrecer una mejor capacidad predictiva.\n",
        "\n",
        "La relación fuerte entre el monto (amt) y las columnas derivadas como amount_per_age, amount_diff y age_amount_interaction revela que los usuarios de mayor edad tienden a realizar transacciones de montos más altos. Esto podría deberse a su mayor actividad económica, lo que los hace un blanco atractivo para fraudes de montos elevados. Además, la diferencia entre montos en transacciones sucesivas podría ser un claro indicador de fraude, ya que cambios bruscos pueden levantar sospechas. La interacción entre edad y monto también sugiere que los estafadores podrían apuntar a usuarios mayores con transacciones de mayor valor.\n",
        "\n",
        "En cuanto a la relación entre amount_per_transaction y las columnas fraud_ratio y amount_frecuency_ratio, se observa que las transacciones frecuentes con montos altos tienen una mayor probabilidad de ser fraudulentas. Esto es coherente con la idea de que los delincuentes podrían aprovechar montos elevados para maximizar el impacto del fraude. Por otro lado, la correlación negativa con total_spent y transaction_count indica que las cuentas con un historial de gasto más limitado son más propensas a intentos de fraude en transacciones grandes, posiblemente para evitar ser detectados en cuentas menos activas.\n",
        "\n",
        "Finalmente, la relación entre time_diff y days_since_last_transaction muestra que, a mayor tiempo entre transacciones, mayor es la diferencia de tiempo registrada entre ellas. Este patrón puede ser útil para identificar comportamientos sospechosos, como intervalos largos de inactividad seguidos de una transacción fraudulenta, lo que sugiere una táctica común entre los estafadores para aprovechar momentos de baja actividad en las cuentas.\n",
        "\n"
      ]
    },
    {
      "cell_type": "code",
      "execution_count": null,
      "metadata": {
        "colab": {
          "base_uri": "https://localhost:8080/",
          "height": 1000
        },
        "id": "kOvquydyw1p_",
        "outputId": "1bbc0fc1-42ee-43d0-9881-61eedcebe671"
      },
      "outputs": [],
      "source": [
        "# Pairplot para las variables seleccionadas\n",
        "sns.pairplot(fraudulent_transactions[['amt', 'age', 'distance', 'total_spent']])\n",
        "plt.suptitle('Pairplot de Transacciones Fraudulentas', y=1.02)\n",
        "plt.show()"
      ]
    },
    {
      "cell_type": "markdown",
      "metadata": {
        "id": "ECvKCKqX0pOe"
      },
      "source": [
        "El análisis del pairplot revela información clave sobre las transacciones fraudulentas y cómo interactúan entre las variables.\n",
        "\n",
        "En primer lugar, observamos que, en cuanto a las distribuciones individuales, los datos muestran que la mayoría de las transacciones fraudulentas se concentran en montos relativamente bajos. Sin embargo, es importante señalar que los fraudes de montos más altos, aunque menos frecuentes, son particularmente significativos y representan un mayor riesgo debido al valor que involucran. Con respecto a la edad, las personas de mediana edad parecen ser las más afectadas por las transacciones fraudulentas, lo cual puede estar relacionado con su mayor actividad económica o su vulnerabilidad a ciertos tipos de estafa. En cuanto a la distancia, los fraudes tienden a ocurrir cerca de la ubicación del usuario, lo que sugiere un acceso físico cercano por parte del estafador o el uso de técnicas para ocultar la ubicación real del atacante.\n",
        "\n",
        "Al analizar las relaciones entre pares de variables, se observa que el monto y la distancia presentan una tendencia interesante: los fraudes de mayor monto suelen ocurrir en proximidad al domicilio del usuario, lo que puede ser indicativo de que el delincuente tiene acceso físico o cercano al titular de la cuenta. En cuanto a la relación entre monto y edad, los datos sugieren que las personas mayores tienden a estar asociadas con fraudes de mayor monto, lo que puede indicar que los estafadores se dirigen a este grupo debido a que manejan más dinero o son percibidos como más vulnerables. Por otro lado, la relación entre edad y distancia no muestra una correlación significativa, lo que sugiere que la proximidad física del fraude no está directamente relacionada con la edad del titular de la cuenta. Los estafadores parecen actuar tanto en fraudes cercanos como lejanos sin una preferencia clara por la edad del usuario.\n",
        "\n",
        "En un análisis general de fraude y variables, se identifica que los fraudes tienden a concentrarse en montos bajos y a ocurrir cerca del domicilio del usuario, mientras que los montos elevados, aunque menos frecuentes, podrían estar relacionados con estafas mejor planificadas. Las transacciones no fraudulentas, por su parte, están distribuidas de manera más amplia en todas las variables, lo que resalta una clara diferencia en los patrones de comportamiento entre las transacciones fraudulentas y no fraudulentas. Estos patrones permiten perfilar mejor las características comunes de los fraudes.\n",
        "\n",
        "Finalmente, al considerar los valores atípicos (outliers), observamos que hay transacciones fraudulentas con montos muy altos o distancias inusualmente grandes o pequeñas. Estos casos atípicos podrían representar fraudes más complejos o sofisticados, que no siguen el comportamiento general de los fraudes más comunes. Estos outliers son clave para identificar posibles ajustes en los modelos de detección de fraude, ya que podrían evadir los sistemas de detección actuales debido a sus características inusuales."
      ]
    },
    {
      "cell_type": "markdown",
      "metadata": {
        "id": "PP0nJSwxE9TP"
      },
      "source": [
        "#### Segmentación de tiempo"
      ]
    },
    {
      "cell_type": "markdown",
      "metadata": {
        "id": "NC7iGzsAwgyX"
      },
      "source": [
        "##### Segmentación tiempo por día"
      ]
    },
    {
      "cell_type": "code",
      "execution_count": null,
      "metadata": {},
      "outputs": [],
      "source": [
        "fraudulent_transactions['day_of_week'] = fraudulent_transactions['trans_date_trans_time'].dt.day_name()\n",
        "\n",
        "weekly_fraud_count = fraudulent_transactions.groupby('day_of_week').size()\n",
        "\n",
        "days_order = ['Monday', 'Tuesday', 'Wednesday', 'Thursday', 'Friday', 'Saturday', 'Sunday']\n",
        "weekly_count = weekly_fraud_count.reindex(days_order, fill_value=0)\n",
        "\n",
        "fig = go.Figure(data=[\n",
        "    go.Bar(\n",
        "        x=weekly_count.index,  \n",
        "        y=weekly_count.values,  \n",
        "        marker_color='orange'  \n",
        "    )\n",
        "])\n",
        "\n",
        "fig.update_layout(\n",
        "    title=\"Conteo de Transacciones Fraudulentas por Día de la Semana\",\n",
        "    xaxis_title=\"Día de la Semana\",\n",
        "    yaxis_title=\"Número de Transacciones Fraudulentas\",\n",
        "    xaxis_tickangle=-45,  \n",
        "    width=800,\n",
        "    height=500\n",
        ")\n",
        "\n",
        "fig.show()"
      ]
    },
    {
      "cell_type": "markdown",
      "metadata": {
        "id": "fKNomn6xxE1d"
      },
      "source": [
        "##### Segmentación tiempo por semana"
      ]
    },
    {
      "cell_type": "code",
      "execution_count": null,
      "metadata": {},
      "outputs": [],
      "source": [
        "weekly_count = fraudulent_transactions.groupby(fraudulent_transactions['trans_date_trans_time'].dt.isocalendar().week).size().reset_index(name='count')\n",
        "\n",
        "# Renombrar las columnas\n",
        "weekly_count.columns = ['Semana del Año', 'Número de Transacciones']\n",
        "\n",
        "# Crear el gráfico de barras\n",
        "fig = px.bar(weekly_count, \n",
        "             x='Semana del Año', \n",
        "             y='Número de Transacciones', \n",
        "             title='Conteo de Transacciones Fraudulentas por Semana',\n",
        "             labels={'Semana del Año': 'Semana del Año', 'Número de Transacciones': 'Número de Transacciones'},\n",
        "             text='Número de Transacciones',  \n",
        "             color='Número de Transacciones',  \n",
        "             color_continuous_scale=px.colors.sequential.Viridis)  \n",
        "\n",
        "# Actualizar las trazas del gráfico\n",
        "fig.update_traces(texttemplate='%{text:.2s}', textposition='outside')  \n",
        "fig.update_layout(xaxis=dict(tickmode='linear'),  \n",
        "                  height=500)  \n",
        "\n",
        "# Mostrar el gráfico\n",
        "fig.show()"
      ]
    },
    {
      "cell_type": "code",
      "execution_count": null,
      "metadata": {
        "colab": {
          "base_uri": "https://localhost:8080/",
          "height": 361
        },
        "id": "bmlbl3cvweoj",
        "outputId": "a59b2743-e088-41fa-c368-b6df6ee6afab"
      },
      "outputs": [],
      "source": [
        "weekly_fraud_count = fraudulent_transactions.groupby(data_copy['trans_date_trans_time'].dt.isocalendar().week).size()\n",
        "plt.figure(figsize=(20, 5))\n",
        "weekly_fraud_count.plot(kind='bar')\n",
        "plt.title('Conteo de Transacciones Fraudulentas por Semana')\n",
        "plt.xlabel('Semana del Año')\n",
        "plt.ylabel('Número de Transacciones Fraudulentas')\n",
        "plt.xticks(rotation=0)\n",
        "plt.show()\n"
      ]
    },
    {
      "cell_type": "markdown",
      "metadata": {
        "id": "UWvqdrU-xVqD"
      },
      "source": [
        "##### Segmentación tiempo mensual"
      ]
    },
    {
      "cell_type": "code",
      "execution_count": null,
      "metadata": {
        "colab": {
          "base_uri": "https://localhost:8080/",
          "height": 487
        },
        "id": "VwLohL2bwele",
        "outputId": "8a37b3d3-6b11-4890-f3e8-cd3aee8a07ea"
      },
      "outputs": [],
      "source": [
        "monthly_count = fraudulent_transactions.groupby(fraudulent_transactions['trans_date_trans_time'].dt.month).size().reset_index(name='count')\n",
        "\n",
        "monthly_count.columns = ['Mes', 'Número de Transacciones']\n",
        "\n",
        "fig = px.bar(monthly_count, \n",
        "             x='Mes', \n",
        "             y='Número de Transacciones', \n",
        "             title='Conteo de Transacciones Fraudulentas por Mes',\n",
        "             labels={'Mes': 'Mes', 'Número de Transacciones': 'Número de Transacciones'},\n",
        "             text='Número de Transacciones',  \n",
        "             color='Número de Transacciones',  \n",
        "             color_continuous_scale=px.colors.sequential.Viridis)  \n",
        "\n",
        "fig.update_traces(texttemplate='%{text:.2s}', textposition='outside') \n",
        "fig.update_layout(xaxis=dict(tickmode='linear'), \n",
        "                  height=500, \n",
        "                  xaxis_title='Mes',  \n",
        "                  yaxis_title='Número de Transacciones')  \n",
        "\n",
        "fig.show()"
      ]
    },
    {
      "cell_type": "markdown",
      "metadata": {
        "id": "GwLuMuHyxy36"
      },
      "source": [
        "##### Segmentación tiempo trimestral"
      ]
    },
    {
      "cell_type": "code",
      "execution_count": null,
      "metadata": {
        "colab": {
          "base_uri": "https://localhost:8080/",
          "height": 487
        },
        "id": "EUoK5tOkweil",
        "outputId": "b6d532b1-c2fb-4c28-ebb3-316c5b161581"
      },
      "outputs": [],
      "source": [
        "quarterly_count = fraudulent_transactions.groupby(fraudulent_transactions['trans_date_trans_time'].dt.to_period('Q')).size().reset_index(name='count')\n",
        "\n",
        "quarterly_count['Trimestre'] = quarterly_count['trans_date_trans_time'].dt.strftime('%Y-Q%q')\n",
        "\n",
        "quarterly_count = quarterly_count[['Trimestre', 'count']]\n",
        "\n",
        "quarterly_count.columns = ['Trimestre', 'Número de Transacciones']\n",
        "\n",
        "fig = px.bar(quarterly_count, \n",
        "             x='Trimestre', \n",
        "             y='Número de Transacciones',  \n",
        "             title='Conteo de Transacciones Fraudulentas por Trimestre',  \n",
        "             labels={'Trimestre': 'Trimestre', 'Número de Transacciones': 'Número de Transacciones'},  \n",
        "             text='Número de Transacciones',  \n",
        "             color='Número de Transacciones',  \n",
        "             color_continuous_scale=px.colors.sequential.Viridis)  \n",
        "\n",
        "fig.update_traces(texttemplate='%{text:.2s}', textposition='outside')  \n",
        "fig.update_layout(xaxis=dict(tickmode='linear'),  \n",
        "                  height=500,  \n",
        "                  xaxis_title='Trimestre',  \n",
        "                  yaxis_title='Número de Transacciones')  \n",
        "\n",
        "fig.show()"
      ]
    },
    {
      "cell_type": "markdown",
      "metadata": {
        "id": "n5qtgdeqx-0x"
      },
      "source": [
        "##### Segmentación tiempo semestral"
      ]
    },
    {
      "cell_type": "code",
      "execution_count": null,
      "metadata": {
        "colab": {
          "base_uri": "https://localhost:8080/",
          "height": 606
        },
        "id": "Fb142AAdxpyM",
        "outputId": "7e18e597-d8e5-493a-88fa-5b6e735453a0"
      },
      "outputs": [],
      "source": [
        "fraudulent_transactions['semester'] = (fraudulent_transactions['trans_date_trans_time'].dt.month - 1) // 6 + 1\n",
        "\n",
        "semiannual_count = fraudulent_transactions.groupby('semester').size().reset_index(name='count')\n",
        "\n",
        "fig = px.bar(semiannual_count, \n",
        "             x='semester', \n",
        "             y='count', \n",
        "             title='Conteo de Transacciones Fraudulentas por Semestre', \n",
        "             labels={'semester': 'Semestre', 'count': 'Número de Transacciones'}, \n",
        "             text='count',  \n",
        "             color='count',  \n",
        "             color_continuous_scale=px.colors.sequential.Viridis)  \n",
        "\n",
        "# Actualizar el diseño\n",
        "fig.update_traces(texttemplate='%{text:.2s}', textposition='outside')  \n",
        "fig.update_layout(xaxis=dict(tickmode='linear'),  \n",
        "                  height=500,  \n",
        "                  xaxis_title='Semestre', \n",
        "                  yaxis_title='Número de Transacciones') \n",
        "\n",
        "# Mostrar el gráfico\n",
        "fig.show()\n",
        "\n"
      ]
    },
    {
      "cell_type": "markdown",
      "metadata": {
        "id": "C-tdn3S3yajj"
      },
      "source": [
        "##### Segmentación tiempo anual"
      ]
    },
    {
      "cell_type": "code",
      "execution_count": null,
      "metadata": {
        "colab": {
          "base_uri": "https://localhost:8080/",
          "height": 496
        },
        "id": "gp5Hwkfmxpuo",
        "outputId": "4cadb0fb-2aeb-4a4c-c3ae-9091fe900f8d"
      },
      "outputs": [],
      "source": [
        "yearly_count = fraudulent_transactions.groupby(fraudulent_transactions['trans_date_trans_time'].dt.year).size().reset_index(name='count')\n",
        "\n",
        "fig = px.bar(yearly_count, \n",
        "             x='trans_date_trans_time',  \n",
        "             y='count', \n",
        "             title='Conteo de Transacciones Fraudulentas por Año', \n",
        "             labels={'trans_date_trans_time': 'Año', 'count': 'Número de Transacciones'}, \n",
        "             text='count',  \n",
        "             color='count',  \n",
        "             color_continuous_scale=px.colors.sequential.Viridis)  \n",
        "\n",
        "\n",
        "fig.update_traces(texttemplate='%{text:.2s}', textposition='outside')  \n",
        "fig.update_layout(xaxis=dict(tickmode='linear'),  \n",
        "                  height=500,  \n",
        "                  xaxis_title='Año',  \n",
        "                  yaxis_title='Número de Transacciones')  \n",
        "\n",
        "fig.show()\n"
      ]
    },
    {
      "cell_type": "markdown",
      "metadata": {
        "id": "6WJbCz2FF08I"
      },
      "source": [
        "#### Análisis de variables cuantitativas"
      ]
    },
    {
      "cell_type": "markdown",
      "metadata": {
        "id": "Ib1CBvA82M7t"
      },
      "source": [
        "##### Análisis de distancia"
      ]
    },
    {
      "cell_type": "code",
      "execution_count": null,
      "metadata": {
        "colab": {
          "base_uri": "https://localhost:8080/",
          "height": 496
        },
        "id": "9h7UQtr2wef4",
        "outputId": "8c0344f1-b2fb-4372-fa12-13f66a6fa386"
      },
      "outputs": [],
      "source": [
        "plt.figure(figsize=(10, 5))\n",
        "# Crear el gráfico de dispersión y la línea de regresión\n",
        "sns.regplot(x='distance', y='amt', data=fraudulent_transactions, scatter_kws={'alpha':0.5}, line_kws={\"color\":\"red\"})\n",
        "plt.title('Relación entre Distancia y Monto de Transacciones Fraudulentas')\n",
        "plt.xlabel('Distancia')\n",
        "plt.ylabel('Monto')\n",
        "plt.show()"
      ]
    },
    {
      "cell_type": "markdown",
      "metadata": {
        "id": "bxRJvLH_U56c"
      },
      "source": [
        "Se observa \"bandas horizontales\", lo que indica que los montos de las transacciones fraudulentas tienden a repetirse a ciertos niveles. Estos patrones sugieren que los fraudes con **montos bajos** o **moderados** (por ejemplo, alrededor de $200 y $600) son recurrentes. Esto podría deberse a que los estafadores buscan pasar desapercibidos evitando transacciones de gran valor, ya que estas suelen activar alertas automáticas de los sistemas de detección de fraude. La alta densidad de puntos para montos bajos podría indicar que los fraudes en pequeñas cantidades son muy comunes. Los criminales pueden preferir realizar muchas transacciones pequeñas en lugar de pocas de gran monto, ya que estas últimas suelen generar más atención y posiblemente disparen mecanismos de control.\n",
        "\n",
        "Aunque la mayoría de las transacciones fraudulentas están agrupadas en rangos más bajos, se puede observar que hay algunas transacciones fraudulentas de montos elevados (alrededor de los $1000), pero estas son menos frecuentes. Los fraudes de alto valor tienden a ser más raros, probablemente porque los sistemas de detección de fraude y las medidas de seguridad de las tarjetas de crédito son más estrictos cuando se trata de transacciones de montos elevados. Los estafadores podrían evitar grandes cantidades debido al riesgo de detección.\n",
        "\n",
        "En cuanto a la distancia, los fraudes parecen ocurrir a lo largo de un amplio rango (de 0 hasta 140 unidades de distancia). La gran dispersión de puntos indica que los fraudes no están limitados a distancias cortas o largas. Transacciones que ocurren a largas distancias (mayores de 100) podrían implicar situaciones en las que la ubicación del comercio es significativamente diferente de la del titular de la tarjeta, lo cual es un comportamiento típico en fraudes. Sin embargo, la presencia de fraudes en distancias cortas podría indicar casos de fraude interno o uso de tarjetas robadas en proximidad al titular.\n",
        "\n",
        "Observando la regresión nos podría sugerir que la distancia no es un factor determinante en el monto de las transacciones fraudulentas. Los estafadores parecen operar sin importar la distancia entre el lugar de la transacción y el titular de la tarjeta. Las transacciones fraudulentas podrían estar distribuidas de manera uniforme a lo largo de las distancias, lo que apunta a una globalización del fraude, donde las transacciones pueden ocurrir tanto localmente como en lugares lejanos con igual probabilidad."
      ]
    },
    {
      "cell_type": "markdown",
      "metadata": {
        "id": "mItdoxuQm_Wd"
      },
      "source": [
        "#### Análisis de variables categóricas"
      ]
    },
    {
      "cell_type": "markdown",
      "metadata": {
        "id": "-A83p34Pt5_5"
      },
      "source": [
        "##### Distribución de variables ['category', 'gender', 'state', 'age_group']"
      ]
    },
    {
      "cell_type": "code",
      "execution_count": null,
      "metadata": {
        "colab": {
          "base_uri": "https://localhost:8080/",
          "height": 1000
        },
        "id": "8FmEMBxl3oFW",
        "outputId": "1905a19e-44b0-4872-8fb4-13aee23a6229"
      },
      "outputs": [],
      "source": [
        "categorical_vars = ['category', 'gender', 'state','age_group']\n",
        "\n",
        "plt.figure(figsize=(15, len(categorical_vars) * 5))\n",
        "for i, var in enumerate(categorical_vars):\n",
        "    plt.subplot(len(categorical_vars), 1, i + 1)\n",
        "    sns.countplot(x=var, hue='is_fraud', data=fraudulent_transactions)\n",
        "    plt.title(f'Distribución de {var} para Fraude')\n",
        "    plt.xticks(rotation=45)\n",
        "\n",
        "plt.tight_layout()\n",
        "plt.show()"
      ]
    },
    {
      "cell_type": "markdown",
      "metadata": {
        "id": "mYeZaoG_uQHy"
      },
      "source": [
        "##### Distribución de variable [\"job\"]"
      ]
    },
    {
      "cell_type": "code",
      "execution_count": 26,
      "metadata": {
        "id": "_JTvSChpR4Vr"
      },
      "outputs": [],
      "source": [
        "fraud_counts_job = fraudulent_transactions['job'].value_counts().reset_index()\n",
        "fraud_counts_job.columns = ['job', 'fraud_count']\n",
        "\n",
        "bins = [0, 10, 20, 30, 40, 50, 60, fraud_counts_job['fraud_count'].max() + 1]\n",
        "labels = ['0-10', '10-20', '20-30', '30-40', '40-50', '50-60', '60+']\n",
        "fraud_counts_job['range'] = pd.cut(fraud_counts_job['fraud_count'], bins=bins, labels=labels, right=False)\n",
        "\n",
        "fraud_counts_job['group'] = fraud_counts_job['range'].cat.codes + 1\n",
        "\n",
        "table = fraud_counts_job[['group', 'job', 'fraud_count']]\n",
        "\n",
        "grouped_sums = fraud_counts_job.groupby('group')['fraud_count'].sum().reset_index()\n",
        "grouped_sums.columns = ['group', 'total_fraud_count']\n",
        "\n",
        "table = table.merge(grouped_sums, on='group', how='left')\n",
        "\n",
        "final_table = table.loc[table.groupby('group')['fraud_count'].idxmax()]\n",
        "\n",
        "final_table.set_index('group', inplace=True)"
      ]
    },
    {
      "cell_type": "code",
      "execution_count": null,
      "metadata": {
        "colab": {
          "base_uri": "https://localhost:8080/",
          "height": 704
        },
        "id": "-n9H90OBWXqn",
        "outputId": "5fcde739-ce17-40e7-b6a5-249e05de696c"
      },
      "outputs": [],
      "source": [
        "sns.set(style=\"whitegrid\")\n",
        "\n",
        "plt.figure(figsize=(12, 5))\n",
        "\n",
        "# Total Fraud Count vs Group\n",
        "plt.subplot(1, 2, 1)\n",
        "sns.barplot(x=final_table.index, y='total_fraud_count', data=final_table, palette='viridis')\n",
        "plt.title('Total Fraud Count vs Group job')\n",
        "plt.xlabel('Group Job')\n",
        "plt.ylabel('Total Fraud Count')\n",
        "\n",
        "# Fraud Count vs Group\n",
        "plt.subplot(1, 2, 2)\n",
        "sns.barplot(x=final_table.index, y='fraud_count', data=final_table, palette='viridis')\n",
        "plt.title('Fraud Count vs Group Job')\n",
        "plt.xlabel('Group Job')\n",
        "plt.ylabel('Fraud Count')\n",
        "\n",
        "plt.tight_layout()\n",
        "plt.show()"
      ]
    },
    {
      "cell_type": "code",
      "execution_count": null,
      "metadata": {
        "colab": {
          "base_uri": "https://localhost:8080/",
          "height": 1000
        },
        "id": "nzapda1tarKo",
        "outputId": "b53d3031-e947-4057-c486-c9646dbe6104"
      },
      "outputs": [],
      "source": [
        "sns.set(style=\"whitegrid\")\n",
        "\n",
        "filtered_groups = [4, 5, 6, 7]\n",
        "filtered_table = table[table['group'].isin(filtered_groups)]\n",
        "\n",
        "groups = filtered_table['group'].unique()\n",
        "\n",
        "for group in groups:\n",
        "    plt.figure(figsize=(10, 6))\n",
        "    group_data = filtered_table[filtered_table['group'] == group]\n",
        "\n",
        "    sns.barplot(x='job', y='fraud_count', data=group_data, palette='viridis')\n",
        "\n",
        "    plt.title(f'Fraud Count vs Job for Group {group}')\n",
        "    plt.xlabel('Job')\n",
        "    plt.ylabel('Fraud Count')\n",
        "    plt.xticks(rotation=45, ha='right')\n",
        "\n",
        "    plt.tight_layout()\n",
        "    plt.show()"
      ]
    },
    {
      "cell_type": "code",
      "execution_count": null,
      "metadata": {
        "colab": {
          "base_uri": "https://localhost:8080/"
        },
        "id": "vw5xomPfLSxI",
        "outputId": "f609ab0c-3872-40ac-cb4f-f714d26332dc"
      },
      "outputs": [],
      "source": [
        "filtered_table = table[table['group'].isin([1, 2, 3])]\n",
        "\n",
        "for group in range(1, 4):  \n",
        "    print(f\"\\nGroup {group} Data:\")\n",
        "    group_data = filtered_table[filtered_table['group'] == group]\n",
        "    print(group_data[['job', 'fraud_count']])\n",
        "    group_data.describe()\n",
        "\n",
        "    print(\"\\nStatistics for 'fraud_count':\")\n",
        "    print(group_data['fraud_count'].describe())"
      ]
    },
    {
      "cell_type": "markdown",
      "metadata": {},
      "source": [
        "##### Tasa de Fraude Comercio vs Dia de semana"
      ]
    },
    {
      "cell_type": "code",
      "execution_count": null,
      "metadata": {
        "colab": {
          "base_uri": "https://localhost:8080/",
          "height": 727
        },
        "id": "Y4zGPFpFKZCj",
        "outputId": "848dbd7f-f7b9-4304-e039-c6b00ed17ccb"
      },
      "outputs": [],
      "source": [
        "# Crear la tabla dinámica para calcular la proporción de fraudes por categoría y día de la semana\n",
        "combined_analysis = data_copy.pivot_table(values='is_fraud',\n",
        "                                          index='category',\n",
        "                                          columns='day_of_week',\n",
        "                                          aggfunc='mean')\n",
        "\n",
        "# Visualizar la tasa de fraude combinada\n",
        "plt.figure(figsize=(12, 8))\n",
        "sns.heatmap(combined_analysis, annot=True, cmap='coolwarm', fmt='.2f')\n",
        "plt.title('Tasa de Fraude por Categoría de Comercio y Día de la Semana')\n",
        "plt.xlabel('Día de la Semana')\n",
        "plt.ylabel('Categoría de Comercio')\n",
        "plt.show()\n"
      ]
    },
    {
      "cell_type": "markdown",
      "metadata": {
        "id": "7QbxMcOQNpxT"
      },
      "source": [
        "Las categorías de compras en línea (**shopping_net y misc_net**) presentan consistentemente tasas de fraude más altas que las categorías físicas, lo que sugiere que las transacciones online siguen siendo el objetivo principal de los defraudadores. Especialmente, el **viernes** es el día con más actividad fraudulenta en estas categorías, lo que podría relacionarse con un aumento en las compras previas al fin de semana o con un mayor descuido por parte de los consumidores.\n",
        "\n",
        "Las transacciones en puntos de venta físicos de supermercados (**grocery_pos**)  también tienen tasas de fraude elevadas. Esto puede deberse a la frecuencia con la que se usan estos puntos para transacciones diarias, lo que les hace un objetivo atractivo para los fraudes. La tasa más alta se observa el jueves, lo que podría estar relacionado con un aumento en las compras pre-fin de semana.\n",
        "\n",
        "En varias categorías, los **jueves y viernes** parecen ser los días de mayor riesgo de fraude. Estos días pueden ser especialmente críticos para las medidas de seguridad en las plataformas de comercio electrónico y las tiendas físicas.\n",
        "\n",
        "Los datos revelan que las **transacciones en línea** y **puntos de venta físicos de supermercados** son más vulnerables al fraude, especialmente los jueves y viernes. Las empresas en estas categorías podrían beneficiarse al mejorar sus sistemas de seguridad durante estos días, cuando el fraude es más prevalente. Una atención especial a estas tendencias puede ayudar a mitigar el riesgo y proteger mejor tanto a los consumidores como a las empresas.\n",
        "\n"
      ]
    },
    {
      "cell_type": "markdown",
      "metadata": {
        "id": "epmK3FGuucal"
      },
      "source": [
        "##### Distribución de variable [\"merchant\"]"
      ]
    },
    {
      "cell_type": "code",
      "execution_count": 31,
      "metadata": {
        "id": "ODNrjbC7vpAN"
      },
      "outputs": [],
      "source": [
        "fraud_counts_merchant = fraudulent_transactions['merchant'].value_counts().reset_index()\n",
        "fraud_counts_merchant.columns = ['merchant', 'fraud_count']\n",
        "\n",
        "bins = [0, 10, 20, 30, 40, fraud_counts_merchant['fraud_count'].max() + 1]\n",
        "labels = ['0-10', '10-20', '20-30', '30-40', '40-50']\n",
        "fraud_counts_merchant['range'] = pd.cut(fraud_counts_merchant['fraud_count'], bins=bins, labels=labels, right=False)\n",
        "\n",
        "\n",
        "fraud_counts_merchant['group'] = fraud_counts_merchant['range'].cat.codes + 1\n",
        "\n",
        "table_merchant = fraud_counts_merchant[['group', 'merchant', 'fraud_count']]\n",
        "\n",
        "grouped_sums_merchant = fraud_counts_merchant.groupby('group')['fraud_count'].sum().reset_index()\n",
        "grouped_sums_merchant.columns = ['group', 'total_fraud_count']\n",
        "\n",
        "table_merchant = table_merchant.merge(grouped_sums, on='group', how='left')\n",
        "\n",
        "final_table_merchant = table_merchant.loc[table_merchant.groupby('group')['fraud_count'].idxmax()]\n",
        "\n",
        "final_table_merchant.set_index('group', inplace=True)"
      ]
    },
    {
      "cell_type": "code",
      "execution_count": null,
      "metadata": {
        "colab": {
          "base_uri": "https://localhost:8080/",
          "height": 704
        },
        "id": "F_9pPxJ7Ahut",
        "outputId": "c4e7aac8-3b1f-42a1-dde4-88e30481d94a"
      },
      "outputs": [],
      "source": [
        "sns.set(style=\"whitegrid\")\n",
        "\n",
        "plt.figure(figsize=(12, 5))\n",
        "\n",
        "# Total Fraud Count vs Group\n",
        "plt.subplot(1, 2, 1)\n",
        "sns.barplot(x=final_table_merchant.index, y='total_fraud_count', data=final_table_merchant, palette='viridis')\n",
        "plt.title('Total Fraud Count vs Group Merchant')\n",
        "plt.xlabel('Group Merchant')\n",
        "plt.ylabel('Total Fraud Count')\n",
        "\n",
        "# Fraud Count vs Group\n",
        "plt.subplot(1, 2, 2)\n",
        "sns.barplot(x=final_table_merchant.index, y='fraud_count', data=final_table_merchant, palette='viridis')\n",
        "plt.title('Fraud Count vs Group Merchant')\n",
        "plt.xlabel('Group Merchant')\n",
        "plt.ylabel('Fraud Count')\n",
        "\n",
        "plt.tight_layout()\n",
        "plt.show()"
      ]
    },
    {
      "cell_type": "code",
      "execution_count": null,
      "metadata": {
        "colab": {
          "base_uri": "https://localhost:8080/",
          "height": 712
        },
        "id": "qU3PHUDpAhml",
        "outputId": "4ffcf8e1-b9b4-434f-ce35-a3505e28eb1b"
      },
      "outputs": [],
      "source": [
        "sns.set(style=\"whitegrid\")\n",
        "\n",
        "filtered_groups = [5]\n",
        "filtered_table_merchant = table_merchant[table_merchant['group'].isin(filtered_groups)]\n",
        "\n",
        "groups = filtered_table_merchant['group'].unique()\n",
        "\n",
        "for group in groups:\n",
        "    plt.figure(figsize=(10, 6))\n",
        "    group_data_merchant = filtered_table_merchant[filtered_table_merchant['group'] == group]\n",
        "\n",
        "    sns.barplot(x='merchant', y='fraud_count', data=group_data_merchant, palette='viridis')\n",
        "\n",
        "    plt.title(f'Fraud Count vs Merchant for Group {group}')\n",
        "    plt.xlabel('Merchant')\n",
        "    plt.ylabel('Fraud Count')\n",
        "    plt.xticks(rotation=45, ha='right')\n",
        "\n",
        "    plt.tight_layout()\n",
        "    plt.show()"
      ]
    },
    {
      "cell_type": "code",
      "execution_count": null,
      "metadata": {
        "colab": {
          "base_uri": "https://localhost:8080/"
        },
        "id": "IKySF5pZB691",
        "outputId": "c6bb204b-4614-4ab7-83ba-6e5a9b09311c"
      },
      "outputs": [],
      "source": [
        "filtered_table_merchant = table_merchant[table_merchant['group'].isin([1, 2, 3, 4])]\n",
        "\n",
        "for group in range(1, 5):\n",
        "    print(f\"\\nGroup {group} Data:\")\n",
        "    group_data = filtered_table_merchant[filtered_table_merchant['group'] == group]\n",
        "    print(group_data[['merchant', 'fraud_count']])\n",
        "    group_data.describe()\n",
        "\n",
        "    print(\"\\nStatistics for 'fraud_count':\")\n",
        "    print(group_data['fraud_count'].describe())"
      ]
    },
    {
      "cell_type": "code",
      "execution_count": null,
      "metadata": {},
      "outputs": [],
      "source": [
        "sns.histplot(data_copy['amt'])\n",
        "plt.show()\n"
      ]
    },
    {
      "cell_type": "code",
      "execution_count": null,
      "metadata": {},
      "outputs": [],
      "source": [
        "fraud_count = data_copy['is_fraud'].value_counts()\n",
        "px.bar(fraud_count, title=\"Distribución de Fraude\")\n"
      ]
    },
    {
      "cell_type": "code",
      "execution_count": null,
      "metadata": {},
      "outputs": [],
      "source": [
        "plt.figure(figsize=(15, 8))\n",
        "sns.violinplot(x='category', y='amt', data=data_copy, palette='viridis')\n",
        "plt.title('Distribución del Monto por Categoría')\n",
        "plt.xticks(rotation=45, ha='right')\n",
        "plt.show()\n"
      ]
    },
    {
      "cell_type": "code",
      "execution_count": null,
      "metadata": {},
      "outputs": [],
      "source": [
        "plt.figure(figsize=(15, 8))\n",
        "sns.boxplot(x='category', y='amt', data=data_copy, palette='coolwarm')\n",
        "plt.title('Distribución del Monto por Categoría')\n",
        "plt.xticks(rotation=45, ha='right')\n",
        "plt.show()\n"
      ]
    },
    {
      "cell_type": "code",
      "execution_count": null,
      "metadata": {},
      "outputs": [],
      "source": [
        "g = sns.FacetGrid(data_copy, col='category', col_wrap=4, height=4, sharex=False, sharey=False)\n",
        "g.map(sns.histplot, 'amt', bins=50)\n",
        "g.set_titles('{col_name}')\n",
        "plt.show()\n"
      ]
    },
    {
      "cell_type": "code",
      "execution_count": null,
      "metadata": {},
      "outputs": [],
      "source": [
        "plt.figure(figsize=(12, 6))\n",
        "sns.histplot(data=data_copy, x='amt', hue='category', bins=50, multiple='stack')\n",
        "plt.title('Histograma de Montos por Categoría')\n",
        "plt.show()\n"
      ]
    },
    {
      "cell_type": "code",
      "execution_count": null,
      "metadata": {},
      "outputs": [],
      "source": [
        "plt.figure(figsize=(15, 8))\n",
        "sns.scatterplot(x='trans_date_trans_time', y='amt', hue='category', data=data_copy, alpha=0.6)\n",
        "plt.title('Monto de Transacción por Categoría en el Tiempo')\n",
        "plt.xticks(rotation=45)\n",
        "plt.show()"
      ]
    },
    {
      "cell_type": "markdown",
      "metadata": {
        "id": "9Tx-irpJuAB0"
      },
      "source": [
        "### ESTO SE HACE CON TODO EL DATA SET COMPLETO"
      ]
    },
    {
      "cell_type": "code",
      "execution_count": null,
      "metadata": {
        "colab": {
          "base_uri": "https://localhost:8080/",
          "height": 1000
        },
        "id": "f0jeRHmqr0Dn",
        "outputId": "da5e3837-d431-4e9a-c3d4-af52ddbbdf74"
      },
      "outputs": [],
      "source": [
        "# Análisis comparativo de tasa de fraude por categoría y comerciante en todo el dataset\n",
        "\n",
        "# Agrupar por categoría y comerciante\n",
        "category_fraud_analysis = data_copy.groupby(['category', 'merchant']).agg(\n",
        "    total_transactions=('is_fraud', 'size'),\n",
        "    total_frauds=('is_fraud', 'sum')\n",
        ").reset_index()\n",
        "\n",
        "# Calcular tasa de fraude por categoría y comerciante\n",
        "category_fraud_analysis['fraud_rate'] = category_fraud_analysis['total_frauds'] / category_fraud_analysis['total_transactions']\n",
        "\n",
        "# Gráfico de la tasa de fraude por categoría y comerciante\n",
        "plt.figure(figsize=(12, 6))\n",
        "sns.barplot(data=category_fraud_analysis, x='category', y='fraud_rate', hue='merchant', palette='viridis')\n",
        "plt.title('Tasa de Fraude por Categoría y Comerciante (Todo el dataset)')\n",
        "plt.xticks(rotation=90)\n",
        "plt.ylabel('Tasa de Fraude')\n",
        "plt.xlabel('Categoría')\n",
        "plt.legend(title='Comerciante', bbox_to_anchor=(1.05, 1), loc='upper left')\n",
        "plt.tight_layout()  # Ajustar el diseño\n",
        "plt.show()\n",
        "\n"
      ]
    },
    {
      "cell_type": "markdown",
      "metadata": {
        "id": "g5-nuMY_nljb"
      },
      "source": [
        "### ESTE CODIGO SE HACE CON EL data_copy completo, quiere decir con is_fraud= 0 y is_fraud=1"
      ]
    },
    {
      "cell_type": "code",
      "execution_count": null,
      "metadata": {
        "colab": {
          "base_uri": "https://localhost:8080/",
          "height": 960
        },
        "id": "bXxC5-conGzI",
        "outputId": "4ad27da4-02ff-494a-f319-d7b1793b400e"
      },
      "outputs": [],
      "source": [
        "# Asegúrate de que la columna trans_date_trans_time sea del tipo datetime\n",
        "fraudulent_transactions['trans_date_trans_time'] = pd.to_datetime(fraudulent_transactions['trans_date_trans_time'])\n",
        "\n",
        "# Extraer el día de la semana y la hora\n",
        "fraudulent_transactions['day_of_week'] = fraudulent_transactions['trans_date_trans_time'].dt.day_name()\n",
        "fraudulent_transactions['hour'] = fraudulent_transactions['trans_date_trans_time'].dt.hour\n",
        "\n",
        "# Agrupar por día de la semana y calcular la tasa de fraude\n",
        "time_analysis = fraudulent_transactions.groupby('day_of_week').agg({\n",
        "    'is_fraud': 'mean',  # Tasa de fraude\n",
        "    'amt': 'mean'  # Monto promedio\n",
        "}).reset_index()\n",
        "\n",
        "# Visualizar la tasa de fraude por día de la semana\n",
        "plt.figure(figsize=(12, 6))\n",
        "sns.barplot(x='day_of_week', y='is_fraud', data=time_analysis.sort_values('is_fraud', ascending=False))\n",
        "plt.title('Tasa de Fraude por Día de la Semana')\n",
        "plt.xlabel('Día de la Semana')\n",
        "plt.ylabel('Tasa de Fraude')\n",
        "plt.xticks(rotation=45)\n",
        "plt.show()\n"
      ]
    },
    {
      "cell_type": "markdown",
      "metadata": {
        "id": "r5jBwhzan0UU"
      },
      "source": [
        "### ESTE CODIGO SE HACE CON EL data_copy completo, quiere decir con is_fraud= 0 y is_fraud=1"
      ]
    },
    {
      "cell_type": "code",
      "execution_count": null,
      "metadata": {
        "colab": {
          "base_uri": "https://localhost:8080/",
          "height": 576
        },
        "id": "k33SUWxKFCUw",
        "outputId": "3bd4d5c9-6a91-4dbf-f625-c7331661a4a0"
      },
      "outputs": [],
      "source": [
        "import pandas as pd\n",
        "import matplotlib.pyplot as plt\n",
        "\n",
        "# Filtra el DataFrame para incluir solo transacciones fraudulentas\n",
        "fraud_data = data_copy[data_copy['is_fraud'] == 1]\n",
        "\n",
        "# Cuenta el número de fraudes por ocupación\n",
        "fraud_by_job = fraud_data['job'].value_counts().reset_index()\n",
        "fraud_by_job.columns = ['job', 'fraud_count']\n",
        "\n",
        "# Agrupa los trabajos por rango\n",
        "bins = [0, 10, 20, 30, 40, 50, fraud_by_job['fraud_count'].max()]\n",
        "labels = ['0-10', '10-20', '20-30', '30-40', '40-50', '50-60']\n",
        "fraud_by_job['range'] = pd.cut(fraud_by_job['fraud_count'], bins=bins, labels=labels, right=False)\n",
        "\n",
        "# Cuenta el número de trabajos en cada rango\n",
        "fraud_range_counts = fraud_by_job['range'].value_counts().sort_index()\n",
        "\n",
        "# Gráfico general de fraudes por rango de ocupación\n",
        "plt.figure(figsize=(10, 6))\n",
        "plt.bar(fraud_range_counts.index.astype(str), fraud_range_counts.values, color='skyblue')\n",
        "plt.ylabel('Número de Trabajos')\n",
        "plt.title('Número de Trabajos por Rango de Fraudes')\n",
        "plt.xticks(rotation=45)\n",
        "plt.show()"
      ]
    },
    {
      "cell_type": "markdown",
      "metadata": {
        "id": "1YtIA1vC4KmB"
      },
      "source": [
        "### ESTO SE HACE CON EL CODIGO COMPLETO"
      ]
    },
    {
      "cell_type": "code",
      "execution_count": null,
      "metadata": {
        "colab": {
          "base_uri": "https://localhost:8080/",
          "height": 807
        },
        "id": "7xyAP-RNrz6L",
        "outputId": "52c409b2-cc06-4590-f44a-2976bd0ec8b4"
      },
      "outputs": [],
      "source": [
        "from scipy import stats\n",
        "import seaborn as sns\n",
        "import matplotlib.pyplot as plt\n",
        "\n",
        "# Filtrar los datos para transacciones fraudulentas y no fraudulentas\n",
        "fraudulent_data = data_copy[data_copy['is_fraud'] == 1]\n",
        "non_fraudulent_data = data_copy[data_copy['is_fraud'] == 0]\n",
        "\n",
        "# Z-score para detectar outliers en ambas categorías\n",
        "fraudulent_z_scores = stats.zscore(fraudulent_data[['amt', 'distance']])\n",
        "non_fraudulent_z_scores = stats.zscore(non_fraudulent_data[['amt', 'distance']])\n",
        "\n",
        "# Identificar outliers\n",
        "fraudulent_outliers = (abs(fraudulent_z_scores) > 3).any(axis=1)\n",
        "non_fraudulent_outliers = (abs(non_fraudulent_z_scores) > 3).any(axis=1)\n",
        "\n",
        "# Visualizar outliers\n",
        "plt.figure(figsize=(15, 10))\n",
        "\n",
        "# Boxplot para montos de transacciones fraudulentas\n",
        "plt.subplot(2, 2, 1)\n",
        "sns.boxplot(x=fraudulent_data['amt'])\n",
        "plt.title('Boxplot de Montos de Transacciones Fraudulentas')\n",
        "\n",
        "# Boxplot para montos de transacciones no fraudulentas\n",
        "plt.subplot(2, 2, 2)\n",
        "sns.boxplot(x=non_fraudulent_data['amt'])\n",
        "plt.title('Boxplot de Montos de Transacciones No Fraudulentas')\n",
        "\n",
        "# Boxplot para distancias de transacciones fraudulentas\n",
        "plt.subplot(2, 2, 3)\n",
        "sns.boxplot(x=fraudulent_data['distance'])\n",
        "plt.title('Boxplot de Distancias de Transacciones Fraudulentas')\n",
        "\n",
        "# Boxplot para distancias de transacciones no fraudulentas\n",
        "plt.subplot(2, 2, 4)\n",
        "sns.boxplot(x=non_fraudulent_data['distance'])\n",
        "plt.title('Boxplot de Distancias de Transacciones No Fraudulentas')\n",
        "\n",
        "plt.tight_layout()\n",
        "plt.show()\n"
      ]
    },
    {
      "cell_type": "code",
      "execution_count": null,
      "metadata": {
        "colab": {
          "base_uri": "https://localhost:8080/",
          "height": 405
        },
        "id": "uaqfuQHCrz3h",
        "outputId": "3c5fde61-c34d-4a93-dbf9-a75ee47e7977"
      },
      "outputs": [],
      "source": [
        "# Z-score para detectar outliers\n",
        "z_scores = stats.zscore(data_copy[['amt', 'distance']])\n",
        "outliers = (abs(z_scores) > 3).any(axis=1)\n",
        "\n",
        "plt.figure(figsize=(15, 5))\n",
        "\n",
        "plt.subplot(1, 2, 1)\n",
        "sns.boxplot(x=data_copy['amt'])\n",
        "plt.title('Boxplot de Montos de Transacciones')\n",
        "\n",
        "plt.subplot(1, 2, 2)\n",
        "sns.boxplot(x=data_copy['distance'])\n",
        "plt.title('Boxplot de Distancias de Transacciones')\n",
        "\n",
        "plt.tight_layout()\n",
        "plt.show()"
      ]
    },
    {
      "cell_type": "code",
      "execution_count": null,
      "metadata": {
        "id": "qJsdcrNGmDCj"
      },
      "outputs": [],
      "source": []
    },
    {
      "cell_type": "markdown",
      "metadata": {
        "id": "EZyieKuOn7GT"
      },
      "source": [
        "### ESTE CODIGO SE HACE CON EL data_copy completo, quiere decir con is_fraud= 0 y is_fraud=1"
      ]
    },
    {
      "cell_type": "markdown",
      "metadata": {
        "id": "xAjp_AyQjqQ4"
      },
      "source": [
        "### Análisis por Categorias del Comercio PERO CON TODO EL DATASET data_copy"
      ]
    },
    {
      "cell_type": "code",
      "execution_count": null,
      "metadata": {
        "colab": {
          "base_uri": "https://localhost:8080/",
          "height": 573
        },
        "id": "cGZ4aEnfgARX",
        "outputId": "eaae8741-529f-462b-930b-162754cf69c2"
      },
      "outputs": [],
      "source": [
        "# Agrupar por categoría y calcular estadísticas descriptivas\n",
        "category_analysis = data_copy.groupby('category').agg({\n",
        "    'amt': ['mean', 'median', 'count'],  # Estadísticas sobre el monto\n",
        "    'is_fraud': 'mean'  # Proporción de fraudes por categoría\n",
        "}).reset_index()\n",
        "\n",
        "# Renombrar columnas para facilitar la interpretación\n",
        "category_analysis.columns = ['category', 'avg_amt', 'median_amt', 'transaction_count', 'fraud_rate']\n",
        "\n",
        "# Visualizar la tasa de fraude por categoría\n",
        "plt.figure(figsize=(12, 6))\n",
        "sns.barplot(x='fraud_rate', y='category', data=category_analysis.sort_values('fraud_rate', ascending=False))\n",
        "plt.title('Tasa de Fraude por Categoría de Comercio')\n",
        "plt.xlabel('Tasa de Fraude')\n",
        "plt.ylabel('Categoría')\n",
        "plt.show()\n",
        "\n"
      ]
    },
    {
      "cell_type": "code",
      "execution_count": null,
      "metadata": {
        "colab": {
          "base_uri": "https://localhost:8080/",
          "height": 488
        },
        "id": "FJ8jspj8gAOt",
        "outputId": "96523aba-4bd5-41f3-e7f8-a795d08120b7"
      },
      "outputs": [],
      "source": [
        "category_analysis"
      ]
    },
    {
      "cell_type": "markdown",
      "metadata": {
        "id": "AWU6yvOXZQKW"
      },
      "source": [
        "Interpretación de los Resultados\n",
        "Montos Promedio y Mediana:\n",
        "\n",
        "grocery_pos tiene el monto promedio más alto (116.96) y una mediana considerable (105.12). Esto podría indicar que las compras en tiendas de comestibles físicas tienden a ser más altas en comparación con otras categorías.\n",
        "shopping_net también muestra un monto promedio alto (88.42) pero con una mediana baja (8.44), lo que sugiere que hay algunas compras de gran valor que están afectando el promedio, mientras que muchas transacciones son de bajo monto.\n",
        "Conteo de Transacciones:\n",
        "\n",
        "gas_transport y shopping_pos tienen un alto número de transacciones (131,659 y 116,672 respectivamente), lo que podría indicar que son categorías muy populares. Sin embargo, el hecho de que shopping_net tenga una tasa de fraude (0.0176) más alta que otras categorías podría ser un punto de interés para investigar más a fondo.\n",
        "Tasa de Fraude:\n",
        "\n",
        "shopping_net tiene la tasa de fraude más alta (1.76%), seguida de misc_net (1.45%) y grocery_pos (1.41%). Esto indica que estas categorías son más propensas a transacciones fraudulentas en comparación con otras.\n",
        "La tasa de fraude para food_dining (0.17%) y health_fitness (0.15%) es considerablemente baja, lo que podría sugerir que estas categorías son más seguras.\n",
        "Recomendaciones para el Análisis Adicional\n",
        "Investigación en Profundidad de Categorías de Alto Fraude:\n",
        "\n",
        "Considera hacer un análisis más detallado sobre las transacciones en las categorías de shopping_net, misc_net, y grocery_pos. Podrías investigar factores como:\n",
        "¿Qué tipo de transacciones dentro de estas categorías son más propensas al fraude?\n",
        "¿Existen características específicas de los clientes o patrones de comportamiento que se asocian con fraudes en estas categorías?\n",
        "\n",
        "\n",
        "Análisis Temporal:\n",
        "\n",
        "Podrías analizar cómo varía la tasa de fraude en diferentes categorías a lo largo del tiempo. Esto puede ayudarte a identificar si hay tendencias estacionales o patrones específicos de tiempo asociados con el fraude.\n",
        "Comparaciones de Montos:\n",
        "\n",
        "Considera comparar los montos promedio y mediana entre categorías de fraude y no fraude para obtener más información sobre cómo el monto de la transacción puede influir en la probabilidad de fraude.\n",
        "Relación con Otras Variables:\n",
        "\n",
        "Examina cómo se relacionan otras variables, como la edad del titular de la tarjeta y la distancia a la que se realiza la transacción, con las categorías y la tasa de fraude.\n",
        "Conclusión\n",
        "Tu análisis proporciona una base sólida para explorar patrones de fraude en tu conjunto de datos. Al profundizar en categorías específicas y sus características, puedes identificar tendencias y potencialmente desarrollar modelos más precisos para detectar fraudes."
      ]
    },
    {
      "cell_type": "markdown",
      "metadata": {
        "id": "QYjjwL0GbuHN"
      },
      "source": [
        "## Análisis Transacciones No Fraudulentas"
      ]
    },
    {
      "cell_type": "code",
      "execution_count": null,
      "metadata": {
        "colab": {
          "base_uri": "https://localhost:8080/",
          "height": 367
        },
        "id": "4f8tBSQbbuHN",
        "outputId": "eb95e5e9-2434-4928-db5a-de763c87fb2a"
      },
      "outputs": [],
      "source": [
        "non_fraudulent_transactions = data_copy[data_copy['is_fraud'] == 0]\n",
        "non_fraudulent_transactions.describe()"
      ]
    },
    {
      "cell_type": "code",
      "execution_count": null,
      "metadata": {
        "id": "Qf-Lg5UdbuHN"
      },
      "outputs": [],
      "source": []
    },
    {
      "cell_type": "code",
      "execution_count": null,
      "metadata": {
        "id": "U1rUK0BjbuHN"
      },
      "outputs": [],
      "source": []
    },
    {
      "cell_type": "code",
      "execution_count": null,
      "metadata": {
        "id": "kMmQITELbuHN"
      },
      "outputs": [],
      "source": []
    },
    {
      "cell_type": "code",
      "execution_count": null,
      "metadata": {
        "id": "l-2eGl6_buHO"
      },
      "outputs": [],
      "source": []
    },
    {
      "cell_type": "markdown",
      "metadata": {
        "id": "ZJjRjaZcbuHO"
      },
      "source": [
        "### Cálculo de distancias Cliente y Comercio"
      ]
    },
    {
      "cell_type": "code",
      "execution_count": null,
      "metadata": {
        "colab": {
          "base_uri": "https://localhost:8080/",
          "height": 550
        },
        "id": "Fn46AbObbuHO",
        "outputId": "5d998eac-3ab9-440d-9c44-0f7989661ad7"
      },
      "outputs": [],
      "source": [
        "# Dividir el DataFrame en transacciones fraudulentas y no fraudulentas\n",
        "fraudulent_transactions = data_copy[data_copy['is_fraud'] == 1]\n",
        "non_fraudulent_transactions = data_copy[data_copy['is_fraud'] == 0]\n",
        "\n",
        "# Visualizar la distribución de las distancias\n",
        "plt.figure(figsize=(12, 6))\n",
        "sns.histplot(fraudulent_transactions['distance'], bins=50, color='red', label='Fraudulentas', kde=True)\n",
        "sns.histplot(non_fraudulent_transactions['distance'], bins=50, color='blue', label='No Fraudulentas', kde=True)\n",
        "plt.show()\n",
        "\n"
      ]
    },
    {
      "cell_type": "code",
      "execution_count": null,
      "metadata": {
        "colab": {
          "base_uri": "https://localhost:8080/"
        },
        "id": "ZrvJPZBabuHO",
        "outputId": "e970ad7f-79b8-4d3d-c3c9-f55ed6948db4"
      },
      "outputs": [],
      "source": [
        "# Verificar si hay valores nulos\n",
        "print(data_copy['distance'].isnull().sum())  # Muestra el número de valores nulos\n"
      ]
    },
    {
      "cell_type": "code",
      "execution_count": null,
      "metadata": {
        "colab": {
          "base_uri": "https://localhost:8080/",
          "height": 397
        },
        "id": "FLoAbq6vbuHO",
        "outputId": "6175f341-4943-45b4-9238-3ed2369a2e22"
      },
      "outputs": [],
      "source": [
        "# Calcular estadísticas descriptivas de la columna de distancia\n",
        "stats = data_copy['distance'].describe(percentiles=[0.25, 0.5, 0.75, 0.90, 0.95])\n",
        "stats\n"
      ]
    },
    {
      "cell_type": "code",
      "execution_count": null,
      "metadata": {
        "colab": {
          "base_uri": "https://localhost:8080/",
          "height": 542
        },
        "id": "T4JDx29XbuHP",
        "outputId": "a5c6aee6-9165-4023-da95-3c8d85637870"
      },
      "outputs": [],
      "source": [
        "# Definir el umbral de distancia como el percentil 90\n",
        "threshold_distance = stats['90%']  # o stats['95%'] si prefieres\n",
        "\n",
        "# Crear un DataFrame combinado para el gráfico\n",
        "combined_data = pd.DataFrame({\n",
        "    'Distance': pd.concat([fraudulent_transactions['distance'], non_fraudulent_transactions['distance']]),\n",
        "    'Type': ['Fraudulent'] * len(fraudulent_transactions) + ['Non Fraudulent'] * len(non_fraudulent_transactions)\n",
        "})\n",
        "\n",
        "# Crear un histograma interactivo con Plotly\n",
        "fig = px.histogram(combined_data, x='Distance', color='Type', barmode='overlay',\n",
        "                   labels={'Distance': 'Distancia (km)', 'Type': 'Tipo de Transacción'},\n",
        "                   title='Distribución de Distancias para Transacciones Fraudulentas y No Fraudulentas',\n",
        "                   color_discrete_map={'Fraudulent': 'red', 'Non Fraudulent': 'blue'})  # Colores deseados\n",
        "\n",
        "# Agregar línea del umbral\n",
        "fig.add_shape(type=\"line\", x0=threshold_distance, x1=threshold_distance, y0=0, y1=1000,  # Ajusta y1 según la escala del gráfico\n",
        "              line=dict(color=\"green\", dash=\"dash\"), name='Umbral de Distancia')\n",
        "\n",
        "# Personalizar el layout\n",
        "fig.update_layout(yaxis_title='Frecuencia', xaxis_title='Distancia (km)')\n",
        "fig.show()\n",
        "\n"
      ]
    },
    {
      "cell_type": "code",
      "execution_count": null,
      "metadata": {
        "colab": {
          "base_uri": "https://localhost:8080/",
          "height": 573
        },
        "id": "1ipvoN5ZbuHP",
        "outputId": "d48bdbb8-61df-4aef-d246-112b4574c336"
      },
      "outputs": [],
      "source": [
        "# Definir el umbral de distancia como el percentil 90\n",
        "threshold_distance = stats['90%']  # o stats['95%'] si prefieres\n",
        "\n",
        "# Visualizar la distribución de las distancias\n",
        "plt.figure(figsize=(12, 6))\n",
        "\n",
        "# Graficar las transacciones fraudulentas y no fraudulentas\n",
        "sns.histplot(fraudulent_transactions['distance'], bins=50, color='red', label='Fraudulentas', kde=True)\n",
        "sns.histplot(non_fraudulent_transactions['distance'], bins=50, color='blue', label='No Fraudulentas', kde=True)\n",
        "\n",
        "# Agregar línea del umbral\n",
        "plt.axvline(x=threshold_distance, color='green', linestyle='--', label='Umbral de Distancia')\n",
        "plt.title('Distribución de Distancias para Transacciones Fraudulentas y No Fraudulentas')\n",
        "plt.xlabel('Distancia (km)')\n",
        "plt.ylabel('Frecuencia')\n",
        "plt.legend()\n",
        "plt.show()\n"
      ]
    },
    {
      "cell_type": "code",
      "execution_count": null,
      "metadata": {
        "colab": {
          "base_uri": "https://localhost:8080/",
          "height": 542
        },
        "id": "IcRBrbgubuHP",
        "outputId": "d7768610-dcff-453e-b83b-6f776d847a09"
      },
      "outputs": [],
      "source": [
        "# Definir el umbral de distancia (usando el percentil 90)\n",
        "threshold_distance = data_copy['distance'].describe(percentiles=[0.90])['90%']\n",
        "\n",
        "# Marcar las transacciones potencialmente fraudulentas\n",
        "data_copy['potential_fraud'] = data_copy['distance'] > threshold_distance\n",
        "\n",
        "# Crear el gráfico interactivo\n",
        "fig = px.histogram(data_copy, x='distance', color='potential_fraud',\n",
        "                   color_discrete_map={True: 'red', False: 'blue'},\n",
        "                   labels={'potential_fraud': 'Fraude Potencial'},\n",
        "                   title='Distribución de Distancias para Transacciones',\n",
        "                   nbins=50)\n",
        "\n",
        "# Agregar línea del umbral\n",
        "fig.add_shape(type='line',\n",
        "              x0=threshold_distance, y0=0,\n",
        "              x1=threshold_distance, y1=data_copy['distance'].max(),\n",
        "              line=dict(color='green', width=2, dash='dash'))\n",
        "\n",
        "# Actualizar el layout\n",
        "fig.update_layout(xaxis_title='Distancia (km)',\n",
        "                  yaxis_title='Frecuencia',\n",
        "                  showlegend=True)\n",
        "\n",
        "# Mostrar el gráfico\n",
        "fig.show()"
      ]
    },
    {
      "cell_type": "code",
      "execution_count": null,
      "metadata": {
        "colab": {
          "base_uri": "https://localhost:8080/",
          "height": 647
        },
        "id": "115sCzj1buHP",
        "outputId": "7a80d4f1-ba79-48b2-be39-beed4888a581"
      },
      "outputs": [],
      "source": [
        "\n",
        "\n",
        "# Crear un gráfico de barras para visualizar la relación entre la categoría y el fraude\n",
        "plt.figure(figsize=(12, 6))\n",
        "sns.countplot(data=data_copy, x='category', hue='is_fraud', palette='Set1')\n",
        "plt.title('Número de Transacciones por Categoría y Clase de Fraude')\n",
        "plt.xlabel('Categoría')\n",
        "plt.ylabel('Número de Transacciones')\n",
        "plt.legend(title='Fraude', labels=['No', 'Sí'])\n",
        "plt.xticks(rotation=45)\n",
        "plt.show()\n"
      ]
    },
    {
      "cell_type": "code",
      "execution_count": null,
      "metadata": {
        "colab": {
          "base_uri": "https://localhost:8080/",
          "height": 721
        },
        "id": "3zr3psS0buHP",
        "outputId": "1ff026ed-af5f-43e0-f23e-bd0a856934a5"
      },
      "outputs": [],
      "source": [
        "plt.figure(figsize=(12, 6))\n",
        "sns.boxplot(data=data_copy, x='is_fraud', y='amt', palette='Set1')\n",
        "plt.title('Distribución del Monto de Transacciones según Fraude')\n",
        "plt.xlabel('Clase de Fraude')\n",
        "plt.ylabel('Monto de Transacción')\n",
        "plt.xticks(ticks=[0, 1], labels=['No', 'Sí'])\n",
        "plt.show()\n"
      ]
    },
    {
      "cell_type": "code",
      "execution_count": null,
      "metadata": {
        "colab": {
          "base_uri": "https://localhost:8080/",
          "height": 496
        },
        "id": "7t9pQHZxbuHQ",
        "outputId": "c1ee8c7b-53ae-49dc-eed2-cea7a6e3bdf4"
      },
      "outputs": [],
      "source": [
        "plt.figure(figsize=(8, 5))\n",
        "sns.countplot(data=data_copy, x='gender', hue='is_fraud', palette='Set1')\n",
        "plt.title('Número de Transacciones por Género y Clase de Fraude')\n",
        "plt.xlabel('Género')\n",
        "plt.ylabel('Número de Transacciones')\n",
        "plt.legend(title='Fraude', labels=['No', 'Sí'])\n",
        "plt.show()\n"
      ]
    },
    {
      "cell_type": "code",
      "execution_count": null,
      "metadata": {
        "colab": {
          "base_uri": "https://localhost:8080/",
          "height": 663
        },
        "id": "Xv_iljuCbuHQ",
        "outputId": "ddb68812-d5d1-4dd5-9755-6b7c03622de7"
      },
      "outputs": [],
      "source": [
        "plt.figure(figsize=(14, 7))\n",
        "sns.countplot(data=data_copy, x='state', hue='is_fraud', palette='Set1')\n",
        "plt.title('Número de Transacciones por Estado y Clase de Fraude')\n",
        "plt.xlabel('Estado')\n",
        "plt.ylabel('Número de Transacciones')\n",
        "plt.legend(title='Fraude', labels=['No', 'Sí'])\n",
        "plt.xticks(rotation=45)\n",
        "plt.show()\n"
      ]
    },
    {
      "cell_type": "code",
      "execution_count": 62,
      "metadata": {
        "id": "Y8rQbSJ-buHQ"
      },
      "outputs": [],
      "source": []
    },
    {
      "cell_type": "code",
      "execution_count": null,
      "metadata": {
        "colab": {
          "base_uri": "https://localhost:8080/",
          "height": 1000
        },
        "id": "PzqSireEbuHQ",
        "outputId": "d6952399-3ebf-41e3-cb5c-6c1e3bef6308"
      },
      "outputs": [],
      "source": [
        "data_copy.nunique()"
      ]
    },
    {
      "cell_type": "code",
      "execution_count": null,
      "metadata": {
        "colab": {
          "base_uri": "https://localhost:8080/",
          "height": 570
        },
        "id": "ko3wPjUcbuHQ",
        "outputId": "c96822d4-84be-479a-dacb-e9a0ba7f1cca"
      },
      "outputs": [],
      "source": [
        "# 1. Análisis Descriptivo\n",
        "fraud_counts = data_copy['is_fraud'].value_counts()\n",
        "print(fraud_counts)\n",
        "\n",
        "# Visualizar la distribución de is_fraud\n",
        "sns.countplot(data=data_copy, x='is_fraud')\n",
        "plt.title('Distribución de Transacciones: Fraudulentas vs Legítimas')\n",
        "plt.show()"
      ]
    },
    {
      "cell_type": "code",
      "execution_count": null,
      "metadata": {
        "colab": {
          "base_uri": "https://localhost:8080/",
          "height": 481
        },
        "id": "hBywGkxibuHT",
        "outputId": "c99dfc62-bacf-487c-f13b-194eb5fe116a"
      },
      "outputs": [],
      "source": [
        "sns.boxplot(x='is_fraud', y='amt', data=data_copy)\n",
        "plt.title('Distribución de Monto por Clase de Fraude')\n",
        "plt.show()"
      ]
    },
    {
      "cell_type": "code",
      "execution_count": null,
      "metadata": {
        "colab": {
          "base_uri": "https://localhost:8080/",
          "height": 576
        },
        "id": "BAlXLTjdbuHU",
        "outputId": "2fb78afe-f84d-4b2d-f948-77c297a8d9ba"
      },
      "outputs": [],
      "source": [
        "# 3. Gráfico de barras por categoría\n",
        "fraud_by_category = data_copy.groupby(['category', 'is_fraud']).size().unstack()\n",
        "fraud_by_category.plot(kind='bar', stacked=True)\n",
        "plt.title('Transacciones Fraudulentas y Legítimas por Categoría')\n",
        "plt.ylabel('Número de Transacciones')\n",
        "plt.show()"
      ]
    },
    {
      "cell_type": "code",
      "execution_count": null,
      "metadata": {
        "colab": {
          "base_uri": "https://localhost:8080/",
          "height": 901
        },
        "id": "gD7aJ99XbuHU",
        "outputId": "e1f94039-1641-425d-e774-360ddc23e4a6"
      },
      "outputs": [],
      "source": [
        "# 4. Correlación de variables numéricas\n",
        "# Seleccionar solo columnas numéricas\n",
        "numeric_df = data_copy.select_dtypes(include=['float64', 'int64'])\n",
        "\n",
        "# Calcular la matriz de correlación\n",
        "correlation_matrix = numeric_df.corr()\n",
        "\n",
        "# Visualizar la matriz de correlación\n",
        "plt.figure(figsize=(12, 8))\n",
        "sns.heatmap(correlation_matrix, annot=True, fmt='.2f', cmap='coolwarm')\n",
        "plt.title('Matriz de Correlación')\n",
        "plt.show()"
      ]
    },
    {
      "cell_type": "code",
      "execution_count": null,
      "metadata": {
        "colab": {
          "base_uri": "https://localhost:8080/",
          "height": 481
        },
        "id": "F0qj5UUObuHU",
        "outputId": "71336c0a-b6be-4840-fce4-039ec63b9453"
      },
      "outputs": [],
      "source": [
        "# 5. Gráfico de dispersión\n",
        "sns.scatterplot(data=data_copy, x='distance', y='amt', hue='is_fraud', alpha=0.5)\n",
        "plt.title('Monto vs Distancia según Clase de Fraude')\n",
        "plt.show()"
      ]
    },
    {
      "cell_type": "code",
      "execution_count": null,
      "metadata": {
        "colab": {
          "base_uri": "https://localhost:8080/",
          "height": 408
        },
        "id": "tbRIPxu2buHU",
        "outputId": "b9767be7-5fe0-4a38-d42d-3ead9e1b67f4"
      },
      "outputs": [],
      "source": [
        "data_copy[data_copy['is_fraud'] == 0].groupby(by=\"age_group\").agg(\"count\")"
      ]
    },
    {
      "cell_type": "code",
      "execution_count": null,
      "metadata": {
        "colab": {
          "base_uri": "https://localhost:8080/",
          "height": 1000
        },
        "id": "PZlcWt-vbuHU",
        "outputId": "02bd13c1-e535-411b-bf2e-ff9f758961f8"
      },
      "outputs": [],
      "source": [
        "# 6. Análisis por Edad\n",
        "\n",
        "# 6.1. Crear histograma separado para transacciones fraudulentas y legítimas\n",
        "plt.figure(figsize=(12, 6))\n",
        "sns.histplot(data=data_copy[data_copy['is_fraud'] == 0], x='age', color='blue', bins=30, label='No Fraud', alpha=0.3, stat='density')\n",
        "sns.histplot(data=data_copy[data_copy['is_fraud'] == 1], x='age', color='red', bins=30, label='Fraud', alpha=0.6, stat='density')\n",
        "plt.title('Distribución de Edad según Clase de Fraude (Histograma Separado)')\n",
        "plt.xlabel('Edad')\n",
        "plt.ylabel('Densidad')\n",
        "plt.legend()\n",
        "plt.show()\n",
        "\n",
        "# 6.2. Gráfico de barras por grupo de edad\n",
        "# Crear rangos de edad\n",
        "bins = [0, 20, 30, 40, 50, 60, 70, 80, 90, 100]\n",
        "labels = ['0-20', '21-30', '31-40', '41-50', '51-60', '61-70', '71-80', '81-90', '91-100']\n",
        "data_copy['age_group'] = pd.cut(data_copy['age'], bins=bins, labels=labels)\n",
        "\n",
        "# Contar transacciones fraudulentas y no fraudulentas por grupo de edad\n",
        "age_counts = data_copy.groupby(['age_group', 'is_fraud']).size().unstack().fillna(0)\n",
        "\n",
        "# Crear gráfico de barras\n",
        "age_counts.plot(kind='bar', stacked=True)\n",
        "plt.title('Transacciones por Grupo de Edad y Clase de Fraude')\n",
        "plt.xlabel('Grupo de Edad')\n",
        "plt.ylabel('Número de Transacciones')\n",
        "plt.xticks(rotation=45)\n",
        "plt.show()\n",
        "\n",
        "# 6.3. Gráfico de densidad (KDE) separado\n",
        "plt.figure(figsize=(12, 6))\n",
        "sns.kdeplot(data=data_copy[data_copy['is_fraud'] == 0], x='age', fill=True, color='blue', label='No Fraud', alpha=0.6)\n",
        "sns.kdeplot(data=data_copy[data_copy['is_fraud'] == 1], x='age', fill=True, color='red', label='Fraud', alpha=0.6)\n",
        "plt.title('Distribución de Edad según Clase de Fraude (Densidad Separada)')\n",
        "plt.xlabel('Edad')\n",
        "plt.ylabel('Densidad')\n",
        "plt.legend()\n",
        "plt.show()"
      ]
    },
    {
      "cell_type": "code",
      "execution_count": 70,
      "metadata": {
        "id": "VLOJJ3NXbuHU"
      },
      "outputs": [],
      "source": []
    },
    {
      "cell_type": "code",
      "execution_count": 70,
      "metadata": {
        "id": "a96mnK_RbuHV"
      },
      "outputs": [],
      "source": []
    },
    {
      "cell_type": "code",
      "execution_count": null,
      "metadata": {
        "colab": {
          "base_uri": "https://localhost:8080/",
          "height": 481
        },
        "id": "tqAJ9hSWbuHV",
        "outputId": "5c75110a-a535-4154-9db6-878538743e60"
      },
      "outputs": [],
      "source": [
        "plt.axvline(x=threshold_distance, color='green', linestyle='--', label='Umbral de Distancia')\n",
        "plt.title('Distribución de Distancias para Transacciones Fraudulentas y No Fraudulentas')\n",
        "plt.xlabel('Distancia (km)')\n",
        "plt.ylabel('Frecuencia')\n",
        "plt.legend()\n",
        "plt.show()"
      ]
    },
    {
      "cell_type": "code",
      "execution_count": 71,
      "metadata": {
        "id": "5m2NmP9tbuHV"
      },
      "outputs": [],
      "source": []
    },
    {
      "cell_type": "markdown",
      "metadata": {
        "id": "2Bw_VshUbuHX"
      },
      "source": [
        "### Análisis Geográfico"
      ]
    },
    {
      "cell_type": "code",
      "execution_count": 79,
      "metadata": {
        "id": "Ab10WeeJbuHX"
      },
      "outputs": [],
      "source": [
        "fraudulent_transactions = data_copy[data_copy['is_fraud'] == 1]\n",
        "normal_transactions = data_copy[data_copy['is_fraud'] == 0]"
      ]
    },
    {
      "cell_type": "markdown",
      "metadata": {
        "id": "ifSUI6BjbuHX"
      },
      "source": [
        "#### Mapa Interactivo transacciones"
      ]
    },
    {
      "cell_type": "code",
      "execution_count": 80,
      "metadata": {
        "id": "utO1vpUdbuHY"
      },
      "outputs": [],
      "source": [
        "# Se Crea mapa centrado en las coordenadas promedio\n",
        "#m_combined = folium.Map(location=[data_copy['lat'].mean(), data_copy['long'].mean()], zoom_start=6)\n",
        "\n",
        "# Se crea objeto MarkerCluster para las transacciones\n",
        "#marker_cluster = MarkerCluster().add_to(m_combined)\n",
        "\n",
        "# Se agrega marcadores para transacciones normales\n",
        "#for idx, row in normal_transactions.iterrows():\n",
        "#    folium.Marker(\n",
        "#        location=[row['lat'], row['long']],\n",
        "#        popup=f\"Transacción: {row['trans_num']}\\nMonto: ${row['amt']:.2f}\",\n",
        "#        icon=folium.Icon(color='blue', icon='info-sign')\n",
        "#    ).add_to(marker_cluster)\n",
        "\n",
        "# Se agrega marcadores para transacciones fraudulentas\n",
        "#for idx, row in fraudulent_transactions.iterrows():\n",
        "#    folium.Marker(\n",
        "#        location=[row['lat'], row['long']],\n",
        "#        popup=f\"Transacción Fraudulenta: {row['trans_num']}\\nMonto: ${row['amt']:.2f}\",\n",
        "#        icon=folium.Icon(color='red', icon='exclamation-sign')\n",
        "#    ).add_to(marker_cluster)\n",
        "\n",
        "# Se guarda mapa combinado en un archivo HTML\n",
        "#map_file = 'mapa_combined_transacciones.html'\n",
        "#m_combined.save(map_file)\n",
        "#print(f\"Mapa guardado como '{map_file}'\")"
      ]
    },
    {
      "cell_type": "markdown",
      "metadata": {
        "id": "J9BOhDySbuHY"
      },
      "source": [
        "#### Mapa de Calor de Transacciones Fraudulentas"
      ]
    },
    {
      "cell_type": "code",
      "execution_count": null,
      "metadata": {
        "colab": {
          "base_uri": "https://localhost:8080/",
          "height": 750
        },
        "id": "ZwMGCMEFbuHY",
        "outputId": "233fd351-e130-4f7c-fe4c-2b810b63d7db"
      },
      "outputs": [],
      "source": [
        "# Crear los datos de calor (latitud, longitud)\n",
        "heat_data = [[row['lat'], row['long']] for _, row in fraudulent_transactions.iterrows()]\n",
        "\n",
        "# Crear el mapa centrado en las coordenadas promedio\n",
        "heat_map = folium.Map(location=[fraudulent_transactions['lat'].mean(), fraudulent_transactions['long'].mean()], zoom_start=6)\n",
        "\n",
        "# Agregar el mapa de calor con radio ajustado\n",
        "HeatMap(heat_data, radius=15).add_to(heat_map)\n",
        "\n",
        "# Mostrar el mapa en la celda del Jupyter Notebook en VSC\n",
        "display(heat_map)  # Este método muestra el mapa interactivo en la celda\n",
        "\n",
        "# Guardar el mapa en un archivo HTML\n",
        "map_file = 'mapa_calor_fraud.html'\n",
        "heat_map.save(map_file)\n",
        "print(f\"Mapa de calor guardado como '{map_file}'\")"
      ]
    },
    {
      "cell_type": "markdown",
      "metadata": {
        "id": "tL2GfV3PbuHY"
      },
      "source": [
        "#### Distribución de Transacciones por Ciudad y Estado"
      ]
    },
    {
      "cell_type": "code",
      "execution_count": 82,
      "metadata": {
        "id": "GmU389e2buHY"
      },
      "outputs": [],
      "source": [
        "fraud_by_city = fraudulent_transactions.groupby('city').size().reset_index(name='count')\n",
        "fraud_by_state = fraudulent_transactions.groupby('state').size().reset_index(name='count')"
      ]
    },
    {
      "cell_type": "markdown",
      "metadata": {
        "id": "Mk21SMUobuHY"
      },
      "source": [
        "##### Top 10 con más Transacciones Fraudulentas"
      ]
    },
    {
      "cell_type": "code",
      "execution_count": null,
      "metadata": {
        "colab": {
          "base_uri": "https://localhost:8080/",
          "height": 985
        },
        "id": "hCx_cyPcbuHY",
        "outputId": "7675ce61-f203-4444-ae46-41212380f40d"
      },
      "outputs": [],
      "source": [
        "top_10_cities = fraud_by_city.sort_values(by='count', ascending=False).head(10)\n",
        "\n",
        "plt.figure(figsize=(10, 5))\n",
        "top_10_cities.plot(kind='bar', x='city', y='count', legend=False, ax=plt.gca())\n",
        "plt.title('Top 10 Ciudades con Más Transacciones Fraudulentas')\n",
        "plt.ylabel('Número de Transacciones Fraudulentas')\n",
        "plt.xlabel('Ciudad')\n",
        "plt.xticks(rotation=45)\n",
        "plt.tight_layout()\n",
        "plt.show()\n",
        "\n",
        "\n",
        "bottom_10_cities = fraud_by_city.sort_values(by='count', ascending=True).head(10)\n",
        "\n",
        "plt.figure(figsize=(10, 5))\n",
        "bottom_10_cities.plot(kind='bar', x='city', y='count', legend=False, ax=plt.gca(), color='green')\n",
        "plt.title('Top 10 Ciudades con Menos Transacciones Fraudulentas')\n",
        "plt.ylabel('Número de Transacciones Fraudulentas')\n",
        "plt.xlabel('Ciudad')\n",
        "plt.xticks(rotation=45)\n",
        "plt.tight_layout()\n",
        "plt.show()"
      ]
    },
    {
      "cell_type": "markdown",
      "metadata": {
        "id": "SXBdC_FhbuHZ"
      },
      "source": [
        "##### Top 10 con menos Transacciones Fraudulentas"
      ]
    },
    {
      "cell_type": "code",
      "execution_count": null,
      "metadata": {
        "colab": {
          "base_uri": "https://localhost:8080/",
          "height": 985
        },
        "id": "J2vCYr-obuHZ",
        "outputId": "1e02d592-bdb2-4487-f839-2a3ed9ee2c65"
      },
      "outputs": [],
      "source": [
        "\n",
        "top_10_states = fraud_by_state.sort_values(by='count', ascending=False).head(10)\n",
        "\n",
        "plt.figure(figsize=(10, 5))\n",
        "top_10_states.plot(kind='bar', x='state', y='count', legend=False, ax=plt.gca())\n",
        "plt.title('Top 10 Estados con Más Transacciones Fraudulentas')\n",
        "plt.ylabel('Número de Transacciones Fraudulentas')\n",
        "plt.xlabel('Estado')\n",
        "plt.xticks(rotation=45)\n",
        "plt.tight_layout()\n",
        "plt.show()\n",
        "\n",
        "bottom_10_states = fraud_by_state.sort_values(by='count', ascending=True).head(10)\n",
        "\n",
        "plt.figure(figsize=(10, 5))\n",
        "bottom_10_states.plot(kind='bar', x='state', y='count', legend=False, ax=plt.gca(), color='green')\n",
        "plt.title('Top 10 Estados con Menos Transacciones Fraudulentas')\n",
        "plt.ylabel('Número de Transacciones Fraudulentas')\n",
        "plt.xlabel('Estado')\n",
        "plt.xticks(rotation=45)\n",
        "plt.tight_layout()\n",
        "plt.show()"
      ]
    },
    {
      "cell_type": "markdown",
      "metadata": {
        "id": "xvdn9ierbuHZ"
      },
      "source": [
        "### Frecuencia de Compras por Cliente"
      ]
    },
    {
      "cell_type": "code",
      "execution_count": null,
      "metadata": {
        "colab": {
          "base_uri": "https://localhost:8080/",
          "height": 481
        },
        "id": "YSS4mgMybuHZ",
        "outputId": "84082a23-a2c8-4a62-b717-d8dcab1cf55d"
      },
      "outputs": [],
      "source": [
        "# Agrupar por el número de tarjeta y contar la cantidad de transacciones\n",
        "compras_por_cliente = data_copy.groupby('cc_num').size().reset_index(name='frecuencia')\n",
        "\n",
        "# Histograma de frecuencia de compras por cliente\n",
        "compras_por_cliente['frecuencia'].plot(kind='hist', bins=30)\n",
        "plt.title('Distribución de la Frecuencia de Compras por Cliente')\n",
        "plt.xlabel('Número de Compras')\n",
        "plt.ylabel('Frecuencia')\n",
        "plt.show()\n"
      ]
    },
    {
      "cell_type": "markdown",
      "metadata": {
        "id": "XydsMKhcbuHZ"
      },
      "source": [
        "### Análisis Demográfico"
      ]
    },
    {
      "cell_type": "markdown",
      "metadata": {
        "id": "67pSC27dbuHZ"
      },
      "source": [
        "#### Relación entre Edad y Fraude"
      ]
    },
    {
      "cell_type": "code",
      "execution_count": null,
      "metadata": {
        "colab": {
          "base_uri": "https://localhost:8080/",
          "height": 480
        },
        "id": "ni8PErz9buHa",
        "outputId": "d446ceab-bef8-4f7b-e320-06cfca057b83"
      },
      "outputs": [],
      "source": [
        "# Histograma de edad en transacciones fraudulentas\n",
        "data_copy[data_copy['is_fraud'] == 1]['age'].plot(kind='hist', bins=30)\n",
        "plt.title('Distribución de Edad en Transacciones Fraudulentas')\n",
        "plt.xlabel('Edad')\n",
        "plt.ylabel('Frecuencia')\n",
        "plt.show()"
      ]
    },
    {
      "cell_type": "markdown",
      "metadata": {
        "id": "yvl0ahkAbuHa"
      },
      "source": [
        "#### Relación entre Género y Fraude"
      ]
    },
    {
      "cell_type": "code",
      "execution_count": null,
      "metadata": {
        "colab": {
          "base_uri": "https://localhost:8080/",
          "height": 479
        },
        "id": "v96kBwgcbuHa",
        "outputId": "b64a3b69-efee-4bef-eaa2-fd8a7e0b6d5d"
      },
      "outputs": [],
      "source": [
        "# Conteo de fraudes por género\n",
        "fraudes_por_genero = data_copy[data_copy['is_fraud'] == 1].groupby('gender').size()\n",
        "\n",
        "# Graficar la relación entre género y fraude\n",
        "fraudes_por_genero.plot(kind='bar', color='red')\n",
        "plt.title('Número de Fraudes por Género')\n",
        "plt.ylabel('Cantidad de Fraudes')\n",
        "plt.xlabel('Género')\n",
        "plt.show()"
      ]
    },
    {
      "cell_type": "markdown",
      "metadata": {
        "id": "hFZujYtdbuHa"
      },
      "source": [
        "## Relación de Fraudes y número de transacciones"
      ]
    },
    {
      "cell_type": "code",
      "execution_count": 88,
      "metadata": {
        "id": "_9tW3kqybuHa"
      },
      "outputs": [],
      "source": [
        "trans_fraud = data_copy.groupby(by=\"cc_num\").agg(\n",
        "    total_transc=(\"trans_num\", \"count\"),\n",
        "    fraud=(\"is_fraud\", \"sum\"),\n",
        "    total_amt = (\"amt\", \"sum\")\n",
        ").reset_index()"
      ]
    },
    {
      "cell_type": "code",
      "execution_count": null,
      "metadata": {
        "colab": {
          "base_uri": "https://localhost:8080/",
          "height": 573
        },
        "id": "SGHc4qWBbuHa",
        "outputId": "7191b618-a629-45fc-cc1f-4903fc94aebd"
      },
      "outputs": [],
      "source": [
        "plt.figure(figsize=(10, 6))\n",
        "sns.scatterplot(x='total_transc', y='fraud', data=trans_fraud, label='Datos')\n",
        "sns.regplot(x='total_transc', y='fraud', data=trans_fraud, scatter=False, color='red', label='Regresión')\n",
        "plt.title('Relación entre Número de Transacciones y Fraude con Ajuste de Regresión')\n",
        "plt.xlabel('Número de Transacciones')\n",
        "plt.ylabel('Número de Fraudes')\n",
        "plt.legend()\n",
        "plt.show()"
      ]
    },
    {
      "cell_type": "code",
      "execution_count": null,
      "metadata": {
        "colab": {
          "base_uri": "https://localhost:8080/",
          "height": 573
        },
        "id": "LPlDR4ZxbuHa",
        "outputId": "f20cff33-a793-4bbd-906c-f26cbdc0a04b"
      },
      "outputs": [],
      "source": [
        "plt.figure(figsize=(10, 6))\n",
        "sns.scatterplot(x='total_amt', y='fraud', data=trans_fraud, label='Datos')\n",
        "sns.regplot(x='total_amt', y='fraud', data=trans_fraud, scatter=False, color='red', label='Regresión')\n",
        "plt.title('Relación entre monto de transacción (amt) y Fraude con Ajuste de Regresión')\n",
        "plt.xlabel(\"Monto de transacción\")\n",
        "plt.ylabel('Número de Fraudes')\n",
        "plt.legend()\n",
        "plt.show()"
      ]
    },
    {
      "cell_type": "code",
      "execution_count": null,
      "metadata": {
        "colab": {
          "base_uri": "https://localhost:8080/",
          "height": 1000
        },
        "id": "0myfMQJAbuHa",
        "outputId": "82bfe57f-f98b-4929-fe5e-946a075673ee"
      },
      "outputs": [],
      "source": [
        "subset = data_copy[['amt', 'lat', 'long', 'age', 'is_fraud']]\n",
        "\n",
        "sns.pairplot(subset, hue='is_fraud', diag_kind='kde', palette='coolwarm')\n",
        "\n",
        "plt.savefig('pairplot_fraud_analysis.png', dpi=300, bbox_inches='tight')\n",
        "\n",
        "plt.show()"
      ]
    },
    {
      "cell_type": "code",
      "execution_count": 91,
      "metadata": {
        "id": "7oMEKr-hbuHb"
      },
      "outputs": [],
      "source": []
    },
    {
      "cell_type": "code",
      "execution_count": null,
      "metadata": {
        "colab": {
          "base_uri": "https://localhost:8080/",
          "height": 220
        },
        "id": "jSbCQhHtbuHb",
        "outputId": "a817afb2-9a6b-4d6e-f5df-f3a5b1bf45ff"
      },
      "outputs": [],
      "source": [
        "import folium\n",
        "from folium.plugins import FastMarkerCluster\n",
        "import pandas as pd\n",
        "\n",
        "\n",
        "# Crea el mapa centrado en una ubicación inicial (puedes ajustar estas coordenadas)\n",
        "Mm = folium.Map(location=[20.0, 0.0], zoom_start=2)\n",
        "\n",
        "# Generar una lista de coordenadas para las transacciones\n",
        "locations = list(zip(df['merch_lat'], df['merch_long']))\n",
        "\n",
        "# Agregar el FastMarkerCluster al mapa\n",
        "FastMarkerCluster(locations).add_to(m)\n",
        "\n",
        "# Guardar el mapa en un archivo HTML\n",
        "m.save('mapa_fast_marker_cluster.html')\n",
        "\n",
        "# Mostrar el mapa (si usas Jupyter Notebook, puedes usar esto, pero como estás en VSC, revisa el HTML)\n",
        "m"
      ]
    },
    {
      "cell_type": "code",
      "execution_count": null,
      "metadata": {
        "id": "0OaM46jsbuHb"
      },
      "outputs": [],
      "source": []
    },
    {
      "cell_type": "code",
      "execution_count": null,
      "metadata": {
        "id": "Yd5auPembuHb"
      },
      "outputs": [],
      "source": []
    },
    {
      "cell_type": "code",
      "execution_count": null,
      "metadata": {
        "id": "GLVdfpSpbuHb"
      },
      "outputs": [],
      "source": [
        "import pandas as pd\n",
        "\n",
        "# Supongamos que tu DataFrame se llama df y ya contiene la columna unix_time\n",
        "# Convertir unix_time a datetime\n",
        "data_copy['trans_date_trans_times'] = pd.to_datetime(data['unix_time'], unit='s')\n",
        "\n",
        "# Ahora puedes usar la nueva columna trans_date_trans_time para análisis\n"
      ]
    },
    {
      "cell_type": "code",
      "execution_count": null,
      "metadata": {
        "id": "PAJlslgtbuHb"
      },
      "outputs": [],
      "source": [
        "data_copy"
      ]
    },
    {
      "cell_type": "code",
      "execution_count": null,
      "metadata": {
        "id": "5hnGBolDbuHc"
      },
      "outputs": [],
      "source": [
        "data_copy = data.copy()\n",
        "\n",
        "if data_copy.index.is_monotonic_increasing:\n",
        "    print(\"¿El índice es monotónico creciente?\", data_copy.index.is_monotonic_increasing)\n",
        "else:\n",
        "    print(\"¿El índice es monotónico decreciente?\", data_copy.index.is_monotonic_decreasing)"
      ]
    },
    {
      "cell_type": "code",
      "execution_count": null,
      "metadata": {
        "id": "XkdIAiBSbuHc"
      },
      "outputs": [],
      "source": [
        "data_copy.info()"
      ]
    },
    {
      "cell_type": "code",
      "execution_count": null,
      "metadata": {
        "id": "Tf8ICNJybuHc"
      },
      "outputs": [],
      "source": [
        "# Convertir la columna de fecha a tipo datetime\n",
        "data['trans_date_trans_time'] = pd.to_datetime(data['trans_date_trans_time'])\n",
        "\n",
        "# Agrupar por fecha y contar el número de fraudes\n",
        "fraudes_por_fecha = data[data['is_fraud'] == 1].groupby(data['trans_date_trans_time'].dt.date).size()\n",
        "\n",
        "# Visualizar la distribución de fraudes a lo largo del tiempo\n",
        "plt.figure(figsize=(12, 6))\n",
        "plt.plot(fraudes_por_fecha.index, fraudes_por_fecha.values, marker='o')\n",
        "plt.title('Distribución de Fraudes por Fecha')\n",
        "plt.xlabel('Fecha')\n",
        "plt.ylabel('Número de Fraudes')\n",
        "plt.xticks(rotation=45)\n",
        "plt.grid()\n",
        "plt.show()\n"
      ]
    },
    {
      "cell_type": "code",
      "execution_count": null,
      "metadata": {
        "id": "iSKB5DxWbuHc"
      },
      "outputs": [],
      "source": [
        "fraudes_por_fecha"
      ]
    },
    {
      "cell_type": "code",
      "execution_count": null,
      "metadata": {
        "id": "sj2tMF9obuHc"
      },
      "outputs": [],
      "source": [
        "# Autocorrelación con diferentes retrasos de tiempo\n",
        "autocorrelation_lag1 = fraudes_por_fecha.autocorr(lag=1)  # Día\n",
        "print(\"One Day Lag: \", autocorrelation_lag1)\n",
        "\n",
        "autocorrelation_lag7 = fraudes_por_fecha.autocorr(lag=7)  # Semana\n",
        "print(\"\\nSeven Day Lag: \", autocorrelation_lag7)\n",
        "\n",
        "autocorrelation_lag30 = fraudes_por_fecha.autocorr(lag=30)  # Mes (aproximadamente 30 días)\n",
        "print(\"\\nThirty Days Lag: \", autocorrelation_lag30)\n",
        "\n",
        "autocorrelation_lag90 = fraudes_por_fecha.autocorr(lag=90)  # Trimestre (90 días)\n",
        "print(\"\\nNinety Days Lag: \", autocorrelation_lag90)\n",
        "\n",
        "autocorrelation_lag180 = fraudes_por_fecha.autocorr(lag=180)  # Semestre (180 días)\n",
        "print(\"\\nSix Months Lag: \", autocorrelation_lag180)\n",
        "\n",
        "autocorrelation_lag365 = fraudes_por_fecha.autocorr(lag=365)  # Año (365 días)\n",
        "print(\"\\nOne Year Lag: \", autocorrelation_lag365)\n"
      ]
    },
    {
      "cell_type": "code",
      "execution_count": null,
      "metadata": {
        "id": "mKBUPWzKbuHc"
      },
      "outputs": [],
      "source": [
        "import matplotlib.pyplot as plt\n",
        "from statsmodels.graphics.tsaplots import plot_acf\n",
        "\n",
        "# Visualizar la autocorrelación\n",
        "plt.figure(figsize=(10, 6))\n",
        "plot_acf(fraudes_por_fecha, lags=7)  # Puedes ajustar el número de 'lags'\n",
        "plt.title('Autocorrelación de Fraudes por Fecha')\n",
        "plt.show()\n"
      ]
    },
    {
      "cell_type": "code",
      "execution_count": null,
      "metadata": {
        "id": "kKBvlt7zbuHc"
      },
      "outputs": [],
      "source": [
        "import matplotlib.pyplot as plt\n",
        "from statsmodels.graphics.tsaplots import plot_pacf\n",
        "\n",
        "# Visualizar la autocorrelación\n",
        "plt.figure(figsize=(10, 6))\n",
        "plot_pacf(fraudes_por_fecha, lags=7)  # Puedes ajustar el número de 'lags'\n",
        "plt.title('Autocorrelación de Fraudes por Fecha')\n",
        "plt.show()"
      ]
    },
    {
      "cell_type": "code",
      "execution_count": null,
      "metadata": {
        "id": "8Dr5ZSxobuHd"
      },
      "outputs": [],
      "source": [
        "# Visualizar la autocorrelación\n",
        "plt.figure(figsize=(10, 6))\n",
        "plot_acf(fraudes_por_fecha, lags=30)  # Puedes ajustar el número de 'lags'\n",
        "plt.title('Autocorrelación de Fraudes por Fecha')\n",
        "plt.show()"
      ]
    },
    {
      "cell_type": "code",
      "execution_count": null,
      "metadata": {
        "id": "Li2fBkxObuHd"
      },
      "outputs": [],
      "source": [
        "# Visualizar la autocorrelación\n",
        "plt.figure(figsize=(10, 6))\n",
        "plot_pacf(fraudes_por_fecha, lags=30)  # Puedes ajustar el número de 'lags'\n",
        "plt.title('Autocorrelación de Fraudes por Fecha')\n",
        "plt.show()"
      ]
    },
    {
      "cell_type": "code",
      "execution_count": null,
      "metadata": {
        "id": "j17TOj-EbuHd"
      },
      "outputs": [],
      "source": [
        "# Visualizar la autocorrelación\n",
        "plt.figure(figsize=(10, 6))\n",
        "plot_acf(fraudes_por_fecha, lags=90)  # Puedes ajustar el número de 'lags'\n",
        "plt.title('Autocorrelación de Fraudes por Fecha')\n",
        "plt.show()"
      ]
    },
    {
      "cell_type": "code",
      "execution_count": null,
      "metadata": {
        "id": "Ysrrsim3buHd"
      },
      "outputs": [],
      "source": [
        "# Visualizar la autocorrelación\n",
        "plt.figure(figsize=(10, 6))\n",
        "plot_pacf(fraudes_por_fecha, lags=90)  # Puedes ajustar el número de 'lags'\n",
        "plt.title('Autocorrelación de Fraudes por Fecha')\n",
        "plt.show()"
      ]
    },
    {
      "cell_type": "code",
      "execution_count": null,
      "metadata": {
        "id": "r2_qdXcdbuHd"
      },
      "outputs": [],
      "source": [
        "# Visualizar la autocorrelación\n",
        "plt.figure(figsize=(10, 6))\n",
        "plot_acf(fraudes_por_fecha, lags=180)  # Puedes ajustar el número de 'lags'\n",
        "plt.title('Autocorrelación de Fraudes por Fecha')\n",
        "plt.show()"
      ]
    },
    {
      "cell_type": "code",
      "execution_count": null,
      "metadata": {
        "id": "523jPpG9buHd"
      },
      "outputs": [],
      "source": [
        "# Visualizar la autocorrelación\n",
        "plt.figure(figsize=(10, 6))\n",
        "plot_pacf(fraudes_por_fecha, lags=180)  # Puedes ajustar el número de 'lags'\n",
        "plt.title('Autocorrelación de Fraudes por Fecha')\n",
        "plt.show()"
      ]
    },
    {
      "cell_type": "code",
      "execution_count": null,
      "metadata": {
        "id": "mnNjOHcGbuHe"
      },
      "outputs": [],
      "source": [
        "# Visualizar la autocorrelación\n",
        "plt.figure(figsize=(10, 6))\n",
        "plot_acf(fraudes_por_fecha, lags=365)  # Puedes ajustar el número de 'lags'\n",
        "plt.title('Autocorrelación de Fraudes por Fecha')\n",
        "plt.show()"
      ]
    },
    {
      "cell_type": "code",
      "execution_count": null,
      "metadata": {
        "id": "RWwVeMZzbuHe"
      },
      "outputs": [],
      "source": [
        "# Visualizar la autocorrelación\n",
        "plt.figure(figsize=(10, 6))\n",
        "plot_pacf(fraudes_por_fecha, lags=365)  # Puedes ajustar el número de 'lags'\n",
        "plt.title('Autocorrelación de Fraudes por Fecha')\n",
        "plt.show()"
      ]
    },
    {
      "cell_type": "code",
      "execution_count": null,
      "metadata": {
        "id": "g13ekMPkbuHe"
      },
      "outputs": [],
      "source": [
        "from statsmodels.tsa.seasonal import seasonal_decompose\n",
        "import matplotlib.pyplot as plt\n",
        "\n",
        "# Descomponer la serie (ajustar el periodo si es necesario)\n",
        "decomposition = seasonal_decompose(fraudes_por_fecha, model='additive', period=7)\n",
        "\n",
        "# Graficar los componentes\n",
        "decomposition.plot()\n",
        "plt.show()\n"
      ]
    },
    {
      "cell_type": "code",
      "execution_count": null,
      "metadata": {
        "id": "N17xffB8buHe"
      },
      "outputs": [],
      "source": [
        "# Descomponer la serie (ajustar el periodo si es necesario)\n",
        "decomposition = seasonal_decompose(fraudes_por_fecha, model='additive', period=30)\n",
        "\n",
        "# Graficar los componentes\n",
        "decomposition.plot()\n",
        "plt.show()\n"
      ]
    },
    {
      "cell_type": "code",
      "execution_count": null,
      "metadata": {
        "id": "91KABForbuHe"
      },
      "outputs": [],
      "source": [
        "# Descomponer la serie (ajustar el periodo si es necesario)\n",
        "decomposition = seasonal_decompose(fraudes_por_fecha, model='additive', period=90)\n",
        "\n",
        "# Graficar los componentes\n",
        "decomposition.plot()\n",
        "plt.show()"
      ]
    },
    {
      "cell_type": "code",
      "execution_count": null,
      "metadata": {
        "id": "B-3REw6xbuHe"
      },
      "outputs": [],
      "source": [
        "# Descomponer la serie (ajustar el periodo si es necesario)\n",
        "decomposition = seasonal_decompose(fraudes_por_fecha, model='additive', period=180)\n",
        "\n",
        "# Graficar los componentes\n",
        "decomposition.plot()\n",
        "plt.show()"
      ]
    },
    {
      "cell_type": "code",
      "execution_count": null,
      "metadata": {
        "id": "7IeQAwiYbuHe"
      },
      "outputs": [],
      "source": [
        "# Descomponer la serie (ajustar el periodo si es necesario)\n",
        "decomposition = seasonal_decompose(fraudes_por_fecha, model='additive', period=252)\n",
        "\n",
        "# Graficar los componentes\n",
        "decomposition.plot()\n",
        "plt.show()"
      ]
    },
    {
      "cell_type": "code",
      "execution_count": null,
      "metadata": {
        "id": "iG6rc96AbuHf"
      },
      "outputs": [],
      "source": [
        "fraudes_por_fecha_copy = fraudes_por_fecha.resample(\"1D\").sum()\n",
        "fraudes_por_fecha_copy_filtered = fraudes_por_fecha[\"2019-01-06 00:00:00\":\"2019-01-12 00:00:00\"]\n",
        "fig = px.line(fraudes_por_fecha_copy_filtered, x=fraudes_por_fecha_copy_filtered.index, y=\"num_orders\", title=\"Fraudes por 7 días\")\n",
        "fig.show()"
      ]
    },
    {
      "cell_type": "code",
      "execution_count": null,
      "metadata": {
        "id": "B40EmMQgbuHf"
      },
      "outputs": [],
      "source": [
        "fraudes_por_fecha"
      ]
    },
    {
      "cell_type": "code",
      "execution_count": null,
      "metadata": {
        "id": "JbPGrN_NbuHf"
      },
      "outputs": [],
      "source": []
    },
    {
      "cell_type": "code",
      "execution_count": null,
      "metadata": {
        "id": "RXLZdtoEbuHf"
      },
      "outputs": [],
      "source": []
    },
    {
      "cell_type": "code",
      "execution_count": null,
      "metadata": {
        "id": "GteT7MiDbuHf"
      },
      "outputs": [],
      "source": []
    },
    {
      "cell_type": "code",
      "execution_count": null,
      "metadata": {
        "id": "9Awwl1mmbuHf"
      },
      "outputs": [],
      "source": []
    },
    {
      "cell_type": "code",
      "execution_count": null,
      "metadata": {
        "id": "9-AjeEcrbuHf"
      },
      "outputs": [],
      "source": [
        "plt.figure(figsize=(10, 6))\n",
        "sns.boxplot(x='fraud', y='total_transc', data=trans_fraud)\n",
        "plt.title('Distribución de Fraudes por Número de Transacciones')\n",
        "plt.xlabel('Fraude')\n",
        "plt.ylabel('Número de Transacciones')\n",
        "plt.show()\n",
        "\n"
      ]
    },
    {
      "cell_type": "code",
      "execution_count": null,
      "metadata": {
        "id": "CHjUsOZibuHf"
      },
      "outputs": [],
      "source": [
        "plt.figure(figsize=(10, 6))\n",
        "sns.kdeplot(data[data['is_fraud'] == 1]['amt'], label='Fraude', fill=True)\n",
        "sns.kdeplot(data[data['is_fraud'] == 0]['amt'], label='No Fraude', fill=True)\n",
        "plt.title('Densidad de Montos de Fraude vs No Fraude')\n",
        "plt.xlabel('Monto de la Transacción')\n",
        "plt.ylabel('Densidad')\n",
        "plt.legend()\n",
        "plt.show()\n"
      ]
    },
    {
      "cell_type": "code",
      "execution_count": null,
      "metadata": {
        "id": "RJS9VAfRbuHg"
      },
      "outputs": [],
      "source": [
        "data['trans_date_trans_time'] = pd.to_datetime(data['trans_date_trans_time'])\n",
        "\n",
        "# Extraer la hora y contar los fraudes por hora\n",
        "data['hora'] = data['trans_date_trans_time'].dt.hour\n",
        "fraudes_por_hora = data[data['is_fraud'] == 1].groupby('hora').size()\n",
        "\n",
        "# Visualizar\n",
        "plt.figure(figsize=(10, 6))\n",
        "sns.barplot(x=fraudes_por_hora.index, y=fraudes_por_hora.values)\n",
        "plt.title('Distribución de Fraudes por Hora')\n",
        "plt.xlabel('Hora del Día')\n",
        "plt.ylabel('Número de Fraudes')\n",
        "plt.xticks(fraudes_por_hora.index)  # Asegúrate de que las horas estén en el eje x\n",
        "plt.show()\n"
      ]
    },
    {
      "cell_type": "code",
      "execution_count": null,
      "metadata": {
        "id": "-FohLzPVbuHg"
      },
      "outputs": [],
      "source": [
        "data['trans_date_trans_time'] = pd.to_datetime(data['trans_date_trans_time'])\n",
        "\n",
        "# Histograma de tiempos de transacción\n",
        "plt.figure(figsize=(10, 6))\n",
        "sns.histplot(data['trans_date_trans_time'].dt.hour, bins=24, kde=True)\n",
        "plt.title('Distribución de Tiempos de Transacción')\n",
        "plt.xlabel('Hora del Día')\n",
        "plt.ylabel('Frecuencia')\n",
        "plt.show()\n",
        "\n"
      ]
    },
    {
      "cell_type": "code",
      "execution_count": null,
      "metadata": {
        "id": "dp4Q_1mMbuHg"
      },
      "outputs": [],
      "source": [
        "# Calcular IQR para la columna 'amt' (monto de la transacción)\n",
        "Q1 = data['amt'].quantile(0.25)\n",
        "Q3 = data['amt'].quantile(0.75)\n",
        "IQR = Q3 - Q1\n",
        "\n",
        "# Identificar outliers\n",
        "outliers = data[(data['amt'] < (Q1 - 1.5 * IQR)) | (data['amt'] > (Q3 + 1.5 * IQR))]\n",
        "\n",
        "# Visualizar outliers\n",
        "plt.figure(figsize=(10, 6))\n",
        "sns.boxplot(x=data['amt'])\n",
        "plt.title('Identificación de Outliers en Transacciones')\n",
        "plt.show()\n",
        "\n",
        "# Mostrar los outliers\n",
        "print(outliers)\n"
      ]
    },
    {
      "cell_type": "code",
      "execution_count": null,
      "metadata": {
        "id": "t298xa6ENb6B"
      },
      "outputs": [],
      "source": []
    },
    {
      "cell_type": "code",
      "execution_count": null,
      "metadata": {
        "id": "0eIL9B_uNb0D"
      },
      "outputs": [],
      "source": []
    },
    {
      "cell_type": "code",
      "execution_count": null,
      "metadata": {
        "id": "j3LDG5HrNbuJ"
      },
      "outputs": [],
      "source": []
    },
    {
      "cell_type": "code",
      "execution_count": null,
      "metadata": {
        "id": "LZ5jF76aNbl9"
      },
      "outputs": [],
      "source": []
    },
    {
      "cell_type": "code",
      "execution_count": null,
      "metadata": {
        "id": "_IpV7YX9Nbes"
      },
      "outputs": [],
      "source": []
    },
    {
      "cell_type": "code",
      "execution_count": null,
      "metadata": {
        "id": "rZE2RLfgNbZW"
      },
      "outputs": [],
      "source": []
    },
    {
      "cell_type": "code",
      "execution_count": null,
      "metadata": {
        "id": "ohze2c7qNbRx"
      },
      "outputs": [],
      "source": []
    },
    {
      "cell_type": "code",
      "execution_count": null,
      "metadata": {
        "id": "yvI1YYr-buHg"
      },
      "outputs": [],
      "source": []
    }
  ],
  "metadata": {
    "colab": {
      "provenance": [],
      "toc_visible": true
    },
    "kernelspec": {
      "display_name": "Python 3",
      "name": "python3"
    },
    "language_info": {
      "codemirror_mode": {
        "name": "ipython",
        "version": 3
      },
      "file_extension": ".py",
      "mimetype": "text/x-python",
      "name": "python",
      "nbconvert_exporter": "python",
      "pygments_lexer": "ipython3",
      "version": "3.12.0"
    }
  },
  "nbformat": 4,
  "nbformat_minor": 0
}
