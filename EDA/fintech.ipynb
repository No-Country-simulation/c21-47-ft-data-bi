{
 "cells": [
  {
   "cell_type": "markdown",
   "metadata": {},
   "source": [
    "# **Proyecto de Fintech:**\n"
   ]
  },
  {
   "cell_type": "markdown",
   "metadata": {},
   "source": [
    "***\n",
    "***"
   ]
  },
  {
   "cell_type": "markdown",
   "metadata": {},
   "source": [
    "### **Predicción de Fraude en Transacciones Financieras**\n",
    "- **Descripción del Proyecto:**\n",
    "\n",
    "Desarrollar un modelo predictivo para detectar\n",
    "transacciones fraudulentas en una plataforma de pagos electrónicos, utilizando\n",
    "técnicas de aprendizaje automático y análisis de comportamiento.\n",
    "\n",
    "- **Fuente de Datos:**\n",
    "\n",
    "El conjuntos de datos de transacciones financieras\n",
    "fraudulentas se obtuvo a traves de repositorios de datos abiertos como el conjunto de datos de Fraude\n",
    "de Tarjetas de Crédito en Kaggle.\n",
    "\n",
    "Link: https://www.kaggle.com/datasets/priyamchoksi/credit-card-transactions-dataset\n"
   ]
  },
  {
   "cell_type": "markdown",
   "metadata": {},
   "source": [
    "***"
   ]
  },
  {
   "cell_type": "markdown",
   "metadata": {},
   "source": [
    "## **Diccionario:**"
   ]
  },
  {
   "cell_type": "markdown",
   "metadata": {},
   "source": [
    "Descripcion de las columnas del DataFrame."
   ]
  },
  {
   "cell_type": "markdown",
   "metadata": {},
   "source": [
    " 1_ **trans_date_trans_time:** Timestamp of the transaction (date and time when the transaction occurred).\n",
    " 2_ **cc_num:** Credit card number (hashed or anonymized).  \n",
    " 3_ **merchant:** Merchant or store where the transaction occurred.\n",
    " 4_ **category:** Type of transaction (e.g., grocery, entertainment).  \n",
    " 5_ **amt:** Amount of the transaction.\n",
    " 6_ **first:** First name of the cardholder.    \n",
    " 7_ **last:** Last name of the cardholder.    \n",
    " 8_ **gender:** Gender of the cardholder.     \n",
    " 9_ **street:** Address details of the cardholder. \n",
    " 11_ **city:** City where the cardholder resides. \n",
    " 11_ **state:** State where the cardholder resides.  \n",
    " 12_ **zip:** ZIP or postal code of the cardholder.  \n",
    " 13_ **lat:** Latitude of the cardholder's address. \n",
    " 14_ **long:** Longitude of the cardholder's address.  \n",
    " 15_ **city_pop:** Population of the cardholder's city.  \n",
    " 16_ **job:** Job or occupation of the cardholder.  \n",
    " 17_ **dob:** Date of birth of the cardholder.  \n",
    " 18_ **trans_num:** Unique identifier for the transaction.  \n",
    " 19_ **unix_time:** Transaction timestamp in Unix time (seconds since the Unix epoch, useful for time calculations).  \n",
    " 20_ **merch_lat:** Latitude of the merchant’s location.  \n",
    " 21_ **merch_long:** Longitude of the merchant’s location. \n",
    " 22_ **is_fraud:** Indicator of whether the transaction was fraudulent (1 for fraudulent, 0 for non-fraudulent).  \n",
    " 23_ **merch_zipcode:** ZIP or postal code of the merchant. "
   ]
  },
  {
   "cell_type": "markdown",
   "metadata": {},
   "source": [
    "***"
   ]
  },
  {
   "cell_type": "markdown",
   "metadata": {},
   "source": [
    "## **Importar Librerias**:"
   ]
  },
  {
   "cell_type": "code",
   "execution_count": 41,
   "metadata": {},
   "outputs": [],
   "source": [
    "# Importa las librerías necesarias\n",
    "import pandas as pd\n",
    "import numpy as np\n",
    "import datetime\n",
    "import seaborn as sns\n",
    "import matplotlib.pyplot as plt\n",
    "\n",
    "from dateutil.relativedelta import relativedelta"
   ]
  },
  {
   "cell_type": "markdown",
   "metadata": {},
   "source": [
    "***"
   ]
  },
  {
   "cell_type": "markdown",
   "metadata": {},
   "source": [
    "## **Carga de los Archivos**:"
   ]
  },
  {
   "cell_type": "code",
   "execution_count": 42,
   "metadata": {},
   "outputs": [],
   "source": [
    "# Cargar el archivo .csv, especificando qué columnas incluir (todas menos 'Unnamed: 0') en un DataFrame\n",
    "df = pd.read_csv('credit_card_transactions.csv', usecols=lambda column: column != 'Unnamed: 0')"
   ]
  },
  {
   "cell_type": "markdown",
   "metadata": {},
   "source": [
    "***"
   ]
  },
  {
   "cell_type": "markdown",
   "metadata": {},
   "source": [
    "## **Display de Celdas para Visualización**:"
   ]
  },
  {
   "cell_type": "code",
   "execution_count": 43,
   "metadata": {},
   "outputs": [],
   "source": [
    "# Muestra todas las columnas\n",
    "pd.set_option('display.max_columns', None)\n",
    "\n",
    "# Muestra todas las filas\n",
    "pd.set_option('display.max_rows', None) \n",
    "\n",
    "# Limita el ancho de cada columna a 50 caracteres\n",
    "pd.set_option('display.max_colwidth', None)  "
   ]
  },
  {
   "cell_type": "markdown",
   "metadata": {},
   "source": [
    "Se modifica el seteo para poder observar la totalidad de Columnas, Filas y Ancho de las Celdas."
   ]
  },
  {
   "cell_type": "markdown",
   "metadata": {},
   "source": [
    "***"
   ]
  },
  {
   "cell_type": "markdown",
   "metadata": {},
   "source": [
    "## **Visualización General del DataFrame**:"
   ]
  },
  {
   "cell_type": "code",
   "execution_count": 44,
   "metadata": {},
   "outputs": [
    {
     "name": "stdout",
     "output_type": "stream",
     "text": [
      "El DataFrame posee un total de 29823525 Celdas\n"
     ]
    }
   ],
   "source": [
    "#Tamaño del DataFrame\n",
    "df_tamaño = df.size\n",
    "print(f'El DataFrame posee un total de {df_tamaño} Celdas')"
   ]
  },
  {
   "cell_type": "code",
   "execution_count": 45,
   "metadata": {},
   "outputs": [
    {
     "name": "stdout",
     "output_type": "stream",
     "text": [
      "El DataFrame posee un Total de:\n",
      "\n",
      "-Columnas: 23 \n",
      "-Filas: 1296675\n"
     ]
    }
   ],
   "source": [
    "#Forma, Columnas y FIlas\n",
    "df_forma = df.shape\n",
    "print(f'El DataFrame posee un Total de:\\n\\n-Columnas: {df_forma[1]} \\n-Filas: {df_forma[0]}')"
   ]
  },
  {
   "cell_type": "code",
   "execution_count": 46,
   "metadata": {},
   "outputs": [
    {
     "name": "stdout",
     "output_type": "stream",
     "text": [
      "<class 'pandas.core.frame.DataFrame'>\n",
      "RangeIndex: 1296675 entries, 0 to 1296674\n",
      "Data columns (total 23 columns):\n",
      " #   Column                 Non-Null Count    Dtype  \n",
      "---  ------                 --------------    -----  \n",
      " 0   trans_date_trans_time  1296675 non-null  object \n",
      " 1   cc_num                 1296675 non-null  int64  \n",
      " 2   merchant               1296675 non-null  object \n",
      " 3   category               1296675 non-null  object \n",
      " 4   amt                    1296675 non-null  float64\n",
      " 5   first                  1296675 non-null  object \n",
      " 6   last                   1296675 non-null  object \n",
      " 7   gender                 1296675 non-null  object \n",
      " 8   street                 1296675 non-null  object \n",
      " 9   city                   1296675 non-null  object \n",
      " 10  state                  1296675 non-null  object \n",
      " 11  zip                    1296675 non-null  int64  \n",
      " 12  lat                    1296675 non-null  float64\n",
      " 13  long                   1296675 non-null  float64\n",
      " 14  city_pop               1296675 non-null  int64  \n",
      " 15  job                    1296675 non-null  object \n",
      " 16  dob                    1296675 non-null  object \n",
      " 17  trans_num              1296675 non-null  object \n",
      " 18  unix_time              1296675 non-null  int64  \n",
      " 19  merch_lat              1296675 non-null  float64\n",
      " 20  merch_long             1296675 non-null  float64\n",
      " 21  is_fraud               1296675 non-null  int64  \n",
      " 22  merch_zipcode          1100702 non-null  float64\n",
      "dtypes: float64(6), int64(5), object(12)\n",
      "memory usage: 227.5+ MB\n"
     ]
    }
   ],
   "source": [
    "# Características generales del DataFrame\n",
    "df.info()"
   ]
  },
  {
   "cell_type": "markdown",
   "metadata": {},
   "source": [
    "El DataFrame unicamente posee una sola columna con datos nulos, la columna'merch_zipcode'."
   ]
  },
  {
   "cell_type": "code",
   "execution_count": 47,
   "metadata": {},
   "outputs": [
    {
     "data": {
      "text/html": [
       "<div>\n",
       "<style scoped>\n",
       "    .dataframe tbody tr th:only-of-type {\n",
       "        vertical-align: middle;\n",
       "    }\n",
       "\n",
       "    .dataframe tbody tr th {\n",
       "        vertical-align: top;\n",
       "    }\n",
       "\n",
       "    .dataframe thead th {\n",
       "        text-align: right;\n",
       "    }\n",
       "</style>\n",
       "<table border=\"1\" class=\"dataframe\">\n",
       "  <thead>\n",
       "    <tr style=\"text-align: right;\">\n",
       "      <th></th>\n",
       "      <th>trans_date_trans_time</th>\n",
       "      <th>cc_num</th>\n",
       "      <th>merchant</th>\n",
       "      <th>category</th>\n",
       "      <th>amt</th>\n",
       "      <th>first</th>\n",
       "      <th>last</th>\n",
       "      <th>gender</th>\n",
       "      <th>street</th>\n",
       "      <th>city</th>\n",
       "      <th>state</th>\n",
       "      <th>zip</th>\n",
       "      <th>lat</th>\n",
       "      <th>long</th>\n",
       "      <th>city_pop</th>\n",
       "      <th>job</th>\n",
       "      <th>dob</th>\n",
       "      <th>trans_num</th>\n",
       "      <th>unix_time</th>\n",
       "      <th>merch_lat</th>\n",
       "      <th>merch_long</th>\n",
       "      <th>is_fraud</th>\n",
       "      <th>merch_zipcode</th>\n",
       "    </tr>\n",
       "  </thead>\n",
       "  <tbody>\n",
       "    <tr>\n",
       "      <th>0</th>\n",
       "      <td>2019-01-01 00:00:18</td>\n",
       "      <td>2703186189652095</td>\n",
       "      <td>fraud_Rippin, Kub and Mann</td>\n",
       "      <td>misc_net</td>\n",
       "      <td>4.97</td>\n",
       "      <td>Jennifer</td>\n",
       "      <td>Banks</td>\n",
       "      <td>F</td>\n",
       "      <td>561 Perry Cove</td>\n",
       "      <td>Moravian Falls</td>\n",
       "      <td>NC</td>\n",
       "      <td>28654</td>\n",
       "      <td>36.0788</td>\n",
       "      <td>-81.1781</td>\n",
       "      <td>3495</td>\n",
       "      <td>Psychologist, counselling</td>\n",
       "      <td>1988-03-09</td>\n",
       "      <td>0b242abb623afc578575680df30655b9</td>\n",
       "      <td>1325376018</td>\n",
       "      <td>36.011293</td>\n",
       "      <td>-82.048315</td>\n",
       "      <td>0</td>\n",
       "      <td>28705.0</td>\n",
       "    </tr>\n",
       "    <tr>\n",
       "      <th>1</th>\n",
       "      <td>2019-01-01 00:00:44</td>\n",
       "      <td>630423337322</td>\n",
       "      <td>fraud_Heller, Gutmann and Zieme</td>\n",
       "      <td>grocery_pos</td>\n",
       "      <td>107.23</td>\n",
       "      <td>Stephanie</td>\n",
       "      <td>Gill</td>\n",
       "      <td>F</td>\n",
       "      <td>43039 Riley Greens Suite 393</td>\n",
       "      <td>Orient</td>\n",
       "      <td>WA</td>\n",
       "      <td>99160</td>\n",
       "      <td>48.8878</td>\n",
       "      <td>-118.2105</td>\n",
       "      <td>149</td>\n",
       "      <td>Special educational needs teacher</td>\n",
       "      <td>1978-06-21</td>\n",
       "      <td>1f76529f8574734946361c461b024d99</td>\n",
       "      <td>1325376044</td>\n",
       "      <td>49.159047</td>\n",
       "      <td>-118.186462</td>\n",
       "      <td>0</td>\n",
       "      <td>NaN</td>\n",
       "    </tr>\n",
       "    <tr>\n",
       "      <th>2</th>\n",
       "      <td>2019-01-01 00:00:51</td>\n",
       "      <td>38859492057661</td>\n",
       "      <td>fraud_Lind-Buckridge</td>\n",
       "      <td>entertainment</td>\n",
       "      <td>220.11</td>\n",
       "      <td>Edward</td>\n",
       "      <td>Sanchez</td>\n",
       "      <td>M</td>\n",
       "      <td>594 White Dale Suite 530</td>\n",
       "      <td>Malad City</td>\n",
       "      <td>ID</td>\n",
       "      <td>83252</td>\n",
       "      <td>42.1808</td>\n",
       "      <td>-112.2620</td>\n",
       "      <td>4154</td>\n",
       "      <td>Nature conservation officer</td>\n",
       "      <td>1962-01-19</td>\n",
       "      <td>a1a22d70485983eac12b5b88dad1cf95</td>\n",
       "      <td>1325376051</td>\n",
       "      <td>43.150704</td>\n",
       "      <td>-112.154481</td>\n",
       "      <td>0</td>\n",
       "      <td>83236.0</td>\n",
       "    </tr>\n",
       "    <tr>\n",
       "      <th>3</th>\n",
       "      <td>2019-01-01 00:01:16</td>\n",
       "      <td>3534093764340240</td>\n",
       "      <td>fraud_Kutch, Hermiston and Farrell</td>\n",
       "      <td>gas_transport</td>\n",
       "      <td>45.00</td>\n",
       "      <td>Jeremy</td>\n",
       "      <td>White</td>\n",
       "      <td>M</td>\n",
       "      <td>9443 Cynthia Court Apt. 038</td>\n",
       "      <td>Boulder</td>\n",
       "      <td>MT</td>\n",
       "      <td>59632</td>\n",
       "      <td>46.2306</td>\n",
       "      <td>-112.1138</td>\n",
       "      <td>1939</td>\n",
       "      <td>Patent attorney</td>\n",
       "      <td>1967-01-12</td>\n",
       "      <td>6b849c168bdad6f867558c3793159a81</td>\n",
       "      <td>1325376076</td>\n",
       "      <td>47.034331</td>\n",
       "      <td>-112.561071</td>\n",
       "      <td>0</td>\n",
       "      <td>NaN</td>\n",
       "    </tr>\n",
       "    <tr>\n",
       "      <th>4</th>\n",
       "      <td>2019-01-01 00:03:06</td>\n",
       "      <td>375534208663984</td>\n",
       "      <td>fraud_Keeling-Crist</td>\n",
       "      <td>misc_pos</td>\n",
       "      <td>41.96</td>\n",
       "      <td>Tyler</td>\n",
       "      <td>Garcia</td>\n",
       "      <td>M</td>\n",
       "      <td>408 Bradley Rest</td>\n",
       "      <td>Doe Hill</td>\n",
       "      <td>VA</td>\n",
       "      <td>24433</td>\n",
       "      <td>38.4207</td>\n",
       "      <td>-79.4629</td>\n",
       "      <td>99</td>\n",
       "      <td>Dance movement psychotherapist</td>\n",
       "      <td>1986-03-28</td>\n",
       "      <td>a41d7549acf90789359a9aa5346dcb46</td>\n",
       "      <td>1325376186</td>\n",
       "      <td>38.674999</td>\n",
       "      <td>-78.632459</td>\n",
       "      <td>0</td>\n",
       "      <td>22844.0</td>\n",
       "    </tr>\n",
       "  </tbody>\n",
       "</table>\n",
       "</div>"
      ],
      "text/plain": [
       "  trans_date_trans_time            cc_num                            merchant  \\\n",
       "0   2019-01-01 00:00:18  2703186189652095          fraud_Rippin, Kub and Mann   \n",
       "1   2019-01-01 00:00:44      630423337322     fraud_Heller, Gutmann and Zieme   \n",
       "2   2019-01-01 00:00:51    38859492057661                fraud_Lind-Buckridge   \n",
       "3   2019-01-01 00:01:16  3534093764340240  fraud_Kutch, Hermiston and Farrell   \n",
       "4   2019-01-01 00:03:06   375534208663984                 fraud_Keeling-Crist   \n",
       "\n",
       "        category     amt      first     last gender  \\\n",
       "0       misc_net    4.97   Jennifer    Banks      F   \n",
       "1    grocery_pos  107.23  Stephanie     Gill      F   \n",
       "2  entertainment  220.11     Edward  Sanchez      M   \n",
       "3  gas_transport   45.00     Jeremy    White      M   \n",
       "4       misc_pos   41.96      Tyler   Garcia      M   \n",
       "\n",
       "                         street            city state    zip      lat  \\\n",
       "0                561 Perry Cove  Moravian Falls    NC  28654  36.0788   \n",
       "1  43039 Riley Greens Suite 393          Orient    WA  99160  48.8878   \n",
       "2      594 White Dale Suite 530      Malad City    ID  83252  42.1808   \n",
       "3   9443 Cynthia Court Apt. 038         Boulder    MT  59632  46.2306   \n",
       "4              408 Bradley Rest        Doe Hill    VA  24433  38.4207   \n",
       "\n",
       "       long  city_pop                                job         dob  \\\n",
       "0  -81.1781      3495          Psychologist, counselling  1988-03-09   \n",
       "1 -118.2105       149  Special educational needs teacher  1978-06-21   \n",
       "2 -112.2620      4154        Nature conservation officer  1962-01-19   \n",
       "3 -112.1138      1939                    Patent attorney  1967-01-12   \n",
       "4  -79.4629        99     Dance movement psychotherapist  1986-03-28   \n",
       "\n",
       "                          trans_num   unix_time  merch_lat  merch_long  \\\n",
       "0  0b242abb623afc578575680df30655b9  1325376018  36.011293  -82.048315   \n",
       "1  1f76529f8574734946361c461b024d99  1325376044  49.159047 -118.186462   \n",
       "2  a1a22d70485983eac12b5b88dad1cf95  1325376051  43.150704 -112.154481   \n",
       "3  6b849c168bdad6f867558c3793159a81  1325376076  47.034331 -112.561071   \n",
       "4  a41d7549acf90789359a9aa5346dcb46  1325376186  38.674999  -78.632459   \n",
       "\n",
       "   is_fraud  merch_zipcode  \n",
       "0         0        28705.0  \n",
       "1         0            NaN  \n",
       "2         0        83236.0  \n",
       "3         0            NaN  \n",
       "4         0        22844.0  "
      ]
     },
     "execution_count": 47,
     "metadata": {},
     "output_type": "execute_result"
    }
   ],
   "source": [
    "# Verifica los primeros registros\n",
    "df.head()"
   ]
  },
  {
   "cell_type": "markdown",
   "metadata": {},
   "source": [
    "***"
   ]
  },
  {
   "cell_type": "markdown",
   "metadata": {},
   "source": [
    "## **Datos Ausentes:**"
   ]
  },
  {
   "cell_type": "code",
   "execution_count": 49,
   "metadata": {},
   "outputs": [
    {
     "name": "stdout",
     "output_type": "stream",
     "text": [
      "Faltantes por Columnas:\n",
      "trans_date_trans_time         0\n",
      "cc_num                        0\n",
      "merchant                      0\n",
      "category                      0\n",
      "amt                           0\n",
      "first                         0\n",
      "last                          0\n",
      "gender                        0\n",
      "street                        0\n",
      "city                          0\n",
      "state                         0\n",
      "zip                           0\n",
      "lat                           0\n",
      "long                          0\n",
      "city_pop                      0\n",
      "job                           0\n",
      "dob                           0\n",
      "trans_num                     0\n",
      "unix_time                     0\n",
      "merch_lat                     0\n",
      "merch_long                    0\n",
      "is_fraud                      0\n",
      "merch_zipcode            195973\n",
      "dtype: int64\n",
      "\n",
      "---------------------------------------\n",
      "Faltantes totales: 195973\n",
      "Porcentaje Total de Faltantes: 0.66%\n"
     ]
    }
   ],
   "source": [
    "# Suma los ausentes de cada columna\n",
    "datos_faltantes = df.isna().sum()\n",
    "\n",
    "# Calcula el total de los nulos\n",
    "total_faltantes = datos_faltantes.sum()\n",
    "\n",
    "# Porcentaje Total de los faltantes\n",
    "porcentaje_faltantes = round((total_faltantes / df_tamaño) * 100, 2)\n",
    "\n",
    "# Impresión en pantalla de los resultados\n",
    "print(f'Faltantes por Columnas:\\n{datos_faltantes}\\n')\n",
    "print('---------------------------------------')\n",
    "print(f'Faltantes totales: {total_faltantes}')\n",
    "print(f'Porcentaje Total de Faltantes: {porcentaje_faltantes}%')\n"
   ]
  },
  {
   "cell_type": "markdown",
   "metadata": {},
   "source": [
    "***"
   ]
  },
  {
   "cell_type": "markdown",
   "metadata": {},
   "source": [
    "## **Datos Duplicados:**"
   ]
  },
  {
   "cell_type": "code",
   "execution_count": 50,
   "metadata": {},
   "outputs": [
    {
     "name": "stdout",
     "output_type": "stream",
     "text": [
      "La cantidad de Filas Duplicadas es: 0\n"
     ]
    }
   ],
   "source": [
    "# Crea variable con numero de duplicados\n",
    "cantidad_duplicados = df.duplicated().sum()\n",
    "print(f'La cantidad de Filas Duplicadas es: {cantidad_duplicados}')"
   ]
  },
  {
   "cell_type": "markdown",
   "metadata": {},
   "source": [
    "***"
   ]
  },
  {
   "cell_type": "markdown",
   "metadata": {},
   "source": [
    "## **Variables:**"
   ]
  },
  {
   "cell_type": "markdown",
   "metadata": {},
   "source": [
    "- Observamos el tipo de Variables que posee el Dataframe, para decidir si es necesario realizar un cambio de tipo que facilite su tratamiento en su posterior análisis."
   ]
  },
  {
   "cell_type": "code",
   "execution_count": 51,
   "metadata": {},
   "outputs": [
    {
     "name": "stdout",
     "output_type": "stream",
     "text": [
      "Tipo de dato de cada Variable:\n",
      "trans_date_trans_time     object\n",
      "cc_num                     int64\n",
      "merchant                  object\n",
      "category                  object\n",
      "amt                      float64\n",
      "first                     object\n",
      "last                      object\n",
      "gender                    object\n",
      "street                    object\n",
      "city                      object\n",
      "state                     object\n",
      "zip                        int64\n",
      "lat                      float64\n",
      "long                     float64\n",
      "city_pop                   int64\n",
      "job                       object\n",
      "dob                       object\n",
      "trans_num                 object\n",
      "unix_time                  int64\n",
      "merch_lat                float64\n",
      "merch_long               float64\n",
      "is_fraud                   int64\n",
      "merch_zipcode            float64\n",
      "dtype: object\n"
     ]
    }
   ],
   "source": [
    "# Tipo de Dato de cada Columna\n",
    "variables = df.dtypes\n",
    "print(f'Tipo de dato de cada Variable:\\n{variables}')"
   ]
  },
  {
   "cell_type": "code",
   "execution_count": 52,
   "metadata": {},
   "outputs": [
    {
     "name": "stdout",
     "output_type": "stream",
     "text": [
      "Tipo de variables unicas:\n",
      "{dtype('int64'), dtype('O'), dtype('float64')}\n"
     ]
    }
   ],
   "source": [
    "# Variable con los tipos de datos únicos\n",
    "tipo_variable = set(df.dtypes)\n",
    "print(f'Tipo de variables unicas:\\n{tipo_variable}')"
   ]
  },
  {
   "cell_type": "code",
   "execution_count": 53,
   "metadata": {},
   "outputs": [
    {
     "name": "stdout",
     "output_type": "stream",
     "text": [
      "Variables tipo Object:\n",
      "Index(['trans_date_trans_time', 'merchant', 'category', 'first', 'last',\n",
      "       'gender', 'street', 'city', 'state', 'job', 'dob', 'trans_num'],\n",
      "      dtype='object')\n",
      "\n",
      "Variables tipo Object:\n",
      "Index(['cc_num', 'zip', 'city_pop', 'unix_time', 'is_fraud'], dtype='object')\n",
      "\n",
      "Variables tipo Float:\n",
      "Index(['amt', 'lat', 'long', 'merch_lat', 'merch_long', 'merch_zipcode'], dtype='object')\n"
     ]
    }
   ],
   "source": [
    "# Columnas según tipo de variable 'object'\n",
    "columnas_object = df.select_dtypes(include=['object']).columns\n",
    "print(f'Variables tipo Object:\\n{columnas_object}\\n')\n",
    "\n",
    "# Columnas según tipo de variable 'int64'\n",
    "columnas_int64 = df.select_dtypes(include=['int64']).columns\n",
    "print(f'Variables tipo Object:\\n{columnas_int64}\\n')\n",
    "\n",
    "# Columnas según tipo de variable 'float64'\n",
    "columnas_float64 = df.select_dtypes(include=['float64']).columns\n",
    "print(f'Variables tipo Float:\\n{columnas_float64}')"
   ]
  },
  {
   "cell_type": "markdown",
   "metadata": {},
   "source": [
    "### **Modificar Columnas:**"
   ]
  },
  {
   "cell_type": "code",
   "execution_count": 54,
   "metadata": {},
   "outputs": [
    {
     "name": "stdout",
     "output_type": "stream",
     "text": [
      "Tipo de dato modificado, columna 'trans_date_trans_time': datetime64[ns]\n",
      "Tipo de dato modificado, columna 'dob': datetime64[ns]\n"
     ]
    }
   ],
   "source": [
    "# Convertir la columna 'trans_date_trans_time' a formato datetime\n",
    "df['trans_date_trans_time'] = pd.to_datetime(df['trans_date_trans_time'])\n",
    "\n",
    "# Verificar el tipo de dato modificado\n",
    "print(f\"Tipo de dato modificado, columna 'trans_date_trans_time': {df['trans_date_trans_time'].dtype}\")\n",
    "\n",
    "# Convertir 'dob' a formato datetime \n",
    "df['dob'] = pd.to_datetime(df['dob'])\n",
    "\n",
    "# Verificar el tipo de dato modificado\n",
    "print(f\"Tipo de dato modificado, columna 'dob': {df['dob'].dtype}\")\n",
    "\n"
   ]
  },
  {
   "cell_type": "code",
   "execution_count": 55,
   "metadata": {},
   "outputs": [
    {
     "name": "stdout",
     "output_type": "stream",
     "text": [
      "Columna edad creada:\n",
      "0    36\n",
      "1    46\n",
      "2    62\n",
      "3    57\n",
      "4    38\n",
      "5    63\n",
      "6    31\n",
      "7    77\n",
      "8    83\n",
      "9    50\n",
      "Name: edad, dtype: int64\n"
     ]
    }
   ],
   "source": [
    "# Crear una función para calcular la edad con relativedelta\n",
    "def calcular_edad(fecha_nacimiento):\n",
    "    \"\"\"\n",
    "    Calcular la edad de una persona en años a partir de su fecha de nacimiento.\n",
    "\n",
    "    Args:\n",
    "        fecha_nacimiento (datetime): La fecha de nacimiento de la persona.\n",
    "\n",
    "    Returns:\n",
    "        int: La edad de la persona en años.\n",
    "    \"\"\"\n",
    "    \n",
    "    # Obtener la fecha actual en formato datetime\n",
    "    fecha_actual = pd.to_datetime('today')\n",
    "    \n",
    "    # Calcular la diferencia entre la fecha actual y la fecha de nacimiento\n",
    "    # y retornar solo la cantidad de años.\n",
    "    return relativedelta(fecha_actual, fecha_nacimiento).years\n",
    "\n",
    "\n",
    "# Aplicar la función a la columna 'dob' para crear una nueva columna 'edad'\n",
    "df['edad'] = df['dob'].apply(calcular_edad)\n",
    "\n",
    "# Muestra la Columna creada\n",
    "print(f\"Columna edad creada:\\n{df['edad'].head(10)}\")\n"
   ]
  },
  {
   "cell_type": "code",
   "execution_count": 15,
   "metadata": {},
   "outputs": [
    {
     "name": "stdout",
     "output_type": "stream",
     "text": [
      "Visualizacion de Columnas: \n",
      "   edad        rango_etario\n",
      "0    36  Entre 25 y 40 Años\n",
      "1    46  Entre 40 y 55 Años\n",
      "2    62  Entre 55 y 70 Años\n",
      "3    57  Entre 55 y 70 Años\n",
      "4    38  Entre 25 y 40 Años\n"
     ]
    }
   ],
   "source": [
    "# Función para generar una columna con rango etario\n",
    "def rango_etario(edad):\n",
    "    \"\"\"\n",
    "    Determina el rango etario de una persona basado en su edad.\n",
    "\n",
    "    Args:\n",
    "        edad (int): La edad de la persona.\n",
    "\n",
    "    Returns:\n",
    "        str: Una cadena que describe el rango etario de la persona.\n",
    "              Los posibles valores son:\n",
    "              - 'Menores a 25 Años'\n",
    "              - 'Entre 25 y 40 Años'\n",
    "              - 'Entre 40 y 55 Años'\n",
    "              - 'Entre 55 y 70 Años'\n",
    "              - 'Mayores a 70 Años'\n",
    "\n",
    "    Raises:\n",
    "        ValueError: Si la edad es negativa o no es un número entero.\n",
    "    \"\"\"\n",
    "    \n",
    "    # Valida que la edad es un número entero no negativo\n",
    "    if not isinstance(edad, int) or edad < 0:\n",
    "        raise ValueError(\"La edad debe ser un número entero no negativo.\")\n",
    "    \n",
    "    # Define una lista de tuplas que contiene los rangos de edad y sus etiquetas correspondientes.\n",
    "    rangos = [\n",
    "        (0, 25, 'Menores a 25 Años'),       # Rango: 0 a 25 años\n",
    "        (25, 40, 'Entre 25 y 40 Años'),     # Rango: 25 a 40 años\n",
    "        (40, 55, 'Entre 40 y 55 Años'),     # Rango: 40 a 55 años\n",
    "        (55, 70, 'Entre 55 y 70 Años'),     # Rango: 55 a 70 años\n",
    "        (70, float('inf'), 'Mayores a 70 Años')  # Rango: 70 años en adelante (sin límite superior)\n",
    "    ]\n",
    "    \n",
    "    # Itera sobre cada rango en la lista de rangos.\n",
    "    for limite_inferior, limite_superior, etiqueta in rangos:\n",
    "        # Verifica si la edad está dentro del rango actual.\n",
    "        if limite_inferior <= edad < limite_superior:\n",
    "            # Si la edad está dentro del rango, devuelve la etiqueta correspondiente.\n",
    "            return etiqueta\n",
    "        \n",
    "\n",
    "# Crea una nueva columna aplicando la funcion a la variable 'edad'\n",
    "df['rango_etario'] = df['edad'].apply(rango_etario)\n",
    "        \n",
    "# Seleccionar las columnas 'edad' y 'rango_etareo'\n",
    "print(f\"Visualizacion de Columnas: \\n{df[['edad', 'rango_etario']].head(5)}\")\n"
   ]
  },
  {
   "cell_type": "code",
   "execution_count": 16,
   "metadata": {},
   "outputs": [
    {
     "name": "stdout",
     "output_type": "stream",
     "text": [
      "Tipo de Dato Modificado: Int64\n"
     ]
    }
   ],
   "source": [
    "# Convertir la columna 'merch_zipcode' al tipo Int64\n",
    "df['merch_zipcode'] = df['merch_zipcode'].astype('Int64')\n",
    "\n",
    "# Verificar el tipo de dato de la columna después de la conversión\n",
    "print(f\"Tipo de Dato Modificado: {df['merch_zipcode'].dtype}\")"
   ]
  },
  {
   "cell_type": "markdown",
   "metadata": {},
   "source": [
    "Se puede observar que la variable 'trans_date_trans_time' y 'dob' son de tipo 'object' y tienen valores de fecha,  la variable 'merch_zipcode' posee tipo 'float64' al ser código postal deberían ser números enteros.\n",
    "\n",
    "Por estas situaciones, se decide hacer un cambio de tipo al correspondiente."
   ]
  },
  {
   "cell_type": "code",
   "execution_count": 17,
   "metadata": {},
   "outputs": [],
   "source": [
    "# Cambia de nombre de variables a Español\n",
    "df = df.rename(columns={\n",
    "    'trans_date_trans_time': 'fecha_hora_transaccion',\n",
    "    'cc_num': 'numero_tarjeta',\n",
    "    'merchant': 'comercio',\n",
    "    'category': 'categoria',\n",
    "    'amt': 'monto',\n",
    "    'first': 'nombre',\n",
    "    'last': 'apellido',\n",
    "    'gender': 'genero',\n",
    "    'street': 'calle',\n",
    "    'city': 'ciudad',\n",
    "    'state': 'estado',\n",
    "    'zip': 'codigo_postal',\n",
    "    'lat': 'latitud',\n",
    "    'long': 'longitud',\n",
    "    'city_pop': 'poblacion_ciudad',\n",
    "    'job': 'trabajo',\n",
    "    'dob': 'fecha_nacimiento',\n",
    "    'trans_num': 'numero_transaccion',\n",
    "    'unix_time': 'tiempo_unix',\n",
    "    'merch_lat': 'latitud_comercio',\n",
    "    'merch_long': 'longitud_comercio',\n",
    "    'is_fraud': 'es_fraude',\n",
    "    'merch_zipcode': 'codigo_postal_comercio'\n",
    "})\n"
   ]
  },
  {
   "cell_type": "markdown",
   "metadata": {},
   "source": [
    "***"
   ]
  },
  {
   "cell_type": "markdown",
   "metadata": {},
   "source": [
    "## **Variables Individuales:**"
   ]
  },
  {
   "cell_type": "markdown",
   "metadata": {},
   "source": [
    "Agrupamos  las variables según su tipo para un análisis individual."
   ]
  },
  {
   "cell_type": "code",
   "execution_count": 25,
   "metadata": {},
   "outputs": [
    {
     "name": "stdout",
     "output_type": "stream",
     "text": [
      "Variables tipo Cualitativa:\n",
      "Index(['comercio', 'categoria', 'nombre', 'apellido', 'genero', 'calle',\n",
      "       'ciudad', 'estado', 'trabajo', 'numero_transaccion', 'rango_etario'],\n",
      "      dtype='object')\n",
      "\n",
      "Variables tipo Cuantitativa:\n",
      "Index(['numero_tarjeta', 'monto', 'codigo_postal', 'latitud', 'longitud',\n",
      "       'poblacion_ciudad', 'tiempo_unix', 'latitud_comercio',\n",
      "       'longitud_comercio', 'es_fraude', 'codigo_postal_comercio', 'edad'],\n",
      "      dtype='object')\n",
      "\n",
      "Variables tipo Tiempo:\n",
      "Index(['fecha_hora_transaccion', 'fecha_nacimiento'], dtype='object')\n"
     ]
    }
   ],
   "source": [
    "# Columnas según tipo de variable 'object'\n",
    "columnas_cualitativa = df.select_dtypes(include=['object']).columns\n",
    "print(f'Variables tipo Cualitativa:\\n{columnas_cualitativa}\\n')\n",
    "\n",
    "# Columnas según tipo de variable 'int64'\n",
    "columnas_cuantitativa = df.select_dtypes(include=['int64', 'float64']).columns\n",
    "print(f'Variables tipo Cuantitativa:\\n{columnas_cuantitativa}\\n')\n",
    "\n",
    "# Columnas según tipo de variable 'datetime64'\n",
    "columnas_tiempo = df.select_dtypes(include=['datetime64']).columns\n",
    "print(f'Variables tipo Tiempo:\\n{columnas_tiempo}')"
   ]
  },
  {
   "cell_type": "markdown",
   "metadata": {},
   "source": [
    "### **Categoricas:**"
   ]
  },
  {
   "cell_type": "markdown",
   "metadata": {},
   "source": [
    "**Comercio:**"
   ]
  },
  {
   "cell_type": "code",
   "execution_count": 79,
   "metadata": {},
   "outputs": [
    {
     "data": {
      "image/png": "[encoded data removed]",
      "text/plain": [
       "<Figure size 1200x600 with 1 Axes>"
      ]
     },
     "metadata": {},
     "output_type": "display_data"
    }
   ],
   "source": [
    "# Calcular los conteos\n",
    "comercio_counts = df['comercio'].value_counts().head(10)\n",
    "\n",
    "# Convertir a DataFrame para poder usarlo en seaborn\n",
    "comercio_df = comercio_counts.reset_index()\n",
    "\n",
    "# Renombrar las columnas para mayor claridad\n",
    "comercio_df.columns = ['comercio', 'conteo']\n",
    "\n",
    "# Crea una nueva figura con un tamaño personalizado\n",
    "plt.figure(figsize=(12, 6))  \n",
    "\n",
    "# Crea el gráfico de barras con seaborn\n",
    "ax = sns.barplot(x='comercio', y='conteo', data=comercio_df)  \n",
    "\n",
    "# Título y etiquetas de los ejes\n",
    "ax.set_title('Cantidad de Comercios')  \n",
    "\n",
    "# Etiqueta el eje X como \"Comercios\".\n",
    "ax.set_xlabel('Comercios')  \n",
    "\n",
    "# Etiqueta el eje Y como \"Cantidad de Comercios\".\n",
    "ax.set_ylabel('Cantidad de Comercios')  \n",
    "\n",
    "# Cambiar los colores de las barras manualmente usando matplotlib\n",
    "colors = plt.cm.viridis(np.linspace(0, 1, len(comercio_df)))  \n",
    "\n",
    "# Asignar un color a cada barra\n",
    "for bar, color in zip(ax.patches, colors):  \n",
    "    bar.set_facecolor(color)  \n",
    "\n",
    "# Rotar las etiquetas del eje X\n",
    "plt.xticks(rotation=70, ha='right')  \n",
    "\n",
    "# Añadir etiquetas a las barras\n",
    "for i in ax.containers:  \n",
    "    ax.bar_label(i)  \n",
    "\n",
    "# Mostrar el gráfico\n",
    "plt.show()  "
   ]
  },
  {
   "cell_type": "markdown",
   "metadata": {},
   "source": [
    "**Categoria:**"
   ]
  },
  {
   "cell_type": "code",
   "execution_count": 94,
   "metadata": {},
   "outputs": [
    {
     "data": {
      "image/png": "[encoded data removed]",
      "text/plain": [
       "<Figure size 1200x600 with 1 Axes>"
      ]
     },
     "metadata": {},
     "output_type": "display_data"
    }
   ],
   "source": [
    "# Calcular los conteos\n",
    "categoria_counts = df['categoria'].value_counts().head(15)\n",
    "\n",
    "# Convertir a DataFrame para poder usarlo en seaborn\n",
    "categoria_df = categoria_counts.reset_index()\n",
    "\n",
    "# Renombrar las columnas para mayor claridad\n",
    "categoria_df.columns = ['categoria', 'conteo']\n",
    "\n",
    "# Crea las medidas de la figura\n",
    "plt.figure(figsize=(12,6))\n",
    "\n",
    "# Crear el gráfico de barras con seaborn\n",
    "ax = sns.barplot(x='categoria', y='conteo', data=categoria_df)\n",
    "\n",
    "# Título y etiquetas de los ejes\n",
    "ax.set_title('Categorias de Comercios')\n",
    "ax.set_xlabel('Categorias')\n",
    "ax.set_ylabel('Cantidad de Categorias')\n",
    "\n",
    "# Cambiar los colores de las barras manualmente usando matplotlib\n",
    "colors = plt.cm.viridis(np.linspace(0,1, len(categoria_df)))\n",
    "\n",
    "# Asignar un color a cada barra\n",
    "for bar,color in zip(ax.patches, colors):\n",
    "    bar.set_facecolor(color)\n",
    "\n",
    "# Rotar las etiquetas del eje X\n",
    "plt.xticks(rotation=70, ha='right')\n",
    "\n",
    "# Cambiar los colores de las barras manualmente usando matplotlib\n",
    "for i in ax.containers:\n",
    "    ax.bar_label(i)\n",
    "\n",
    "# Muestra el gráfico\n",
    "plt.show()"
   ]
  },
  {
   "cell_type": "code",
   "execution_count": 96,
   "metadata": {},
   "outputs": [
    {
     "data": {
      "text/html": [
       "<div>\n",
       "<style scoped>\n",
       "    .dataframe tbody tr th:only-of-type {\n",
       "        vertical-align: middle;\n",
       "    }\n",
       "\n",
       "    .dataframe tbody tr th {\n",
       "        vertical-align: top;\n",
       "    }\n",
       "\n",
       "    .dataframe thead th {\n",
       "        text-align: right;\n",
       "    }\n",
       "</style>\n",
       "<table border=\"1\" class=\"dataframe\">\n",
       "  <thead>\n",
       "    <tr style=\"text-align: right;\">\n",
       "      <th></th>\n",
       "      <th>categoria</th>\n",
       "      <th>conteo</th>\n",
       "    </tr>\n",
       "  </thead>\n",
       "  <tbody>\n",
       "    <tr>\n",
       "      <th>0</th>\n",
       "      <td>gas_transport</td>\n",
       "      <td>131659</td>\n",
       "    </tr>\n",
       "    <tr>\n",
       "      <th>1</th>\n",
       "      <td>grocery_pos</td>\n",
       "      <td>123638</td>\n",
       "    </tr>\n",
       "    <tr>\n",
       "      <th>2</th>\n",
       "      <td>home</td>\n",
       "      <td>123115</td>\n",
       "    </tr>\n",
       "    <tr>\n",
       "      <th>3</th>\n",
       "      <td>shopping_pos</td>\n",
       "      <td>116672</td>\n",
       "    </tr>\n",
       "    <tr>\n",
       "      <th>4</th>\n",
       "      <td>kids_pets</td>\n",
       "      <td>113035</td>\n",
       "    </tr>\n",
       "  </tbody>\n",
       "</table>\n",
       "</div>"
      ],
      "text/plain": [
       "       categoria  conteo\n",
       "0  gas_transport  131659\n",
       "1    grocery_pos  123638\n",
       "2           home  123115\n",
       "3   shopping_pos  116672\n",
       "4      kids_pets  113035"
      ]
     },
     "execution_count": 96,
     "metadata": {},
     "output_type": "execute_result"
    }
   ],
   "source": [
    "# Las 5 categorías mas destacadas\n",
    "categoria_df.head()"
   ]
  },
  {
   "cell_type": "code",
   "execution_count": null,
   "metadata": {},
   "outputs": [],
   "source": []
  },
  {
   "cell_type": "code",
   "execution_count": null,
   "metadata": {},
   "outputs": [],
   "source": []
  },
  {
   "cell_type": "code",
   "execution_count": null,
   "metadata": {},
   "outputs": [],
   "source": []
  },
  {
   "cell_type": "markdown",
   "metadata": {},
   "source": [
    "Esta celda esperar hasta el analisis de tiempo"
   ]
  },
  {
   "cell_type": "code",
   "execution_count": null,
   "metadata": {},
   "outputs": [],
   "source": [
    "# Calcula la fecha minima\n",
    "fecha_minima = df['fecha_hora_transaccion'].min()\n",
    "\n",
    "# Calcula la fecha Maxima\n",
    "fecha_maxima = df['fecha_hora_transaccion'].max()\n",
    "\n",
    "# Calcula cantidad de días entre los fechas max y min\n",
    "periodo_transacciones = abs(fecha_minima - fecha_maxima)\n",
    "\n",
    "# Calcula el tiempo aproximado en días\n",
    "periodo_transacciones_año = periodo_transacciones.days / 365\n",
    "\n",
    "# Imprime por pantalla los resultados\n",
    "print(f'La fecha minima es: {fecha_minina}')\n",
    "print(f'La fecha maxima es: {fecha_maxima}')\n",
    "print(f'Cantidad de dias: {periodo_transacciones}')\n",
    "print(f'El periodo de transacciones analizadas es aproximado: {round(periodo_transacciones_año, 2)} años')"
   ]
  },
  {
   "cell_type": "markdown",
   "metadata": {},
   "source": [
    "***\n",
    "***"
   ]
  },
  {
   "cell_type": "markdown",
   "metadata": {},
   "source": [
    "## **Fraude vs No Fraude:**"
   ]
  },
  {
   "cell_type": "code",
   "execution_count": 36,
   "metadata": {},
   "outputs": [
    {
     "data": {
      "text/html": [
       "<div>\n",
       "<style scoped>\n",
       "    .dataframe tbody tr th:only-of-type {\n",
       "        vertical-align: middle;\n",
       "    }\n",
       "\n",
       "    .dataframe tbody tr th {\n",
       "        vertical-align: top;\n",
       "    }\n",
       "\n",
       "    .dataframe thead th {\n",
       "        text-align: right;\n",
       "    }\n",
       "</style>\n",
       "<table border=\"1\" class=\"dataframe\">\n",
       "  <thead>\n",
       "    <tr style=\"text-align: right;\">\n",
       "      <th></th>\n",
       "      <th>Fraude</th>\n",
       "      <th>Conteo</th>\n",
       "    </tr>\n",
       "  </thead>\n",
       "  <tbody>\n",
       "    <tr>\n",
       "      <th>0</th>\n",
       "      <td>0</td>\n",
       "      <td>1289169</td>\n",
       "    </tr>\n",
       "    <tr>\n",
       "      <th>1</th>\n",
       "      <td>1</td>\n",
       "      <td>7506</td>\n",
       "    </tr>\n",
       "  </tbody>\n",
       "</table>\n",
       "</div>"
      ],
      "text/plain": [
       "   Fraude   Conteo\n",
       "0       0  1289169\n",
       "1       1     7506"
      ]
     },
     "execution_count": 36,
     "metadata": {},
     "output_type": "execute_result"
    }
   ],
   "source": [
    "df_fraude_conteo = df['es_fraude'].value_counts()\n",
    "df_fraude_no_fraude = df_fraude_conteo.reset_index()\n",
    "df_fraude_no_fraude.columns = ['Fraude', 'Conteo']\n",
    "df_fraude_no_fraude.head()"
   ]
  },
  {
   "cell_type": "code",
   "execution_count": 40,
   "metadata": {},
   "outputs": [
    {
     "data": {
      "image/png": "[encoded data removed]",
      "text/plain": [
       "<Figure size 1000x600 with 1 Axes>"
      ]
     },
     "metadata": {},
     "output_type": "display_data"
    }
   ],
   "source": [
    "# Ajustar el tamaño de la figura\n",
    "plt.figure(figsize=(10,6))\n",
    "\n",
    "# Crear gráfico de barras\n",
    "plt.bar(df_fraude_no_fraude['Fraude'], df_fraude_no_fraude['Conteo'])\n",
    "plt.xticks(ticks=[0, 1], labels=['No Fraude', 'Fraude'])\n",
    "# Personalización del gráfico\n",
    "plt.title('Diferencia entre Fraude Vs No Fraude')\n",
    "plt.xlabel('Tipo de Transacción')\n",
    "plt.ylabel('Cantidad de Transacciones')\n",
    "\n",
    "# Mostrar el gráfico\n",
    "plt.show()"
   ]
  },
  {
   "cell_type": "code",
   "execution_count": 34,
   "metadata": {},
   "outputs": [
    {
     "data": {
      "text/plain": [
       "Index(['es_fraude', 'count'], dtype='object')"
      ]
     },
     "execution_count": 34,
     "metadata": {},
     "output_type": "execute_result"
    }
   ],
   "source": [
    "df_fraude_no_fraude.columns"
   ]
  },
  {
   "cell_type": "code",
   "execution_count": 19,
   "metadata": {},
   "outputs": [],
   "source": [
    "df_fraude = df[df['es_fraude'] == 1]"
   ]
  },
  {
   "cell_type": "code",
   "execution_count": 20,
   "metadata": {},
   "outputs": [],
   "source": [
    "df_no_fraude = df[df['es_fraude'] == 0]"
   ]
  },
  {
   "cell_type": "code",
   "execution_count": null,
   "metadata": {},
   "outputs": [],
   "source": []
  }
 ],
 "metadata": {
  "kernelspec": {
   "display_name": "Python 3",
   "language": "python",
   "name": "python3"
  },
  "language_info": {
   "codemirror_mode": {
    "name": "ipython",
    "version": 3
   },
   "file_extension": ".py",
   "mimetype": "text/x-python",
   "name": "python",
   "nbconvert_exporter": "python",
   "pygments_lexer": "ipython3",
   "version": "3.11.6"
  }
 },
 "nbformat": 4,
 "nbformat_minor": 2
}
